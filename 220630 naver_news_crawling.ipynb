{
 "cells": [
  {
   "cell_type": "markdown",
   "metadata": {},
   "source": [
    "## 구글드라이브 마운팅"
   ]
  },
  {
   "cell_type": "code",
   "execution_count": 2,
   "metadata": {
    "ExecuteTime": {
     "end_time": "2022-06-29T10:17:13.212047Z",
     "start_time": "2022-06-29T10:17:13.196427Z"
    },
    "colab": {
     "base_uri": "https://localhost:8080/"
    },
    "id": "7LZIRpyquOCZ",
    "outputId": "661f50ac-af53-4a31-c513-0198c1b8afab"
   },
   "outputs": [],
   "source": [
    "# from google.colab import drive\n",
    "# drive.mount('/content/drive')"
   ]
  },
  {
   "cell_type": "markdown",
   "metadata": {},
   "source": [
    "## 셀레니움 실행"
   ]
  },
  {
   "cell_type": "code",
   "execution_count": 3,
   "metadata": {
    "ExecuteTime": {
     "end_time": "2022-06-29T10:17:13.615612Z",
     "start_time": "2022-06-29T10:17:13.610590Z"
    },
    "colab": {
     "base_uri": "https://localhost:8080/",
     "height": 1000
    },
    "id": "MWrCGKt8uRLl",
    "outputId": "79e8360e-35fd-43b9-9b35-3cd725e71d1b"
   },
   "outputs": [],
   "source": [
    "# # colab에서 셀레니움 실행하기\n",
    "# !pip install selenium\n",
    "# !apt-get update\n",
    "# !apt install chromium-chromedriver\n",
    "# !cp /usr/lib/chromium-browser/chromedriver /usr/bin"
   ]
  },
  {
   "cell_type": "code",
   "execution_count": 4,
   "metadata": {
    "ExecuteTime": {
     "end_time": "2022-06-29T10:17:13.801802Z",
     "start_time": "2022-06-29T10:17:13.795784Z"
    },
    "id": "Ia0jUYVyxdUO"
   },
   "outputs": [],
   "source": [
    "# # 런타임 재시작\n",
    "# import os\n",
    "# os.kill(os.getpid(), 9)"
   ]
  },
  {
   "cell_type": "markdown",
   "metadata": {},
   "source": [
    "## 모듈 import"
   ]
  },
  {
   "cell_type": "code",
   "execution_count": 1,
   "metadata": {
    "ExecuteTime": {
     "end_time": "2022-06-30T01:00:35.345790Z",
     "start_time": "2022-06-30T01:00:34.360986Z"
    },
    "id": "YCJeoWLRtLvK"
   },
   "outputs": [],
   "source": [
    "# 모듈 import\n",
    "import time\n",
    "import sys \n",
    "import os \n",
    "import re\n",
    "import pdb\n",
    "\n",
    "import pandas as pd\n",
    "import numpy as np\n",
    "\n",
    "from selenium import webdriver \n",
    "from selenium.webdriver.common.keys import Keys\n",
    "\n",
    "from datetime import datetime, timedelta\n",
    "\n",
    "import warnings\n",
    "warnings.filterwarnings('ignore')"
   ]
  },
  {
   "cell_type": "markdown",
   "metadata": {},
   "source": [
    "## path 설정"
   ]
  },
  {
   "cell_type": "code",
   "execution_count": 42,
   "metadata": {
    "ExecuteTime": {
     "end_time": "2022-06-29T10:22:47.524408Z",
     "start_time": "2022-06-29T10:22:47.515283Z"
    },
    "id": "VtOMHFocuLDt"
   },
   "outputs": [],
   "source": [
    "# 코랩\n",
    "# driver_path = \"/content/drive/My Drive/projects/NLP-StockMarket/chromedriver.exe\"\n",
    "# csv_path = \"/content/drive/My Drive/projects/NLP-StockMarket/\"\n",
    "# os.chdir(csv_path)"
   ]
  },
  {
   "cell_type": "code",
   "execution_count": 12,
   "metadata": {
    "ExecuteTime": {
     "end_time": "2022-06-30T01:00:49.862299Z",
     "start_time": "2022-06-30T01:00:49.848340Z"
    }
   },
   "outputs": [],
   "source": [
    "# 주피터\n",
    "driver_path = \"C:/chromedriver.exe\"\n",
    "csv_path = \"C:/users/user/\"\n",
    "\n",
    "os.chdir(csv_path)"
   ]
  },
  {
   "cell_type": "code",
   "execution_count": 44,
   "metadata": {
    "ExecuteTime": {
     "end_time": "2022-06-29T10:22:47.894422Z",
     "start_time": "2022-06-29T10:22:47.882933Z"
    },
    "colab": {
     "base_uri": "https://localhost:8080/"
    },
    "id": "UJZAUXIKsElj",
    "outputId": "5f18b973-a360-42df-bf22-99841a15f740"
   },
   "outputs": [],
   "source": [
    "# #Colab에선 웹브라우저 창이 뜨지 않으므로 별도 설정한다.\n",
    "# options = webdriver.ChromeOptions()\n",
    "# options.add_argument('--headless')        # Head-less 설정\n",
    "# options.add_argument('--no-sandbox')\n",
    "# options.add_argument('--disable-dev-shm-usage')\n",
    "# driver = webdriver.Chrome('chromedriver', options=options)"
   ]
  },
  {
   "cell_type": "markdown",
   "metadata": {},
   "source": [
    "## 기간 설정"
   ]
  },
  {
   "cell_type": "code",
   "execution_count": 6,
   "metadata": {
    "ExecuteTime": {
     "end_time": "2022-06-30T01:00:42.799243Z",
     "start_time": "2022-06-30T01:00:42.783995Z"
    }
   },
   "outputs": [],
   "source": [
    "def date_range(start, end):\n",
    "    start = datetime.strptime(start, \"%Y%m%d\")\n",
    "    end = datetime.strptime(end, \"%Y%m%d\")\n",
    "    dates = [(start + timedelta(days=i)).strftime(\"%Y%m%d\") for i in range((end-start).days+1)]\n",
    "    return dates"
   ]
  },
  {
   "cell_type": "code",
   "execution_count": 46,
   "metadata": {
    "ExecuteTime": {
     "end_time": "2022-06-29T10:22:49.718251Z",
     "start_time": "2022-06-29T10:22:49.705252Z"
    }
   },
   "outputs": [],
   "source": [
    "# test\n",
    "# input_date_list = date_range(\"20210101\", \"20210102\")\n",
    "# input_date_list"
   ]
  },
  {
   "cell_type": "markdown",
   "metadata": {},
   "source": [
    "## 경제홈의 증권 뉴스"
   ]
  },
  {
   "cell_type": "code",
   "execution_count": 17,
   "metadata": {
    "ExecuteTime": {
     "end_time": "2022-06-30T01:02:21.568397Z",
     "start_time": "2022-06-30T01:02:21.552439Z"
    },
    "colab": {
     "base_uri": "https://localhost:8080/"
    },
    "id": "UJZAUXIKsElj",
    "outputId": "5f18b973-a360-42df-bf22-99841a15f740"
   },
   "outputs": [],
   "source": [
    "def article_Scraping():\n",
    "    input_date_list = date_range(start, end)\n",
    "    article_title_list = []\n",
    "    article_date_list = []\n",
    "    cols = ['Data', 'Title']\n",
    "    driver = webdriver.Chrome(driver_path)\n",
    "    result_df = pd.DataFrame(columns = cols)\n",
    "\n",
    "    for date in input_date_list:\n",
    "        past_li = []\n",
    "        page_cnt = 1\n",
    "        while True :\n",
    "            li = []\n",
    "            driver.get(f'https://news.naver.com/main/list.naver?mode=LS2D&sid2=258&sid1=101&mid=shm&date={date}&page={page_cnt}')\n",
    "            time.sleep(0.5)\n",
    "            articles1 = driver.find_elements_by_css_selector(f'.type06 > li > dl > dt > a')\n",
    "            articles2 = driver.find_elements_by_css_selector(f'.type06_headline > li > dl > dt > a')\n",
    "            articles_li = [articles1, articles2]\n",
    "            time.sleep(1)\n",
    "            for articles in articles_li:\n",
    "                for article in articles:\n",
    "                    if article.text == '동영상기사':\n",
    "                        pass\n",
    "                    elif len(article.text) != 0:\n",
    "                        article_date_list.append(date)\n",
    "                        article_title_list.append(article.text)\n",
    "                    li.append(article.text)\n",
    "#                     pdb.set_trace()\n",
    "                        \n",
    "            time.sleep(0.5)\n",
    "            \n",
    "            if past_li == li :\n",
    "                break\n",
    "            else :\n",
    "                past_li = li\n",
    "                page_cnt += 1\n",
    "            if len(li) < NEWS_MAX_CNT :\n",
    "                break\n",
    "                \n",
    "        crawling_df = pd.DataFrame(list(zip(article_date_list, article_title_list)), columns = cols)\n",
    "        crawling_df.drop_duplicates(['Title'], keep='first', inplace=True)\n",
    "    driver.quit()\n",
    "    result_df = pd.concat([result_df, crawling_df])\n",
    "    result_df.drop_duplicates(['Title'], keep='first', inplace=True)\n",
    "    return result_df"
   ]
  },
  {
   "cell_type": "code",
   "execution_count": 18,
   "metadata": {
    "ExecuteTime": {
     "end_time": "2022-06-30T01:02:21.956101Z",
     "start_time": "2022-06-30T01:02:21.952111Z"
    }
   },
   "outputs": [],
   "source": [
    "NEWS_MAX_CNT = 20"
   ]
  },
  {
   "cell_type": "code",
   "execution_count": 19,
   "metadata": {
    "ExecuteTime": {
     "end_time": "2022-06-30T01:02:22.728439Z",
     "start_time": "2022-06-30T01:02:22.712508Z"
    }
   },
   "outputs": [],
   "source": [
    "start = \"20220101\"\n",
    "end = \"20220531\""
   ]
  },
  {
   "cell_type": "code",
   "execution_count": 20,
   "metadata": {
    "ExecuteTime": {
     "end_time": "2022-06-30T05:35:30.838412Z",
     "start_time": "2022-06-30T01:02:23.288863Z"
    },
    "colab": {
     "base_uri": "https://localhost:8080/"
    },
    "id": "UJZAUXIKsElj",
    "outputId": "5f18b973-a360-42df-bf22-99841a15f740",
    "scrolled": true
   },
   "outputs": [
    {
     "data": {
      "text/html": [
       "<div>\n",
       "<style scoped>\n",
       "    .dataframe tbody tr th:only-of-type {\n",
       "        vertical-align: middle;\n",
       "    }\n",
       "\n",
       "    .dataframe tbody tr th {\n",
       "        vertical-align: top;\n",
       "    }\n",
       "\n",
       "    .dataframe thead th {\n",
       "        text-align: right;\n",
       "    }\n",
       "</style>\n",
       "<table border=\"1\" class=\"dataframe\">\n",
       "  <thead>\n",
       "    <tr style=\"text-align: right;\">\n",
       "      <th></th>\n",
       "      <th>Data</th>\n",
       "      <th>Title</th>\n",
       "    </tr>\n",
       "  </thead>\n",
       "  <tbody>\n",
       "    <tr>\n",
       "      <th>0</th>\n",
       "      <td>20220101</td>\n",
       "      <td>1월엔 어떤株 사야하나</td>\n",
       "    </tr>\n",
       "    <tr>\n",
       "      <th>1</th>\n",
       "      <td>20220101</td>\n",
       "      <td>[마켓워치] 새해 첫 주 미국 고용지표 관심, 국내는 종부세 경감안 나올 듯</td>\n",
       "    </tr>\n",
       "    <tr>\n",
       "      <th>2</th>\n",
       "      <td>20220101</td>\n",
       "      <td>소재부터 친환경까지…기업가치 120兆 넘보는 SK</td>\n",
       "    </tr>\n",
       "    <tr>\n",
       "      <th>3</th>\n",
       "      <td>20220101</td>\n",
       "      <td>한 달새 10%뛴 항공株, 오미크론에도 반등 신호</td>\n",
       "    </tr>\n",
       "    <tr>\n",
       "      <th>4</th>\n",
       "      <td>20220101</td>\n",
       "      <td>[주간 추천주] \"IT·모빌리티에 관심\"…LG이노텍·SK이노 '러브콜'</td>\n",
       "    </tr>\n",
       "    <tr>\n",
       "      <th>...</th>\n",
       "      <td>...</td>\n",
       "      <td>...</td>\n",
       "    </tr>\n",
       "    <tr>\n",
       "      <th>110436</th>\n",
       "      <td>20220531</td>\n",
       "      <td>연말 부실금융기관 딱지 붙을라…보험사 노심초사</td>\n",
       "    </tr>\n",
       "    <tr>\n",
       "      <th>110437</th>\n",
       "      <td>20220531</td>\n",
       "      <td>[머니 컨설팅]금리인상기엔 ELS-국채 투자 고려를</td>\n",
       "    </tr>\n",
       "    <tr>\n",
       "      <th>110438</th>\n",
       "      <td>20220531</td>\n",
       "      <td>[주요경제지표] 2022년 5월 30일자</td>\n",
       "    </tr>\n",
       "    <tr>\n",
       "      <th>110439</th>\n",
       "      <td>20220531</td>\n",
       "      <td>[주식 매매 상위 종목 및 환율] 2022년 5월 30일자</td>\n",
       "    </tr>\n",
       "    <tr>\n",
       "      <th>110441</th>\n",
       "      <td>20220531</td>\n",
       "      <td>실적 회복 확실시?…카지노株 주목도 'UP'</td>\n",
       "    </tr>\n",
       "  </tbody>\n",
       "</table>\n",
       "<p>103527 rows × 2 columns</p>\n",
       "</div>"
      ],
      "text/plain": [
       "            Data                                       Title\n",
       "0       20220101                                1월엔 어떤株 사야하나\n",
       "1       20220101  [마켓워치] 새해 첫 주 미국 고용지표 관심, 국내는 종부세 경감안 나올 듯\n",
       "2       20220101                 소재부터 친환경까지…기업가치 120兆 넘보는 SK\n",
       "3       20220101                 한 달새 10%뛴 항공株, 오미크론에도 반등 신호\n",
       "4       20220101     [주간 추천주] \"IT·모빌리티에 관심\"…LG이노텍·SK이노 '러브콜'\n",
       "...          ...                                         ...\n",
       "110436  20220531                   연말 부실금융기관 딱지 붙을라…보험사 노심초사\n",
       "110437  20220531                [머니 컨설팅]금리인상기엔 ELS-국채 투자 고려를\n",
       "110438  20220531                      [주요경제지표] 2022년 5월 30일자\n",
       "110439  20220531            [주식 매매 상위 종목 및 환율] 2022년 5월 30일자\n",
       "110441  20220531                    실적 회복 확실시?…카지노株 주목도 'UP'\n",
       "\n",
       "[103527 rows x 2 columns]"
      ]
     },
     "execution_count": 20,
     "metadata": {},
     "output_type": "execute_result"
    }
   ],
   "source": [
    "result_df = article_Scraping()\n",
    "result_df"
   ]
  },
  {
   "cell_type": "code",
   "execution_count": 25,
   "metadata": {
    "ExecuteTime": {
     "end_time": "2022-06-30T06:41:40.131980Z",
     "start_time": "2022-06-30T06:41:39.918931Z"
    }
   },
   "outputs": [],
   "source": [
    "# result_df.to_csv('naver_news_crawling_20210101to20211231.csv')\n",
    "result_df.to_csv('naver_news_crawling_20220101to20220531.csv', encoding = 'utf-8-sig')"
   ]
  },
  {
   "cell_type": "markdown",
   "metadata": {},
   "source": [
    "## 증권 홈 뉴스"
   ]
  },
  {
   "cell_type": "code",
   "execution_count": 145,
   "metadata": {
    "ExecuteTime": {
     "end_time": "2022-06-27T13:48:16.063261Z",
     "start_time": "2022-06-27T13:48:16.042025Z"
    }
   },
   "outputs": [],
   "source": [
    "def article_Scraping2():\n",
    "    input_date_list = date_range(\"20210101\", \"20211231\")\n",
    "    article_title_list = []\n",
    "    article_date_list = []\n",
    "    cols = ['Data', 'news_title']\n",
    "    driver = webdriver.Chrome(driver_path)\n",
    "    result_df = pd.DataFrame(columns = cols)\n",
    "    for date in input_date_list:\n",
    "        for page in range(1, 16):  # 최대 15(아마도?)하고 중복된 항목 제거필요\n",
    "#         for page in range(1, 5):\n",
    "            try:\n",
    "                driver.get(f'https://finance.naver.com/news/news_list.naver?mode=LSS3D&section_id=101&section_id2=258&section_id3=402&date={date}&page={page}')\n",
    "                time.sleep(0.5)\n",
    "                articles = driver.find_elements_by_css_selector(f'.articleSubject > a')\n",
    "                time.sleep(1)\n",
    "                for article in articles:\n",
    "                    if article.text == '동영상기사':\n",
    "                        pass\n",
    "                    elif len(article.text) != 0:\n",
    "                        article_date_list.append(date)\n",
    "                        article_title_list.append(article.text)                \n",
    "            except:\n",
    "                pass\n",
    "        crawling_df = pd.DataFrame(list(zip(article_date_list, article_title_list)), columns = cols)\n",
    "        crawling_df.drop_duplicates(['news_title'], keep='first', inplace=True)\n",
    "    driver.quit()\n",
    "    result_df = pd.concat([result_df, crawling_df])\n",
    "    result_df.drop_duplicates(['news_title'], keep='first', inplace=True)\n",
    "    return result_df"
   ]
  },
  {
   "cell_type": "code",
   "execution_count": 146,
   "metadata": {
    "ExecuteTime": {
     "end_time": "2022-06-27T13:48:40.796302Z",
     "start_time": "2022-06-27T13:48:17.013585Z"
    }
   },
   "outputs": [
    {
     "data": {
      "text/html": [
       "<div>\n",
       "<style scoped>\n",
       "    .dataframe tbody tr th:only-of-type {\n",
       "        vertical-align: middle;\n",
       "    }\n",
       "\n",
       "    .dataframe tbody tr th {\n",
       "        vertical-align: top;\n",
       "    }\n",
       "\n",
       "    .dataframe thead th {\n",
       "        text-align: right;\n",
       "    }\n",
       "</style>\n",
       "<table border=\"1\" class=\"dataframe\">\n",
       "  <thead>\n",
       "    <tr style=\"text-align: right;\">\n",
       "      <th></th>\n",
       "      <th>Date</th>\n",
       "      <th>Title</th>\n",
       "    </tr>\n",
       "  </thead>\n",
       "  <tbody>\n",
       "    <tr>\n",
       "      <th>0</th>\n",
       "      <td>20220626</td>\n",
       "      <td>\"쪼개기 상장 피해 없게\" 주주 보호 대책 쏟아내는 기업들</td>\n",
       "    </tr>\n",
       "    <tr>\n",
       "      <th>1</th>\n",
       "      <td>20220626</td>\n",
       "      <td>하나금융투자, 하나증권으로 새출발</td>\n",
       "    </tr>\n",
       "    <tr>\n",
       "      <th>2</th>\n",
       "      <td>20220626</td>\n",
       "      <td>환노출 ETF “强달러 덕봤다”</td>\n",
       "    </tr>\n",
       "    <tr>\n",
       "      <th>3</th>\n",
       "      <td>20220626</td>\n",
       "      <td>외국인 탈출에 반대매매 가중... 실물지표 따라 변동성 커질듯 [주간 증시 전망]</td>\n",
       "    </tr>\n",
       "    <tr>\n",
       "      <th>4</th>\n",
       "      <td>20220626</td>\n",
       "      <td>네이버·카카오 성장성에 베팅… 우량채로 리스크 관리까지 [이런 펀드 어때요?]</td>\n",
       "    </tr>\n",
       "    <tr>\n",
       "      <th>...</th>\n",
       "      <td>...</td>\n",
       "      <td>...</td>\n",
       "    </tr>\n",
       "    <tr>\n",
       "      <th>102</th>\n",
       "      <td>20220627</td>\n",
       "      <td>NCT 127, 日 첫 돔투어 화려한 피날레 '총 22만 관객 동원'</td>\n",
       "    </tr>\n",
       "    <tr>\n",
       "      <th>103</th>\n",
       "      <td>20220627</td>\n",
       "      <td>'1위' 와이너리와 보틀벙커가 만났다…트라피체 시음 행사</td>\n",
       "    </tr>\n",
       "    <tr>\n",
       "      <th>104</th>\n",
       "      <td>20220627</td>\n",
       "      <td>신재생에너지 바람에도 원전주 '강세'…왜?</td>\n",
       "    </tr>\n",
       "    <tr>\n",
       "      <th>105</th>\n",
       "      <td>20220627</td>\n",
       "      <td>DB금융투자 \"고물가에 투자 대안은 배당…KT&amp;G 등 배당귀족주\"</td>\n",
       "    </tr>\n",
       "    <tr>\n",
       "      <th>106</th>\n",
       "      <td>20220627</td>\n",
       "      <td>미래에셋증권, 구글클라우드와 빅데이터 페스티벌 공동 개최</td>\n",
       "    </tr>\n",
       "  </tbody>\n",
       "</table>\n",
       "<p>107 rows × 2 columns</p>\n",
       "</div>"
      ],
      "text/plain": [
       "         Date                                          Title\n",
       "0    20220626               \"쪼개기 상장 피해 없게\" 주주 보호 대책 쏟아내는 기업들\n",
       "1    20220626                             하나금융투자, 하나증권으로 새출발\n",
       "2    20220626                              환노출 ETF “强달러 덕봤다”\n",
       "3    20220626  외국인 탈출에 반대매매 가중... 실물지표 따라 변동성 커질듯 [주간 증시 전망]\n",
       "4    20220626    네이버·카카오 성장성에 베팅… 우량채로 리스크 관리까지 [이런 펀드 어때요?]\n",
       "..        ...                                            ...\n",
       "102  20220627         NCT 127, 日 첫 돔투어 화려한 피날레 '총 22만 관객 동원'\n",
       "103  20220627                '1위' 와이너리와 보틀벙커가 만났다…트라피체 시음 행사\n",
       "104  20220627                        신재생에너지 바람에도 원전주 '강세'…왜?\n",
       "105  20220627           DB금융투자 \"고물가에 투자 대안은 배당…KT&G 등 배당귀족주\"\n",
       "106  20220627                미래에셋증권, 구글클라우드와 빅데이터 페스티벌 공동 개최\n",
       "\n",
       "[107 rows x 2 columns]"
      ]
     },
     "execution_count": 146,
     "metadata": {},
     "output_type": "execute_result"
    }
   ],
   "source": [
    "result_df2 = article_Scraping2()\n",
    "result_df2"
   ]
  },
  {
   "cell_type": "code",
   "execution_count": null,
   "metadata": {},
   "outputs": [],
   "source": []
  },
  {
   "cell_type": "code",
   "execution_count": null,
   "metadata": {},
   "outputs": [],
   "source": []
  },
  {
   "cell_type": "code",
   "execution_count": null,
   "metadata": {},
   "outputs": [],
   "source": []
  },
  {
   "cell_type": "code",
   "execution_count": null,
   "metadata": {},
   "outputs": [],
   "source": []
  },
  {
   "cell_type": "code",
   "execution_count": 22,
   "metadata": {
    "ExecuteTime": {
     "end_time": "2022-06-30T06:39:56.522294Z",
     "start_time": "2022-06-30T06:39:56.144813Z"
    }
   },
   "outputs": [
    {
     "data": {
      "text/html": [
       "<div>\n",
       "<style scoped>\n",
       "    .dataframe tbody tr th:only-of-type {\n",
       "        vertical-align: middle;\n",
       "    }\n",
       "\n",
       "    .dataframe tbody tr th {\n",
       "        vertical-align: top;\n",
       "    }\n",
       "\n",
       "    .dataframe thead th {\n",
       "        text-align: right;\n",
       "    }\n",
       "</style>\n",
       "<table border=\"1\" class=\"dataframe\">\n",
       "  <thead>\n",
       "    <tr style=\"text-align: right;\">\n",
       "      <th></th>\n",
       "      <th>Data</th>\n",
       "      <th>news_title</th>\n",
       "    </tr>\n",
       "  </thead>\n",
       "  <tbody>\n",
       "    <tr>\n",
       "      <th>0</th>\n",
       "      <td>20210101</td>\n",
       "      <td>서학개미 사로잡은 美 ESG ETF, 올해도 高高할까</td>\n",
       "    </tr>\n",
       "    <tr>\n",
       "      <th>1</th>\n",
       "      <td>20210101</td>\n",
       "      <td>목표가 속속 100만원대…`흥`오른 삼성바이오로직스</td>\n",
       "    </tr>\n",
       "    <tr>\n",
       "      <th>2</th>\n",
       "      <td>20210101</td>\n",
       "      <td>신생 PEF운용사 `안타` 떡볶이업체 SJ코레 사들여 1년만에 매각…80억 차익</td>\n",
       "    </tr>\n",
       "    <tr>\n",
       "      <th>3</th>\n",
       "      <td>20210101</td>\n",
       "      <td>삼성전자 신고가 랠리…'9만전자' 가능할까</td>\n",
       "    </tr>\n",
       "    <tr>\n",
       "      <th>4</th>\n",
       "      <td>20210101</td>\n",
       "      <td>작년 매출 신기록 쓴 카카오·엔씨…\"올해 더 좋다\"</td>\n",
       "    </tr>\n",
       "    <tr>\n",
       "      <th>...</th>\n",
       "      <td>...</td>\n",
       "      <td>...</td>\n",
       "    </tr>\n",
       "    <tr>\n",
       "      <th>451345</th>\n",
       "      <td>20211231</td>\n",
       "      <td>이달만 6000억 샀다…'박스피'에 지친 개미들 몰린 '이곳'</td>\n",
       "    </tr>\n",
       "    <tr>\n",
       "      <th>451346</th>\n",
       "      <td>20211231</td>\n",
       "      <td>불타오른 IPO 시장…내년 대어급 총출동에 기대↑</td>\n",
       "    </tr>\n",
       "    <tr>\n",
       "      <th>451347</th>\n",
       "      <td>20211231</td>\n",
       "      <td>올해초 수준 회복 못하고 마무리한 낙폭과대株는?</td>\n",
       "    </tr>\n",
       "    <tr>\n",
       "      <th>451348</th>\n",
       "      <td>20211231</td>\n",
       "      <td>유럽 증시, 산타 랠리 기대감으로 상승 마감</td>\n",
       "    </tr>\n",
       "    <tr>\n",
       "      <th>451349</th>\n",
       "      <td>20211231</td>\n",
       "      <td>[주요경제지표] 2021년 12월 30일자</td>\n",
       "    </tr>\n",
       "  </tbody>\n",
       "</table>\n",
       "<p>282173 rows × 2 columns</p>\n",
       "</div>"
      ],
      "text/plain": [
       "            Data                                    news_title\n",
       "0       20210101                 서학개미 사로잡은 美 ESG ETF, 올해도 高高할까\n",
       "1       20210101                  목표가 속속 100만원대…`흥`오른 삼성바이오로직스\n",
       "2       20210101  신생 PEF운용사 `안타` 떡볶이업체 SJ코레 사들여 1년만에 매각…80억 차익\n",
       "3       20210101                       삼성전자 신고가 랠리…'9만전자' 가능할까\n",
       "4       20210101                  작년 매출 신기록 쓴 카카오·엔씨…\"올해 더 좋다\"\n",
       "...          ...                                           ...\n",
       "451345  20211231            이달만 6000억 샀다…'박스피'에 지친 개미들 몰린 '이곳'\n",
       "451346  20211231                   불타오른 IPO 시장…내년 대어급 총출동에 기대↑\n",
       "451347  20211231                    올해초 수준 회복 못하고 마무리한 낙폭과대株는?\n",
       "451348  20211231                      유럽 증시, 산타 랠리 기대감으로 상승 마감\n",
       "451349  20211231                       [주요경제지표] 2021년 12월 30일자\n",
       "\n",
       "[282173 rows x 2 columns]"
      ]
     },
     "execution_count": 22,
     "metadata": {},
     "output_type": "execute_result"
    }
   ],
   "source": [
    "new_df = pd.read_csv('naver_news_crawling_20210101to20211231.csv', index_col=0, encoding = 'utf-8-sig')\n",
    "new_df"
   ]
  },
  {
   "cell_type": "code",
   "execution_count": 23,
   "metadata": {
    "ExecuteTime": {
     "end_time": "2022-06-30T06:40:35.558119Z",
     "start_time": "2022-06-30T06:40:35.545101Z"
    }
   },
   "outputs": [
    {
     "data": {
      "text/html": [
       "<div>\n",
       "<style scoped>\n",
       "    .dataframe tbody tr th:only-of-type {\n",
       "        vertical-align: middle;\n",
       "    }\n",
       "\n",
       "    .dataframe tbody tr th {\n",
       "        vertical-align: top;\n",
       "    }\n",
       "\n",
       "    .dataframe thead th {\n",
       "        text-align: right;\n",
       "    }\n",
       "</style>\n",
       "<table border=\"1\" class=\"dataframe\">\n",
       "  <thead>\n",
       "    <tr style=\"text-align: right;\">\n",
       "      <th></th>\n",
       "      <th>Date</th>\n",
       "      <th>Title</th>\n",
       "    </tr>\n",
       "  </thead>\n",
       "  <tbody>\n",
       "    <tr>\n",
       "      <th>0</th>\n",
       "      <td>20210101</td>\n",
       "      <td>서학개미 사로잡은 美 ESG ETF, 올해도 高高할까</td>\n",
       "    </tr>\n",
       "    <tr>\n",
       "      <th>1</th>\n",
       "      <td>20210101</td>\n",
       "      <td>목표가 속속 100만원대…`흥`오른 삼성바이오로직스</td>\n",
       "    </tr>\n",
       "    <tr>\n",
       "      <th>2</th>\n",
       "      <td>20210101</td>\n",
       "      <td>신생 PEF운용사 `안타` 떡볶이업체 SJ코레 사들여 1년만에 매각…80억 차익</td>\n",
       "    </tr>\n",
       "    <tr>\n",
       "      <th>3</th>\n",
       "      <td>20210101</td>\n",
       "      <td>삼성전자 신고가 랠리…'9만전자' 가능할까</td>\n",
       "    </tr>\n",
       "    <tr>\n",
       "      <th>4</th>\n",
       "      <td>20210101</td>\n",
       "      <td>작년 매출 신기록 쓴 카카오·엔씨…\"올해 더 좋다\"</td>\n",
       "    </tr>\n",
       "    <tr>\n",
       "      <th>...</th>\n",
       "      <td>...</td>\n",
       "      <td>...</td>\n",
       "    </tr>\n",
       "    <tr>\n",
       "      <th>451345</th>\n",
       "      <td>20211231</td>\n",
       "      <td>이달만 6000억 샀다…'박스피'에 지친 개미들 몰린 '이곳'</td>\n",
       "    </tr>\n",
       "    <tr>\n",
       "      <th>451346</th>\n",
       "      <td>20211231</td>\n",
       "      <td>불타오른 IPO 시장…내년 대어급 총출동에 기대↑</td>\n",
       "    </tr>\n",
       "    <tr>\n",
       "      <th>451347</th>\n",
       "      <td>20211231</td>\n",
       "      <td>올해초 수준 회복 못하고 마무리한 낙폭과대株는?</td>\n",
       "    </tr>\n",
       "    <tr>\n",
       "      <th>451348</th>\n",
       "      <td>20211231</td>\n",
       "      <td>유럽 증시, 산타 랠리 기대감으로 상승 마감</td>\n",
       "    </tr>\n",
       "    <tr>\n",
       "      <th>451349</th>\n",
       "      <td>20211231</td>\n",
       "      <td>[주요경제지표] 2021년 12월 30일자</td>\n",
       "    </tr>\n",
       "  </tbody>\n",
       "</table>\n",
       "<p>282173 rows × 2 columns</p>\n",
       "</div>"
      ],
      "text/plain": [
       "            Date                                         Title\n",
       "0       20210101                 서학개미 사로잡은 美 ESG ETF, 올해도 高高할까\n",
       "1       20210101                  목표가 속속 100만원대…`흥`오른 삼성바이오로직스\n",
       "2       20210101  신생 PEF운용사 `안타` 떡볶이업체 SJ코레 사들여 1년만에 매각…80억 차익\n",
       "3       20210101                       삼성전자 신고가 랠리…'9만전자' 가능할까\n",
       "4       20210101                  작년 매출 신기록 쓴 카카오·엔씨…\"올해 더 좋다\"\n",
       "...          ...                                           ...\n",
       "451345  20211231            이달만 6000억 샀다…'박스피'에 지친 개미들 몰린 '이곳'\n",
       "451346  20211231                   불타오른 IPO 시장…내년 대어급 총출동에 기대↑\n",
       "451347  20211231                    올해초 수준 회복 못하고 마무리한 낙폭과대株는?\n",
       "451348  20211231                      유럽 증시, 산타 랠리 기대감으로 상승 마감\n",
       "451349  20211231                       [주요경제지표] 2021년 12월 30일자\n",
       "\n",
       "[282173 rows x 2 columns]"
      ]
     },
     "execution_count": 23,
     "metadata": {},
     "output_type": "execute_result"
    }
   ],
   "source": [
    "new_df.columns = ['Date', 'Title']\n",
    "new_df"
   ]
  },
  {
   "cell_type": "code",
   "execution_count": 24,
   "metadata": {
    "ExecuteTime": {
     "end_time": "2022-06-30T06:41:13.483439Z",
     "start_time": "2022-06-30T06:41:12.936860Z"
    }
   },
   "outputs": [],
   "source": [
    "new_df.to_csv('naver_news_crawling_20210101to20211231_re.csv', encoding = 'utf-8-sig')"
   ]
  },
  {
   "cell_type": "code",
   "execution_count": null,
   "metadata": {},
   "outputs": [],
   "source": []
  }
 ],
 "metadata": {
  "colab": {
   "name": "220626_yt_crawling.ipynb",
   "provenance": []
  },
  "kernelspec": {
   "display_name": "Python 3 (ipykernel)",
   "language": "python",
   "name": "python3"
  },
  "language_info": {
   "codemirror_mode": {
    "name": "ipython",
    "version": 3
   },
   "file_extension": ".py",
   "mimetype": "text/x-python",
   "name": "python",
   "nbconvert_exporter": "python",
   "pygments_lexer": "ipython3",
   "version": "3.9.12"
  },
  "toc": {
   "base_numbering": 1,
   "nav_menu": {},
   "number_sections": true,
   "sideBar": true,
   "skip_h1_title": false,
   "title_cell": "Table of Contents",
   "title_sidebar": "Contents",
   "toc_cell": false,
   "toc_position": {},
   "toc_section_display": true,
   "toc_window_display": false
  },
  "varInspector": {
   "cols": {
    "lenName": 16,
    "lenType": 16,
    "lenVar": 40
   },
   "kernels_config": {
    "python": {
     "delete_cmd_postfix": "",
     "delete_cmd_prefix": "del ",
     "library": "var_list.py",
     "varRefreshCmd": "print(var_dic_list())"
    },
    "r": {
     "delete_cmd_postfix": ") ",
     "delete_cmd_prefix": "rm(",
     "library": "var_list.r",
     "varRefreshCmd": "cat(var_dic_list()) "
    }
   },
   "types_to_exclude": [
    "module",
    "function",
    "builtin_function_or_method",
    "instance",
    "_Feature"
   ],
   "window_display": false
  }
 },
 "nbformat": 4,
 "nbformat_minor": 1
}
