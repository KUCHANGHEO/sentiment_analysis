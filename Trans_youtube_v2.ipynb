{
 "cells": [
  {
   "cell_type": "code",
   "execution_count": 3,
   "id": "a9660767",
   "metadata": {},
   "outputs": [],
   "source": [
    "import pandas as pd\n",
    "import re"
   ]
  },
  {
   "cell_type": "code",
   "execution_count": 4,
   "id": "681e6c6d",
   "metadata": {},
   "outputs": [],
   "source": [
    "data = 'df_LG화학주식'"
   ]
  },
  {
   "cell_type": "code",
   "execution_count": 5,
   "id": "aa805e4d",
   "metadata": {},
   "outputs": [],
   "source": [
    "df = pd.read_csv(f'./youtube_df/{data}.csv',encoding=\"UTF-8-sig\",index_col=0)"
   ]
  },
  {
   "cell_type": "code",
   "execution_count": 8,
   "id": "3f7bdce3",
   "metadata": {},
   "outputs": [],
   "source": [
    "df.columns = ['Date','Title']"
   ]
  },
  {
   "cell_type": "code",
   "execution_count": 9,
   "id": "081cb676",
   "metadata": {
    "scrolled": true
   },
   "outputs": [
    {
     "data": {
      "text/html": [
       "<div>\n",
       "<style scoped>\n",
       "    .dataframe tbody tr th:only-of-type {\n",
       "        vertical-align: middle;\n",
       "    }\n",
       "\n",
       "    .dataframe tbody tr th {\n",
       "        vertical-align: top;\n",
       "    }\n",
       "\n",
       "    .dataframe thead th {\n",
       "        text-align: right;\n",
       "    }\n",
       "</style>\n",
       "<table border=\"1\" class=\"dataframe\">\n",
       "  <thead>\n",
       "    <tr style=\"text-align: right;\">\n",
       "      <th></th>\n",
       "      <th>Date</th>\n",
       "      <th>Title</th>\n",
       "    </tr>\n",
       "  </thead>\n",
       "  <tbody>\n",
       "    <tr>\n",
       "      <th>0</th>\n",
       "      <td>최초 공개: 2021. 8. 2.</td>\n",
       "      <td>LG화학 목표주가 110만원을 향해! 2차 전지 관련 전망은? | 염승환 이사 | ...</td>\n",
       "    </tr>\n",
       "    <tr>\n",
       "      <th>1</th>\n",
       "      <td>2022. 1. 13.</td>\n",
       "      <td>'주문금액만 1경 원' LG엔솔...뿔난 LG화학 소액주주들 / YTN</td>\n",
       "    </tr>\n",
       "    <tr>\n",
       "      <th>2</th>\n",
       "      <td>2021. 2. 22.</td>\n",
       "      <td>전기차 배터리 주식 팔아야 하나? LG화학, SK이노베이션이 합의하면 주가는 급등할...</td>\n",
       "    </tr>\n",
       "    <tr>\n",
       "      <th>3</th>\n",
       "      <td>최초 공개: 2021. 5. 26.</td>\n",
       "      <td>[국내 주식] 배터리 전력 리콜한 LG엔솔! LG화학 주가의 향방은?| 염승환 | ...</td>\n",
       "    </tr>\n",
       "    <tr>\n",
       "      <th>4</th>\n",
       "      <td>2022. 3. 23.</td>\n",
       "      <td>LG화학, 성난 주주 달래느라 '진땀'... 주가 부양책 보니 (20220323)</td>\n",
       "    </tr>\n",
       "    <tr>\n",
       "      <th>...</th>\n",
       "      <td>...</td>\n",
       "      <td>...</td>\n",
       "    </tr>\n",
       "    <tr>\n",
       "      <th>347</th>\n",
       "      <td>2022. 7. 1.</td>\n",
       "      <td>[우림피티에스] 삼성M&amp;A대장주! 사면 대박납니다! 우림피티에스 우림피티에스주가 우...</td>\n",
       "    </tr>\n",
       "    <tr>\n",
       "      <th>348</th>\n",
       "      <td>2022. 6. 25.</td>\n",
       "      <td>#에코프로비엠 #에코프로 #이수화학 #전고체배터리 #2차전지 #삼성SDI #폭스바겐...</td>\n",
       "    </tr>\n",
       "    <tr>\n",
       "      <th>349</th>\n",
       "      <td>2022. 7. 1.</td>\n",
       "      <td>[7월01일 윤정두의 주식투시경] 29회차 #기아 현대차 #현대모비스 #한국항공우주...</td>\n",
       "    </tr>\n",
       "    <tr>\n",
       "      <th>350</th>\n",
       "      <td>2022. 6. 24.</td>\n",
       "      <td>[DB하이텍 실시간 전략] (6월 23일) 8인치 SiC반도체 생산라인 구축 &amp; 주...</td>\n",
       "    </tr>\n",
       "    <tr>\n",
       "      <th>351</th>\n",
       "      <td>2022. 6. 30.</td>\n",
       "      <td>[기아 &amp; 현대사 실시간 전략] 독일 검찰 압수수색디젤차 배기가스 조작혐의과도한 조...</td>\n",
       "    </tr>\n",
       "  </tbody>\n",
       "</table>\n",
       "<p>352 rows × 2 columns</p>\n",
       "</div>"
      ],
      "text/plain": [
       "                    Date                                              Title\n",
       "0     최초 공개: 2021. 8. 2.  LG화학 목표주가 110만원을 향해! 2차 전지 관련 전망은? | 염승환 이사 | ...\n",
       "1           2022. 1. 13.            '주문금액만 1경 원' LG엔솔...뿔난 LG화학 소액주주들 / YTN\n",
       "2           2021. 2. 22.  전기차 배터리 주식 팔아야 하나? LG화학, SK이노베이션이 합의하면 주가는 급등할...\n",
       "3    최초 공개: 2021. 5. 26.  [국내 주식] 배터리 전력 리콜한 LG엔솔! LG화학 주가의 향방은?| 염승환 | ...\n",
       "4           2022. 3. 23.      LG화학, 성난 주주 달래느라 '진땀'... 주가 부양책 보니 (20220323)\n",
       "..                   ...                                                ...\n",
       "347          2022. 7. 1.  [우림피티에스] 삼성M&A대장주! 사면 대박납니다! 우림피티에스 우림피티에스주가 우...\n",
       "348         2022. 6. 25.  #에코프로비엠 #에코프로 #이수화학 #전고체배터리 #2차전지 #삼성SDI #폭스바겐...\n",
       "349          2022. 7. 1.  [7월01일 윤정두의 주식투시경] 29회차 #기아 현대차 #현대모비스 #한국항공우주...\n",
       "350         2022. 6. 24.  [DB하이텍 실시간 전략] (6월 23일) 8인치 SiC반도체 생산라인 구축 & 주...\n",
       "351         2022. 6. 30.  [기아 & 현대사 실시간 전략] 독일 검찰 압수수색디젤차 배기가스 조작혐의과도한 조...\n",
       "\n",
       "[352 rows x 2 columns]"
      ]
     },
     "execution_count": 9,
     "metadata": {},
     "output_type": "execute_result"
    }
   ],
   "source": [
    "df"
   ]
  },
  {
   "cell_type": "code",
   "execution_count": 10,
   "id": "26ff2c4d",
   "metadata": {},
   "outputs": [],
   "source": [
    "def clean_num(string):\n",
    "    pattern =  r\"(?P<year>\\d+). (?P<month>\\d+). (?P<day>\\d+)\"\n",
    "    mstring = re.search(pattern, string)\n",
    "    try:\n",
    "        y = mstring.group('year')\n",
    "        m = mstring.group('month')\n",
    "        d = mstring.group('day')\n",
    "        if len(m) == 1:\n",
    "            m = f'0{m}'\n",
    "        if len(d) == 1:\n",
    "            d = f'0{d}'\n",
    "        ymd = y+m+d\n",
    "    except:\n",
    "        ymd = \"a\"\n",
    "\n",
    "    return ymd"
   ]
  },
  {
   "cell_type": "code",
   "execution_count": 11,
   "id": "92c3231e",
   "metadata": {},
   "outputs": [],
   "source": [
    "def clean_text(inputString):\n",
    "    text_rmv = re.sub('[+]','증가', inputString)\n",
    "    text_rmv = re.sub('[-]','감소', text_rmv)\n",
    "    text_rmv = re.sub('[↑]','상승', text_rmv)\n",
    "    text_rmv = re.sub('[↓]','하락', text_rmv)\n",
    "    text_rmv = re.sub('[^一-龥ㄱ-힣a-zA-Z0-9_]', ' ', text_rmv)\n",
    "    return text_rmv"
   ]
  },
  {
   "cell_type": "code",
   "execution_count": 12,
   "id": "0b333650",
   "metadata": {},
   "outputs": [],
   "source": [
    "nn = []"
   ]
  },
  {
   "cell_type": "code",
   "execution_count": 13,
   "id": "8145611d",
   "metadata": {},
   "outputs": [
    {
     "name": "stdout",
     "output_type": "stream",
     "text": [
      "48\n",
      "72\n",
      "125\n",
      "297\n",
      "303\n"
     ]
    }
   ],
   "source": [
    "for i in range(len(df.index)):\n",
    "    df.iloc[i,1] = clean_text(df.iloc[i,1])\n",
    "    if 'shorts' in clean_text(df.iloc[i,1]):\n",
    "        nn.append(i)\n",
    "        print(i)\n",
    "    df.iloc[i,0] = clean_num(df.iloc[i,0])\n",
    "    if df.iloc[i,0] == \"a\":\n",
    "        nn.append(i)\n",
    "        print(i)"
   ]
  },
  {
   "cell_type": "code",
   "execution_count": 14,
   "id": "a48e4259",
   "metadata": {},
   "outputs": [],
   "source": [
    "df = df.drop(index=nn,axis=0)"
   ]
  },
  {
   "cell_type": "code",
   "execution_count": 15,
   "id": "4a37d42c",
   "metadata": {},
   "outputs": [
    {
     "data": {
      "text/html": [
       "<div>\n",
       "<style scoped>\n",
       "    .dataframe tbody tr th:only-of-type {\n",
       "        vertical-align: middle;\n",
       "    }\n",
       "\n",
       "    .dataframe tbody tr th {\n",
       "        vertical-align: top;\n",
       "    }\n",
       "\n",
       "    .dataframe thead th {\n",
       "        text-align: right;\n",
       "    }\n",
       "</style>\n",
       "<table border=\"1\" class=\"dataframe\">\n",
       "  <thead>\n",
       "    <tr style=\"text-align: right;\">\n",
       "      <th></th>\n",
       "      <th>Date</th>\n",
       "      <th>Title</th>\n",
       "    </tr>\n",
       "  </thead>\n",
       "  <tbody>\n",
       "    <tr>\n",
       "      <th>0</th>\n",
       "      <td>20210802</td>\n",
       "      <td>LG화학 목표주가 110만원을 향해  2차 전지 관련 전망은    염승환 이사   ...</td>\n",
       "    </tr>\n",
       "    <tr>\n",
       "      <th>1</th>\n",
       "      <td>20220113</td>\n",
       "      <td>주문금액만 1경 원  LG엔솔   뿔난 LG화학 소액주주들   YTN</td>\n",
       "    </tr>\n",
       "    <tr>\n",
       "      <th>2</th>\n",
       "      <td>20210222</td>\n",
       "      <td>전기차 배터리 주식 팔아야 하나  LG화학  SK이노베이션이 합의하면 주가는 급등할...</td>\n",
       "    </tr>\n",
       "    <tr>\n",
       "      <th>3</th>\n",
       "      <td>20210526</td>\n",
       "      <td>국내 주식  배터리 전력 리콜한 LG엔솔  LG화학 주가의 향방은   염승환   ...</td>\n",
       "    </tr>\n",
       "    <tr>\n",
       "      <th>4</th>\n",
       "      <td>20220323</td>\n",
       "      <td>LG화학  성난 주주 달래느라  진땀     주가 부양책 보니  20220323</td>\n",
       "    </tr>\n",
       "    <tr>\n",
       "      <th>...</th>\n",
       "      <td>...</td>\n",
       "      <td>...</td>\n",
       "    </tr>\n",
       "    <tr>\n",
       "      <th>347</th>\n",
       "      <td>20220701</td>\n",
       "      <td>우림피티에스  삼성M A대장주  사면 대박납니다  우림피티에스 우림피티에스주가 우...</td>\n",
       "    </tr>\n",
       "    <tr>\n",
       "      <th>348</th>\n",
       "      <td>20220625</td>\n",
       "      <td>에코프로비엠  에코프로  이수화학  전고체배터리  2차전지  삼성SDI  폭스바겐...</td>\n",
       "    </tr>\n",
       "    <tr>\n",
       "      <th>349</th>\n",
       "      <td>20220701</td>\n",
       "      <td>7월01일 윤정두의 주식투시경  29회차  기아 현대차  현대모비스  한국항공우주...</td>\n",
       "    </tr>\n",
       "    <tr>\n",
       "      <th>350</th>\n",
       "      <td>20220624</td>\n",
       "      <td>DB하이텍 실시간 전략   6월 23일  8인치 SiC반도체 생산라인 구축   주...</td>\n",
       "    </tr>\n",
       "    <tr>\n",
       "      <th>351</th>\n",
       "      <td>20220630</td>\n",
       "      <td>기아   현대사 실시간 전략  독일 검찰 압수수색디젤차 배기가스 조작혐의과도한 조...</td>\n",
       "    </tr>\n",
       "  </tbody>\n",
       "</table>\n",
       "<p>347 rows × 2 columns</p>\n",
       "</div>"
      ],
      "text/plain": [
       "         Date                                              Title\n",
       "0    20210802  LG화학 목표주가 110만원을 향해  2차 전지 관련 전망은    염승환 이사   ...\n",
       "1    20220113             주문금액만 1경 원  LG엔솔   뿔난 LG화학 소액주주들   YTN\n",
       "2    20210222  전기차 배터리 주식 팔아야 하나  LG화학  SK이노베이션이 합의하면 주가는 급등할...\n",
       "3    20210526   국내 주식  배터리 전력 리콜한 LG엔솔  LG화학 주가의 향방은   염승환   ...\n",
       "4    20220323      LG화학  성난 주주 달래느라  진땀     주가 부양책 보니  20220323 \n",
       "..        ...                                                ...\n",
       "347  20220701   우림피티에스  삼성M A대장주  사면 대박납니다  우림피티에스 우림피티에스주가 우...\n",
       "348  20220625   에코프로비엠  에코프로  이수화학  전고체배터리  2차전지  삼성SDI  폭스바겐...\n",
       "349  20220701   7월01일 윤정두의 주식투시경  29회차  기아 현대차  현대모비스  한국항공우주...\n",
       "350  20220624   DB하이텍 실시간 전략   6월 23일  8인치 SiC반도체 생산라인 구축   주...\n",
       "351  20220630   기아   현대사 실시간 전략  독일 검찰 압수수색디젤차 배기가스 조작혐의과도한 조...\n",
       "\n",
       "[347 rows x 2 columns]"
      ]
     },
     "execution_count": 15,
     "metadata": {},
     "output_type": "execute_result"
    }
   ],
   "source": [
    "df"
   ]
  },
  {
   "cell_type": "code",
   "execution_count": 16,
   "id": "35cb5e72",
   "metadata": {},
   "outputs": [],
   "source": [
    "df.to_csv(f'./youtube_df/{data}_v2.csv', encoding=\"UTF-8_sig\")"
   ]
  },
  {
   "cell_type": "code",
   "execution_count": null,
   "id": "c8f3c7f0",
   "metadata": {},
   "outputs": [],
   "source": []
  }
 ],
 "metadata": {
  "kernelspec": {
   "display_name": "Python 3 (ipykernel)",
   "language": "python",
   "name": "python3"
  },
  "language_info": {
   "codemirror_mode": {
    "name": "ipython",
    "version": 3
   },
   "file_extension": ".py",
   "mimetype": "text/x-python",
   "name": "python",
   "nbconvert_exporter": "python",
   "pygments_lexer": "ipython3",
   "version": "3.9.12"
  },
  "toc": {
   "base_numbering": 1,
   "nav_menu": {},
   "number_sections": true,
   "sideBar": true,
   "skip_h1_title": false,
   "title_cell": "Table of Contents",
   "title_sidebar": "Contents",
   "toc_cell": false,
   "toc_position": {},
   "toc_section_display": true,
   "toc_window_display": false
  },
  "varInspector": {
   "cols": {
    "lenName": 16,
    "lenType": 16,
    "lenVar": 40
   },
   "kernels_config": {
    "python": {
     "delete_cmd_postfix": "",
     "delete_cmd_prefix": "del ",
     "library": "var_list.py",
     "varRefreshCmd": "print(var_dic_list())"
    },
    "r": {
     "delete_cmd_postfix": ") ",
     "delete_cmd_prefix": "rm(",
     "library": "var_list.r",
     "varRefreshCmd": "cat(var_dic_list()) "
    }
   },
   "types_to_exclude": [
    "module",
    "function",
    "builtin_function_or_method",
    "instance",
    "_Feature"
   ],
   "window_display": false
  }
 },
 "nbformat": 4,
 "nbformat_minor": 5
}
