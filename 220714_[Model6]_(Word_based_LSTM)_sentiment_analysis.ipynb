{
 "cells": [
  {
   "cell_type": "code",
   "execution_count": null,
   "metadata": {
    "id": "vXnh6vW14i0E"
   },
   "outputs": [],
   "source": [
    "!fusermount -u drive"
   ]
  },
  {
   "cell_type": "markdown",
   "metadata": {
    "id": "AUqb7eldR4WX"
   },
   "source": [
    "## 드라이브 마운팅 & 워킹 디렉토리 변경"
   ]
  },
  {
   "cell_type": "code",
   "execution_count": null,
   "metadata": {
    "colab": {
     "base_uri": "https://localhost:8080/"
    },
    "id": "GWDlANokPjvm",
    "outputId": "211d8758-4a1d-4bb3-d384-1094ed431566"
   },
   "outputs": [
    {
     "name": "stdout",
     "output_type": "stream",
     "text": [
      "Mounted at /content/drive/MyDrive\n"
     ]
    }
   ],
   "source": [
    "from google.colab import drive\n",
    "drive.mount('/content/drive/MyDrive')"
   ]
  },
  {
   "cell_type": "code",
   "execution_count": null,
   "metadata": {
    "id": "3ZmRIPgQRwg5"
   },
   "outputs": [],
   "source": [
    "import os\n",
    "\n",
    "path = '/content/drive/MyDrive/MyDrive/NLP-StockMarket'\n",
    "os.chdir(path)"
   ]
  },
  {
   "cell_type": "markdown",
   "metadata": {
    "id": "H_Ot9wtKSI9X"
   },
   "source": [
    "## 필요 모듈 import"
   ]
  },
  {
   "cell_type": "code",
   "execution_count": null,
   "metadata": {
    "colab": {
     "base_uri": "https://localhost:8080/"
    },
    "id": "s4EvqZPmTnXc",
    "outputId": "0789b536-396e-4efd-9713-94bd847693f8"
   },
   "outputs": [
    {
     "name": "stdout",
     "output_type": "stream",
     "text": [
      "Looking in indexes: https://pypi.org/simple, https://us-python.pkg.dev/colab-wheels/public/simple/\n",
      "Collecting konlpy\n",
      "  Downloading konlpy-0.6.0-py2.py3-none-any.whl (19.4 MB)\n",
      "\u001b[K     |████████████████████████████████| 19.4 MB 5.4 MB/s \n",
      "\u001b[?25hRequirement already satisfied: lxml>=4.1.0 in /usr/local/lib/python3.7/dist-packages (from konlpy) (4.2.6)\n",
      "Collecting JPype1>=0.7.0\n",
      "  Downloading JPype1-1.4.0-cp37-cp37m-manylinux_2_5_x86_64.manylinux1_x86_64.whl (453 kB)\n",
      "\u001b[K     |████████████████████████████████| 453 kB 54.4 MB/s \n",
      "\u001b[?25hRequirement already satisfied: numpy>=1.6 in /usr/local/lib/python3.7/dist-packages (from konlpy) (1.21.6)\n",
      "Requirement already satisfied: typing-extensions in /usr/local/lib/python3.7/dist-packages (from JPype1>=0.7.0->konlpy) (4.1.1)\n",
      "Installing collected packages: JPype1, konlpy\n",
      "Successfully installed JPype1-1.4.0 konlpy-0.6.0\n"
     ]
    }
   ],
   "source": [
    "!pip install konlpy   # 코랩에서만 실행"
   ]
  },
  {
   "cell_type": "code",
   "execution_count": 1,
   "metadata": {
    "id": "J1GYGxB1R3AY"
   },
   "outputs": [],
   "source": [
    "import pandas as pd\n",
    "from tqdm import tqdm\n",
    "from konlpy.tag import *\n",
    "import matplotlib.pyplot as plt\n",
    "from sklearn.metrics import accuracy_score\n",
    "import re\n",
    "from datetime import datetime, timedelta\n",
    "from keras.preprocessing.text import Tokenizer\n",
    "from tensorflow.keras.preprocessing.sequence import pad_sequences\n",
    "from sklearn.model_selection import train_test_split\n",
    "\n",
    "# 한글 깨짐 방지\n",
    "import matplotlib.font_manager as fm\n",
    "plt.rc('font', family='NanumGothic')\n",
    "\n",
    "# - 기호 깨짐 방지\n",
    "import matplotlib as mpl\n",
    "mpl.rcParams['axes.unicode_minus'] = False\n",
    "\n",
    "# 경고 무시\n",
    "import warnings\n",
    "warnings.filterwarnings('ignore')"
   ]
  },
  {
   "cell_type": "code",
   "execution_count": 2,
   "metadata": {
    "id": "CdhNlBseo37R"
   },
   "outputs": [],
   "source": [
    "okt = Okt()"
   ]
  },
  {
   "cell_type": "markdown",
   "metadata": {
    "id": "IgQTHcKjVYGA"
   },
   "source": [
    "## 종목 선택, 뉴스 & 토론방 & 유튜브 데이터 통합"
   ]
  },
  {
   "cell_type": "code",
   "execution_count": 3,
   "metadata": {
    "id": "x_Znbo9ZS9As"
   },
   "outputs": [],
   "source": [
    "# LG화학, 삼성SDI, SK이노베이션, 고려아연, 포스코케미칼\n",
    "stock_name = '삼성SDI'"
   ]
  },
  {
   "cell_type": "code",
   "execution_count": 4,
   "metadata": {
    "id": "96PzeJsSS9X9"
   },
   "outputs": [],
   "source": [
    "naver_news = pd.read_csv('./data/refined_naver_news.csv', index_col=0)\n",
    "daum_news = pd.read_csv('./data/refined_daum_news.csv', index_col=0)\n",
    "naver_talks = pd.read_csv(f'./data/refined_naver_talks_{stock_name}.csv', index_col=0)\n",
    "daum_talks = pd.read_csv(f'./data/refined_daum_talks_{stock_name}.csv', index_col=0)\n",
    "youtube = pd.read_csv(f'./data/refined_youtube_{stock_name}.csv', index_col=0)"
   ]
  },
  {
   "cell_type": "code",
   "execution_count": 5,
   "metadata": {
    "id": "QpmuPxKwS9cc"
   },
   "outputs": [],
   "source": [
    "naver_talks['Date'] = pd.to_datetime(naver_talks['Date'])\n",
    "daum_talks['Date'] = pd.to_datetime(daum_talks['Date'])"
   ]
  },
  {
   "cell_type": "code",
   "execution_count": 6,
   "metadata": {
    "colab": {
     "base_uri": "https://localhost:8080/",
     "height": 424
    },
    "id": "8TObGBbDS-Bd",
    "outputId": "33f2d5eb-1004-4334-e7d0-bc0cfd66a4a8"
   },
   "outputs": [
    {
     "data": {
      "text/html": [
       "<div>\n",
       "<style scoped>\n",
       "    .dataframe tbody tr th:only-of-type {\n",
       "        vertical-align: middle;\n",
       "    }\n",
       "\n",
       "    .dataframe tbody tr th {\n",
       "        vertical-align: top;\n",
       "    }\n",
       "\n",
       "    .dataframe thead th {\n",
       "        text-align: right;\n",
       "    }\n",
       "</style>\n",
       "<table border=\"1\" class=\"dataframe\">\n",
       "  <thead>\n",
       "    <tr style=\"text-align: right;\">\n",
       "      <th></th>\n",
       "      <th>Date</th>\n",
       "      <th>Title</th>\n",
       "    </tr>\n",
       "  </thead>\n",
       "  <tbody>\n",
       "    <tr>\n",
       "      <th>0</th>\n",
       "      <td>1970-01-01 00:00:00.020210101</td>\n",
       "      <td>전고체 테마 불아</td>\n",
       "    </tr>\n",
       "    <tr>\n",
       "      <th>1</th>\n",
       "      <td>1970-01-01 00:00:00.020210101</td>\n",
       "      <td>금융 감독원 관계님</td>\n",
       "    </tr>\n",
       "    <tr>\n",
       "      <th>2</th>\n",
       "      <td>1970-01-01 00:00:00.020210101</td>\n",
       "      <td>새해 인사</td>\n",
       "    </tr>\n",
       "    <tr>\n",
       "      <th>3</th>\n",
       "      <td>1970-01-01 00:00:00.020210101</td>\n",
       "      <td>긴급 레버리지배배 고수익 재테크 실체</td>\n",
       "    </tr>\n",
       "    <tr>\n",
       "      <th>4</th>\n",
       "      <td>1970-01-01 00:00:00.020210101</td>\n",
       "      <td>삼성 sdi</td>\n",
       "    </tr>\n",
       "    <tr>\n",
       "      <th>...</th>\n",
       "      <td>...</td>\n",
       "      <td>...</td>\n",
       "    </tr>\n",
       "    <tr>\n",
       "      <th>667268</th>\n",
       "      <td>2022-07-05 00:00:00.000000000</td>\n",
       "      <td>고점대비 40  하락  올해 최대실적 전망   심텍  토비스  기아  레고켐바이오 ...</td>\n",
       "    </tr>\n",
       "    <tr>\n",
       "      <th>667269</th>\n",
       "      <td>2022-07-05 00:00:00.000000000</td>\n",
       "      <td>노터스  주가전망 노터스 주가 노터스 주식 노터스 주식전망 노터스 주가전망 노터스...</td>\n",
       "    </tr>\n",
       "    <tr>\n",
       "      <th>667270</th>\n",
       "      <td>2022-07-05 00:00:00.000000000</td>\n",
       "      <td>주식챔피언쇼  7월 4일 방송 감소 한일사료  한미반도체  신세계 I C</td>\n",
       "    </tr>\n",
       "    <tr>\n",
       "      <th>667271</th>\n",
       "      <td>2022-07-05 00:00:00.000000000</td>\n",
       "      <td>수젠텍 주가전망  수젠텍주가 수젠텍주식 수젠텍목표가 수젠텍매매전략</td>\n",
       "    </tr>\n",
       "    <tr>\n",
       "      <th>667272</th>\n",
       "      <td>2022-07-05 00:00:00.000000000</td>\n",
       "      <td>희림  주식개미들 개꿀팁</td>\n",
       "    </tr>\n",
       "  </tbody>\n",
       "</table>\n",
       "<p>667273 rows × 2 columns</p>\n",
       "</div>"
      ],
      "text/plain": [
       "                                Date  \\\n",
       "0      1970-01-01 00:00:00.020210101   \n",
       "1      1970-01-01 00:00:00.020210101   \n",
       "2      1970-01-01 00:00:00.020210101   \n",
       "3      1970-01-01 00:00:00.020210101   \n",
       "4      1970-01-01 00:00:00.020210101   \n",
       "...                              ...   \n",
       "667268 2022-07-05 00:00:00.000000000   \n",
       "667269 2022-07-05 00:00:00.000000000   \n",
       "667270 2022-07-05 00:00:00.000000000   \n",
       "667271 2022-07-05 00:00:00.000000000   \n",
       "667272 2022-07-05 00:00:00.000000000   \n",
       "\n",
       "                                                    Title  \n",
       "0                                               전고체 테마 불아  \n",
       "1                                             금융 감독원 관계님   \n",
       "2                                                   새해 인사  \n",
       "3                                    긴급 레버리지배배 고수익 재테크 실체  \n",
       "4                                                  삼성 sdi  \n",
       "...                                                   ...  \n",
       "667268  고점대비 40  하락  올해 최대실적 전망   심텍  토비스  기아  레고켐바이오 ...  \n",
       "667269   노터스  주가전망 노터스 주가 노터스 주식 노터스 주식전망 노터스 주가전망 노터스...  \n",
       "667270           주식챔피언쇼  7월 4일 방송 감소 한일사료  한미반도체  신세계 I C  \n",
       "667271               수젠텍 주가전망  수젠텍주가 수젠텍주식 수젠텍목표가 수젠텍매매전략  \n",
       "667272                                      희림  주식개미들 개꿀팁  \n",
       "\n",
       "[667273 rows x 2 columns]"
      ]
     },
     "execution_count": 6,
     "metadata": {},
     "output_type": "execute_result"
    }
   ],
   "source": [
    "# 데이터 통합\n",
    "news_df = pd.concat([naver_news, daum_news, naver_talks, daum_talks, youtube])\n",
    "\n",
    "# 'Date'열의 데이터 타입이 int여서 datetime으로 변환\n",
    "news_df['Date'] = pd.to_datetime(news_df['Date'].astype(str))     # str(변수) 는 자체 내장함수, 변수 하나씩밖에 적용 안됨.\n",
    "\n",
    "# 합쳐진 데이터의 인덱스 재설정\n",
    "news_df.sort_values('Date', ignore_index=True, inplace=True)\n",
    "\n",
    "news_df"
   ]
  },
  {
   "cell_type": "code",
   "execution_count": 7,
   "metadata": {
    "colab": {
     "base_uri": "https://localhost:8080/",
     "height": 112
    },
    "id": "MoWWCKA3g1Dk",
    "outputId": "f8528129-6b2b-4b4a-c1dd-98324b3bcc1d"
   },
   "outputs": [
    {
     "data": {
      "text/html": [
       "<div>\n",
       "<style scoped>\n",
       "    .dataframe tbody tr th:only-of-type {\n",
       "        vertical-align: middle;\n",
       "    }\n",
       "\n",
       "    .dataframe tbody tr th {\n",
       "        vertical-align: top;\n",
       "    }\n",
       "\n",
       "    .dataframe thead th {\n",
       "        text-align: right;\n",
       "    }\n",
       "</style>\n",
       "<table border=\"1\" class=\"dataframe\">\n",
       "  <thead>\n",
       "    <tr style=\"text-align: right;\">\n",
       "      <th></th>\n",
       "      <th>Date</th>\n",
       "      <th>Title</th>\n",
       "    </tr>\n",
       "  </thead>\n",
       "  <tbody>\n",
       "    <tr>\n",
       "      <th>25227</th>\n",
       "      <td>2021-01-04</td>\n",
       "      <td>한국단자  52주 신고가 경신  단기 중기 이평선 정배열로 상승세</td>\n",
       "    </tr>\n",
       "    <tr>\n",
       "      <th>25228</th>\n",
       "      <td>2021-01-04</td>\n",
       "      <td>현대오토에버  52주 신고가 경신  전일 외국인 대량 순매수</td>\n",
       "    </tr>\n",
       "  </tbody>\n",
       "</table>\n",
       "</div>"
      ],
      "text/plain": [
       "            Date                                  Title\n",
       "25227 2021-01-04   한국단자  52주 신고가 경신  단기 중기 이평선 정배열로 상승세\n",
       "25228 2021-01-04      현대오토에버  52주 신고가 경신  전일 외국인 대량 순매수"
      ]
     },
     "execution_count": 7,
     "metadata": {},
     "output_type": "execute_result"
    }
   ],
   "source": [
    "# 주가 데이터 시작이 1월 4일 부터여서 뉴스도 1월 4일 이전은 슬라이싱으로 없애기\n",
    "news_df = news_df[news_df[news_df['Date'] == '2021-01-04'].index[0] : ]\n",
    "news_df.head(2)"
   ]
  },
  {
   "cell_type": "markdown",
   "metadata": {
    "id": "8NfF4kgHYN39"
   },
   "source": [
    "## KRX에서 받은 csv로 가져오기"
   ]
  },
  {
   "cell_type": "code",
   "execution_count": 8,
   "metadata": {
    "colab": {
     "base_uri": "https://localhost:8080/",
     "height": 143
    },
    "id": "b5vPQ2W2YBhm",
    "outputId": "be0caa95-b1ad-46ac-97ac-7b96adef7381"
   },
   "outputs": [
    {
     "data": {
      "text/html": [
       "<div>\n",
       "<style scoped>\n",
       "    .dataframe tbody tr th:only-of-type {\n",
       "        vertical-align: middle;\n",
       "    }\n",
       "\n",
       "    .dataframe tbody tr th {\n",
       "        vertical-align: top;\n",
       "    }\n",
       "\n",
       "    .dataframe thead th {\n",
       "        text-align: right;\n",
       "    }\n",
       "</style>\n",
       "<table border=\"1\" class=\"dataframe\">\n",
       "  <thead>\n",
       "    <tr style=\"text-align: right;\">\n",
       "      <th></th>\n",
       "      <th>일자</th>\n",
       "      <th>등락률</th>\n",
       "    </tr>\n",
       "  </thead>\n",
       "  <tbody>\n",
       "    <tr>\n",
       "      <th>0</th>\n",
       "      <td>2021-01-04</td>\n",
       "      <td>6.85</td>\n",
       "    </tr>\n",
       "    <tr>\n",
       "      <th>1</th>\n",
       "      <td>2021-01-05</td>\n",
       "      <td>2.24</td>\n",
       "    </tr>\n",
       "    <tr>\n",
       "      <th>2</th>\n",
       "      <td>2021-01-06</td>\n",
       "      <td>-0.87</td>\n",
       "    </tr>\n",
       "  </tbody>\n",
       "</table>\n",
       "</div>"
      ],
      "text/plain": [
       "          일자   등락률\n",
       "0 2021-01-04  6.85\n",
       "1 2021-01-05  2.24\n",
       "2 2021-01-06 -0.87"
      ]
     },
     "execution_count": 8,
     "metadata": {},
     "output_type": "execute_result"
    }
   ],
   "source": [
    "stock_df = pd.read_csv(f'./data/{stock_name}_주가_데이터.csv', usecols = ['일자', '등락률'])\n",
    "stock_df['일자'] = pd.to_datetime(stock_df['일자'])\n",
    "stock_df.head(3)"
   ]
  },
  {
   "cell_type": "markdown",
   "metadata": {
    "id": "WEv3YZrFYvjP"
   },
   "source": [
    "## 주가 데이터"
   ]
  },
  {
   "cell_type": "code",
   "execution_count": 9,
   "metadata": {
    "colab": {
     "base_uri": "https://localhost:8080/"
    },
    "id": "u3N0ofo2Yr_l",
    "outputId": "58a696d2-aaa4-4c4a-ee34-d3b1cfae6fbe"
   },
   "outputs": [
    {
     "name": "stdout",
     "output_type": "stream",
     "text": [
      "start :  2021-01-04 00:00:00\n",
      "end :  2022-06-30 00:00:00\n"
     ]
    }
   ],
   "source": [
    "start = str(stock_df.iloc[0, 0])\n",
    "end = str(stock_df.iloc[-1, 0])\n",
    "print('start : ', start)\n",
    "print('end : ', end)"
   ]
  },
  {
   "cell_type": "code",
   "execution_count": 10,
   "metadata": {
    "colab": {
     "base_uri": "https://localhost:8080/"
    },
    "id": "jhQjthV5kkMm",
    "outputId": "29c8568f-d2fc-42f7-8fcd-69a6d3a875e7"
   },
   "outputs": [
    {
     "data": {
      "text/plain": [
       " 0    149\n",
       " 1    111\n",
       "-1    109\n",
       "Name: updown, dtype: int64"
      ]
     },
     "execution_count": 10,
     "metadata": {},
     "output_type": "execute_result"
    }
   ],
   "source": [
    "# multi 분류\n",
    "stock_df['updown'] = 0\n",
    "\n",
    "stock_df.loc[stock_df.query('등락률 > 1').index, 'updown'] = 1\n",
    "stock_df.loc[stock_df.query('등락률 < -1').index, 'updown'] = -1\n",
    "\n",
    "stock_df['updown'].value_counts()"
   ]
  },
  {
   "cell_type": "code",
   "execution_count": 11,
   "metadata": {
    "colab": {
     "base_uri": "https://localhost:8080/",
     "height": 143
    },
    "id": "1OLRe5urY9rq",
    "outputId": "246fa9c3-2174-4b05-9ae0-d79ce43a0c36"
   },
   "outputs": [
    {
     "data": {
      "text/html": [
       "<div>\n",
       "<style scoped>\n",
       "    .dataframe tbody tr th:only-of-type {\n",
       "        vertical-align: middle;\n",
       "    }\n",
       "\n",
       "    .dataframe tbody tr th {\n",
       "        vertical-align: top;\n",
       "    }\n",
       "\n",
       "    .dataframe thead th {\n",
       "        text-align: right;\n",
       "    }\n",
       "</style>\n",
       "<table border=\"1\" class=\"dataframe\">\n",
       "  <thead>\n",
       "    <tr style=\"text-align: right;\">\n",
       "      <th></th>\n",
       "      <th>Date</th>\n",
       "      <th>Title</th>\n",
       "      <th>일자</th>\n",
       "    </tr>\n",
       "  </thead>\n",
       "  <tbody>\n",
       "    <tr>\n",
       "      <th>25227</th>\n",
       "      <td>2021-01-04</td>\n",
       "      <td>한국단자  52주 신고가 경신  단기 중기 이평선 정배열로 상승세</td>\n",
       "      <td>2021-01-05</td>\n",
       "    </tr>\n",
       "    <tr>\n",
       "      <th>25228</th>\n",
       "      <td>2021-01-04</td>\n",
       "      <td>현대오토에버  52주 신고가 경신  전일 외국인 대량 순매수</td>\n",
       "      <td>2021-01-05</td>\n",
       "    </tr>\n",
       "    <tr>\n",
       "      <th>25229</th>\n",
       "      <td>2021-01-04</td>\n",
       "      <td>리서치알음  푸드나무  140만명 플랫폼증가익일배송 다이어트푸드 최대 수혜주</td>\n",
       "      <td>2021-01-05</td>\n",
       "    </tr>\n",
       "  </tbody>\n",
       "</table>\n",
       "</div>"
      ],
      "text/plain": [
       "            Date                                        Title         일자\n",
       "25227 2021-01-04         한국단자  52주 신고가 경신  단기 중기 이평선 정배열로 상승세 2021-01-05\n",
       "25228 2021-01-04            현대오토에버  52주 신고가 경신  전일 외국인 대량 순매수 2021-01-05\n",
       "25229 2021-01-04  리서치알음  푸드나무  140만명 플랫폼증가익일배송 다이어트푸드 최대 수혜주  2021-01-05"
      ]
     },
     "execution_count": 11,
     "metadata": {},
     "output_type": "execute_result"
    }
   ],
   "source": [
    "# 뉴스 일자 열 추가 : 예측대상(= 익일의 주가)의 일자와 맞추기 위함\n",
    "\n",
    "news_df['일자'] = news_df['Date'] + timedelta(days = 1)\n",
    "news_df.head(3)"
   ]
  },
  {
   "cell_type": "markdown",
   "metadata": {
    "id": "Y3NgT94LmV1t"
   },
   "source": [
    "# 뉴스 데이터 & 주가 데이터 합치기"
   ]
  },
  {
   "cell_type": "code",
   "execution_count": 12,
   "metadata": {
    "colab": {
     "base_uri": "https://localhost:8080/"
    },
    "id": "TfrzgUo2lKtO",
    "outputId": "3eedd3ef-5f82-4264-fd4f-c4b415337a33"
   },
   "outputs": [
    {
     "name": "stdout",
     "output_type": "stream",
     "text": [
      "403719\n"
     ]
    },
    {
     "data": {
      "text/plain": [
       " 0    160123\n",
       " 1    132553\n",
       "-1    111043\n",
       "Name: updown, dtype: int64"
      ]
     },
     "execution_count": 12,
     "metadata": {},
     "output_type": "execute_result"
    }
   ],
   "source": [
    "df = news_df.merge(stock_df)\n",
    "\n",
    "# df 칼럼명 : Date, Title, 주가의 날짜(구 : 일자), 등락률(y), updown\n",
    "df.columns = [df.columns[0], df.columns[1], '주가의 날짜', '등락률(y)', 'updown']\n",
    "\n",
    "# 기사 제목 중복 제거\n",
    "df.drop_duplicates('Title', inplace = True, ignore_index = True)\n",
    "\n",
    "print(len(df))\n",
    "df['updown'].value_counts()"
   ]
  },
  {
   "cell_type": "code",
   "execution_count": 13,
   "metadata": {
    "colab": {
     "base_uri": "https://localhost:8080/"
    },
    "id": "cCF8ZbeuFNma",
    "outputId": "1bf4d932-1a83-4cb6-9898-742f4dc7c1f9"
   },
   "outputs": [
    {
     "data": {
      "text/plain": [
       " 0    160123\n",
       " 1    132553\n",
       "-1    111043\n",
       "Name: updown, dtype: int64"
      ]
     },
     "execution_count": 13,
     "metadata": {},
     "output_type": "execute_result"
    }
   ],
   "source": [
    "df.to_csv('./data/[Model6]merged_df.csv', encoding = 'utf-8-sig')\n",
    "\n",
    "df = pd.read_csv('./data/[Model6]merged_df.csv', index_col = 0)\n",
    "df['updown'].value_counts()"
   ]
  },
  {
   "cell_type": "markdown",
   "metadata": {
    "id": "yMjo76IJnxBK"
   },
   "source": [
    "# 감성사전 불러오기"
   ]
  },
  {
   "cell_type": "code",
   "execution_count": 14,
   "metadata": {
    "colab": {
     "base_uri": "https://localhost:8080/",
     "height": 206
    },
    "id": "IWp8L0bhnLy_",
    "outputId": "3e4d3c61-1ae8-4651-e6a8-9170015be4bf"
   },
   "outputs": [
    {
     "data": {
      "text/html": [
       "<div>\n",
       "<style scoped>\n",
       "    .dataframe tbody tr th:only-of-type {\n",
       "        vertical-align: middle;\n",
       "    }\n",
       "\n",
       "    .dataframe tbody tr th {\n",
       "        vertical-align: top;\n",
       "    }\n",
       "\n",
       "    .dataframe thead th {\n",
       "        text-align: right;\n",
       "    }\n",
       "</style>\n",
       "<table border=\"1\" class=\"dataframe\">\n",
       "  <thead>\n",
       "    <tr style=\"text-align: right;\">\n",
       "      <th></th>\n",
       "      <th>pos</th>\n",
       "      <th>mid</th>\n",
       "      <th>neg</th>\n",
       "    </tr>\n",
       "  </thead>\n",
       "  <tbody>\n",
       "    <tr>\n",
       "      <th>0</th>\n",
       "      <td>방긋</td>\n",
       "      <td>아직</td>\n",
       "      <td>회의</td>\n",
       "    </tr>\n",
       "    <tr>\n",
       "      <th>1</th>\n",
       "      <td>상회</td>\n",
       "      <td>보통</td>\n",
       "      <td>바닥</td>\n",
       "    </tr>\n",
       "    <tr>\n",
       "      <th>2</th>\n",
       "      <td>신선</td>\n",
       "      <td>vs</td>\n",
       "      <td>이탈</td>\n",
       "    </tr>\n",
       "    <tr>\n",
       "      <th>3</th>\n",
       "      <td>신박</td>\n",
       "      <td>중립</td>\n",
       "      <td>떨어지</td>\n",
       "    </tr>\n",
       "    <tr>\n",
       "      <th>4</th>\n",
       "      <td>투혼</td>\n",
       "      <td>관망</td>\n",
       "      <td>안좋게</td>\n",
       "    </tr>\n",
       "  </tbody>\n",
       "</table>\n",
       "</div>"
      ],
      "text/plain": [
       "  pos mid  neg\n",
       "0  방긋  아직   회의\n",
       "1  상회  보통   바닥\n",
       "2  신선  vs   이탈\n",
       "3  신박  중립  떨어지\n",
       "4  투혼  관망  안좋게"
      ]
     },
     "execution_count": 14,
     "metadata": {},
     "output_type": "execute_result"
    }
   ],
   "source": [
    "sentiment_csv = pd.read_csv('./data/sentiment dictionary.csv', index_col = 0)\n",
    "sentiment_csv.head()"
   ]
  },
  {
   "cell_type": "code",
   "execution_count": 15,
   "metadata": {
    "colab": {
     "base_uri": "https://localhost:8080/"
    },
    "id": "KJkI5IO4xsjM",
    "outputId": "32e7572d-cab7-45b4-874e-1b21e2adf9e7"
   },
   "outputs": [
    {
     "name": "stdout",
     "output_type": "stream",
     "text": [
      "pos_li : 328 개\n",
      "mid_li : 11 개\n",
      "neg_li : 295 개\n"
     ]
    }
   ],
   "source": [
    "pos_li = sentiment_csv['pos'].dropna().values\n",
    "mid_li = sentiment_csv['mid'].dropna().values\n",
    "neg_li = sentiment_csv['neg'].dropna().values\n",
    "\n",
    "print(f'pos_li : {len(pos_li)} 개')\n",
    "print(f'mid_li : {len(mid_li)} 개')\n",
    "print(f'neg_li : {len(neg_li)} 개')"
   ]
  },
  {
   "cell_type": "markdown",
   "metadata": {
    "id": "Wy_apLIrRDl2"
   },
   "source": [
    "# 감성지수 계산하는 함수 : sentimental_score()"
   ]
  },
  {
   "cell_type": "code",
   "execution_count": 16,
   "metadata": {
    "id": "X9rnu-YVM3nf"
   },
   "outputs": [],
   "source": [
    "def sentimental_score(df):\n",
    "    # 입력받은 데이터프레임 복사 및 컬럼 추가\n",
    "    df_result = df.copy()\n",
    "    df_result['Pos'] = 0\n",
    "    df_result['Neg'] = 0\n",
    "    df_result['Mid'] = 0\n",
    "    \n",
    "    # 감성 지수는 긍정 : 1, 중립 : 0, 부정 : -1, 해당 데이터 제외 : 999\n",
    "    df_result['감성지수'] = 999    \n",
    "    \n",
    "    # 감성 사전에 따른 텍스트 검출\n",
    "    print('긍정 단어 검색중')\n",
    "    for pos in tqdm(pos_li) :\n",
    "        df_result.loc[df_result[df_result['Title'].str.contains(pos) == True].index, 'Pos'] = 1\n",
    "    \n",
    "    print('부정 단어 검색중')\n",
    "    for neg in tqdm(neg_li) :\n",
    "        df_result.loc[df_result[df_result['Title'].str.contains(neg) == True].index, 'Neg'] = 1\n",
    "    \n",
    "    print('중립 단어 검색중')\n",
    "    for mid in tqdm(mid_li) :\n",
    "        df_result.loc[df_result[df_result['Title'].str.contains(mid) == True].index, 'Mid'] = 1\n",
    "    \n",
    "    df_result.to_csv('./data/[Model6]pos_neg_mid_added_df_result.csv', encoding = 'utf-8-sig')\n",
    "\n",
    "\n",
    "\n",
    "    # 모든 종류의 단어가 검출 되면 제외\n",
    "    df_result.loc[df_result[(df_result['Pos'] == 1) & (df_result['Neg'] == 1) & (df_result['Mid'] == 1)].index, '감성지수'] = 999\n",
    "    \n",
    "    # 중립 단어가 검출되면 중립\n",
    "    df_result.loc[df_result[(df_result['Pos'] == 1) & (df_result['Neg'] == 0) & (df_result['Mid'] == 1)].index, '감성지수'] = 0\n",
    "    df_result.loc[df_result[(df_result['Pos'] == 0) & (df_result['Neg'] == 1) & (df_result['Mid'] == 1)].index, '감성지수'] = 0\n",
    "    df_result.loc[df_result[(df_result['Pos'] == 0) & (df_result['Neg'] == 0) & (df_result['Mid'] == 1)].index, '감성지수'] = 0\n",
    "\n",
    "    # 긍 부 중립 모두 검출 안될 경우는 일단 0이라고 했음\n",
    "    df_result.loc[df_result[(df_result['Pos'] == 0) & (df_result['Neg'] == 0) & (df_result['Mid'] == 0)].index, '감성지수'] = 0\n",
    "\n",
    "    # 긍정 단어만이 검출되면 긍정\n",
    "    df_result.loc[df_result[(df_result['Pos'] == 1) & (df_result['Neg'] == 0) & (df_result['Mid'] == 0)].index, '감성지수'] = 1\n",
    "    \n",
    "    # 부정 단어만이 검출되면 부정\n",
    "    df_result.loc[df_result[(df_result['Pos'] == 0) & (df_result['Neg'] == 1) & (df_result['Mid'] == 0)].index, '감성지수'] = -1\n",
    "    \n",
    "    # 긍정, 부정 단어가 둘 다 있으면 전 날 또는 당일 주가의 등락률을 보고 결정\n",
    "    print('긍정 부정 둘 다 있는 경우 처리중')\n",
    "    for i in tqdm(df_result.loc[df_result[(df_result['Pos'] == 1) & (df_result['Neg'] == 1) & (df_result['Mid'] == 0)].index].index) : \n",
    "        updown = 999 # 등락률을 뜻하는 updown\n",
    "        \n",
    "        # 해당 Title의 어제 주가가 있으면 선택\n",
    "        # if sum((df_result.loc[i,'Date'] - timedelta(days = 1)) == stock_df['일자']) == 1 :  \n",
    "        if sum(pd.to_datetime(df_result.loc[i, 'Date']) - timedelta(days = 1) == stock_df['일자']) == 1 :\n",
    "            updown = stock_df[stock_df['일자'] == (pd.to_datetime(df_result.loc[i,'Date']) - timedelta(days = 1))]['등락률'].values[0]\n",
    "        \n",
    "        # 어제 주가는 없지만 당일이 있으면 당일을 선택\n",
    "        # elif sum(df_result.loc[i,'Date'] == stock_df['일자']) == 1 : \n",
    "        elif sum(pd.to_datetime(df_result.loc[i,'Date']) == stock_df['일자']) == 1 :\n",
    "            updown = stock_df[stock_df['일자'] == pd.to_datetime(df_result.loc[i,'Date'])]['등락률'].values[0]\n",
    "\n",
    "        # 어제와 오늘의 주가도 없다면 이전의 주가를 찾아 탐색\n",
    "        else :\n",
    "            j = 2 \n",
    "            while True :\n",
    "                # if sum((df_result.loc[i,'Date'] - timedelta(days = j)) == stock_df['일자']) == 1 :\n",
    "                if sum((pd.to_datetime(df_result.loc[i, 'Date']) - timedelta(days = j)) == stock_df['일자']) == 1 :\n",
    "                    updown = stock_df[stock_df['일자'] == (pd.to_datetime(df_result.loc[i,'Date']) - timedelta(days = j))]['등락률'].values[0]\n",
    "                    break\n",
    "                j += 1\n",
    "        \n",
    "        # 절댓값이 0보다 낮은 등락률은 변화가 없다고 판단\n",
    "        if updown > 1 :\n",
    "            # df_result['감성지수'][i] = 1\n",
    "            df_result.loc[i, '감성지수'] = 1\n",
    "        elif updown < 1 :\n",
    "            # df_result['감성지수'][i] = -1\n",
    "            df_result.loc[i, '감성지수'] = -1\n",
    "        else :\n",
    "            # df_result['감성지수'][i] = 0\n",
    "            df_result.loc[i, '감성지수'] = 0\n",
    "    print('df_result[\"감성지수\"] : \\n',  df_result['감성지수'].value_counts())\n",
    "\n",
    "    return df_result"
   ]
  },
  {
   "cell_type": "code",
   "execution_count": 17,
   "metadata": {
    "colab": {
     "base_uri": "https://localhost:8080/"
    },
    "id": "knFat9ChM93s",
    "outputId": "22142e8f-a6c3-4537-9a12-b3fd1f77fc7e"
   },
   "outputs": [
    {
     "name": "stdout",
     "output_type": "stream",
     "text": [
      "긍정 단어 검색중\n"
     ]
    },
    {
     "name": "stderr",
     "output_type": "stream",
     "text": [
      "100%|██████████| 328/328 [00:31<00:00, 10.52it/s]\n"
     ]
    },
    {
     "name": "stdout",
     "output_type": "stream",
     "text": [
      "부정 단어 검색중\n"
     ]
    },
    {
     "name": "stderr",
     "output_type": "stream",
     "text": [
      "100%|██████████| 295/295 [00:27<00:00, 10.60it/s]\n"
     ]
    },
    {
     "name": "stdout",
     "output_type": "stream",
     "text": [
      "중립 단어 검색중\n"
     ]
    },
    {
     "name": "stderr",
     "output_type": "stream",
     "text": [
      "100%|██████████| 11/11 [00:01<00:00, 10.52it/s]\n"
     ]
    },
    {
     "name": "stdout",
     "output_type": "stream",
     "text": [
      "긍정 부정 둘 다 있는 경우 처리중\n"
     ]
    },
    {
     "name": "stderr",
     "output_type": "stream",
     "text": [
      "100%|██████████| 71853/71853 [00:39<00:00, 1820.42it/s]"
     ]
    },
    {
     "name": "stdout",
     "output_type": "stream",
     "text": [
      "df_result[\"감성지수\"] : \n",
      "  1      203878\n",
      "-1      117330\n",
      " 0       81398\n",
      " 999      1113\n",
      "Name: 감성지수, dtype: int64\n"
     ]
    },
    {
     "name": "stderr",
     "output_type": "stream",
     "text": [
      "\n"
     ]
    }
   ],
   "source": [
    "df_result = sentimental_score(df)"
   ]
  },
  {
   "cell_type": "code",
   "execution_count": 18,
   "metadata": {
    "colab": {
     "base_uri": "https://localhost:8080/"
    },
    "id": "cXlPK9hYkMxi",
    "outputId": "2100cef4-b14a-4adc-f3ae-79ed93982cbd"
   },
   "outputs": [
    {
     "data": {
      "text/plain": [
       " 1      203878\n",
       "-1      117330\n",
       " 0       81398\n",
       " 999      1113\n",
       "Name: 감성지수, dtype: int64"
      ]
     },
     "execution_count": 18,
     "metadata": {},
     "output_type": "execute_result"
    }
   ],
   "source": [
    "df_result['감성지수'].value_counts()"
   ]
  },
  {
   "cell_type": "code",
   "execution_count": 19,
   "metadata": {
    "id": "ZjR1YEl6Ff76",
    "scrolled": true
   },
   "outputs": [
    {
     "ename": "FileNotFoundError",
     "evalue": "[Errno 2] No such file or directory: './data/[Model6]감성지수_added_df_result.csv'",
     "output_type": "error",
     "traceback": [
      "\u001b[1;31m---------------------------------------------------------------------------\u001b[0m",
      "\u001b[1;31mFileNotFoundError\u001b[0m                         Traceback (most recent call last)",
      "Input \u001b[1;32mIn [19]\u001b[0m, in \u001b[0;36m<cell line: 1>\u001b[1;34m()\u001b[0m\n\u001b[1;32m----> 1\u001b[0m df_result \u001b[38;5;241m=\u001b[39m \u001b[43mpd\u001b[49m\u001b[38;5;241;43m.\u001b[39;49m\u001b[43mread_csv\u001b[49m\u001b[43m(\u001b[49m\u001b[38;5;124;43m'\u001b[39;49m\u001b[38;5;124;43m./data/[Model6]감성지수_added_df_result.csv\u001b[39;49m\u001b[38;5;124;43m'\u001b[39;49m\u001b[43m,\u001b[49m\u001b[43m \u001b[49m\u001b[43mindex_col\u001b[49m\u001b[43m \u001b[49m\u001b[38;5;241;43m=\u001b[39;49m\u001b[43m \u001b[49m\u001b[38;5;241;43m0\u001b[39;49m\u001b[43m)\u001b[49m\n\u001b[0;32m      2\u001b[0m df_result\n",
      "File \u001b[1;32mC:\\Anaconda3\\envs\\py39tf2\\lib\\site-packages\\pandas\\util\\_decorators.py:311\u001b[0m, in \u001b[0;36mdeprecate_nonkeyword_arguments.<locals>.decorate.<locals>.wrapper\u001b[1;34m(*args, **kwargs)\u001b[0m\n\u001b[0;32m    305\u001b[0m \u001b[38;5;28;01mif\u001b[39;00m \u001b[38;5;28mlen\u001b[39m(args) \u001b[38;5;241m>\u001b[39m num_allow_args:\n\u001b[0;32m    306\u001b[0m     warnings\u001b[38;5;241m.\u001b[39mwarn(\n\u001b[0;32m    307\u001b[0m         msg\u001b[38;5;241m.\u001b[39mformat(arguments\u001b[38;5;241m=\u001b[39marguments),\n\u001b[0;32m    308\u001b[0m         \u001b[38;5;167;01mFutureWarning\u001b[39;00m,\n\u001b[0;32m    309\u001b[0m         stacklevel\u001b[38;5;241m=\u001b[39mstacklevel,\n\u001b[0;32m    310\u001b[0m     )\n\u001b[1;32m--> 311\u001b[0m \u001b[38;5;28;01mreturn\u001b[39;00m func(\u001b[38;5;241m*\u001b[39margs, \u001b[38;5;241m*\u001b[39m\u001b[38;5;241m*\u001b[39mkwargs)\n",
      "File \u001b[1;32mC:\\Anaconda3\\envs\\py39tf2\\lib\\site-packages\\pandas\\io\\parsers\\readers.py:680\u001b[0m, in \u001b[0;36mread_csv\u001b[1;34m(filepath_or_buffer, sep, delimiter, header, names, index_col, usecols, squeeze, prefix, mangle_dupe_cols, dtype, engine, converters, true_values, false_values, skipinitialspace, skiprows, skipfooter, nrows, na_values, keep_default_na, na_filter, verbose, skip_blank_lines, parse_dates, infer_datetime_format, keep_date_col, date_parser, dayfirst, cache_dates, iterator, chunksize, compression, thousands, decimal, lineterminator, quotechar, quoting, doublequote, escapechar, comment, encoding, encoding_errors, dialect, error_bad_lines, warn_bad_lines, on_bad_lines, delim_whitespace, low_memory, memory_map, float_precision, storage_options)\u001b[0m\n\u001b[0;32m    665\u001b[0m kwds_defaults \u001b[38;5;241m=\u001b[39m _refine_defaults_read(\n\u001b[0;32m    666\u001b[0m     dialect,\n\u001b[0;32m    667\u001b[0m     delimiter,\n\u001b[1;32m   (...)\u001b[0m\n\u001b[0;32m    676\u001b[0m     defaults\u001b[38;5;241m=\u001b[39m{\u001b[38;5;124m\"\u001b[39m\u001b[38;5;124mdelimiter\u001b[39m\u001b[38;5;124m\"\u001b[39m: \u001b[38;5;124m\"\u001b[39m\u001b[38;5;124m,\u001b[39m\u001b[38;5;124m\"\u001b[39m},\n\u001b[0;32m    677\u001b[0m )\n\u001b[0;32m    678\u001b[0m kwds\u001b[38;5;241m.\u001b[39mupdate(kwds_defaults)\n\u001b[1;32m--> 680\u001b[0m \u001b[38;5;28;01mreturn\u001b[39;00m \u001b[43m_read\u001b[49m\u001b[43m(\u001b[49m\u001b[43mfilepath_or_buffer\u001b[49m\u001b[43m,\u001b[49m\u001b[43m \u001b[49m\u001b[43mkwds\u001b[49m\u001b[43m)\u001b[49m\n",
      "File \u001b[1;32mC:\\Anaconda3\\envs\\py39tf2\\lib\\site-packages\\pandas\\io\\parsers\\readers.py:575\u001b[0m, in \u001b[0;36m_read\u001b[1;34m(filepath_or_buffer, kwds)\u001b[0m\n\u001b[0;32m    572\u001b[0m _validate_names(kwds\u001b[38;5;241m.\u001b[39mget(\u001b[38;5;124m\"\u001b[39m\u001b[38;5;124mnames\u001b[39m\u001b[38;5;124m\"\u001b[39m, \u001b[38;5;28;01mNone\u001b[39;00m))\n\u001b[0;32m    574\u001b[0m \u001b[38;5;66;03m# Create the parser.\u001b[39;00m\n\u001b[1;32m--> 575\u001b[0m parser \u001b[38;5;241m=\u001b[39m TextFileReader(filepath_or_buffer, \u001b[38;5;241m*\u001b[39m\u001b[38;5;241m*\u001b[39mkwds)\n\u001b[0;32m    577\u001b[0m \u001b[38;5;28;01mif\u001b[39;00m chunksize \u001b[38;5;129;01mor\u001b[39;00m iterator:\n\u001b[0;32m    578\u001b[0m     \u001b[38;5;28;01mreturn\u001b[39;00m parser\n",
      "File \u001b[1;32mC:\\Anaconda3\\envs\\py39tf2\\lib\\site-packages\\pandas\\io\\parsers\\readers.py:933\u001b[0m, in \u001b[0;36mTextFileReader.__init__\u001b[1;34m(self, f, engine, **kwds)\u001b[0m\n\u001b[0;32m    930\u001b[0m     \u001b[38;5;28mself\u001b[39m\u001b[38;5;241m.\u001b[39moptions[\u001b[38;5;124m\"\u001b[39m\u001b[38;5;124mhas_index_names\u001b[39m\u001b[38;5;124m\"\u001b[39m] \u001b[38;5;241m=\u001b[39m kwds[\u001b[38;5;124m\"\u001b[39m\u001b[38;5;124mhas_index_names\u001b[39m\u001b[38;5;124m\"\u001b[39m]\n\u001b[0;32m    932\u001b[0m \u001b[38;5;28mself\u001b[39m\u001b[38;5;241m.\u001b[39mhandles: IOHandles \u001b[38;5;241m|\u001b[39m \u001b[38;5;28;01mNone\u001b[39;00m \u001b[38;5;241m=\u001b[39m \u001b[38;5;28;01mNone\u001b[39;00m\n\u001b[1;32m--> 933\u001b[0m \u001b[38;5;28mself\u001b[39m\u001b[38;5;241m.\u001b[39m_engine \u001b[38;5;241m=\u001b[39m \u001b[38;5;28;43mself\u001b[39;49m\u001b[38;5;241;43m.\u001b[39;49m\u001b[43m_make_engine\u001b[49m\u001b[43m(\u001b[49m\u001b[43mf\u001b[49m\u001b[43m,\u001b[49m\u001b[43m \u001b[49m\u001b[38;5;28;43mself\u001b[39;49m\u001b[38;5;241;43m.\u001b[39;49m\u001b[43mengine\u001b[49m\u001b[43m)\u001b[49m\n",
      "File \u001b[1;32mC:\\Anaconda3\\envs\\py39tf2\\lib\\site-packages\\pandas\\io\\parsers\\readers.py:1217\u001b[0m, in \u001b[0;36mTextFileReader._make_engine\u001b[1;34m(self, f, engine)\u001b[0m\n\u001b[0;32m   1213\u001b[0m     mode \u001b[38;5;241m=\u001b[39m \u001b[38;5;124m\"\u001b[39m\u001b[38;5;124mrb\u001b[39m\u001b[38;5;124m\"\u001b[39m\n\u001b[0;32m   1214\u001b[0m \u001b[38;5;66;03m# error: No overload variant of \"get_handle\" matches argument types\u001b[39;00m\n\u001b[0;32m   1215\u001b[0m \u001b[38;5;66;03m# \"Union[str, PathLike[str], ReadCsvBuffer[bytes], ReadCsvBuffer[str]]\"\u001b[39;00m\n\u001b[0;32m   1216\u001b[0m \u001b[38;5;66;03m# , \"str\", \"bool\", \"Any\", \"Any\", \"Any\", \"Any\", \"Any\"\u001b[39;00m\n\u001b[1;32m-> 1217\u001b[0m \u001b[38;5;28mself\u001b[39m\u001b[38;5;241m.\u001b[39mhandles \u001b[38;5;241m=\u001b[39m \u001b[43mget_handle\u001b[49m\u001b[43m(\u001b[49m\u001b[43m  \u001b[49m\u001b[38;5;66;43;03m# type: ignore[call-overload]\u001b[39;49;00m\n\u001b[0;32m   1218\u001b[0m \u001b[43m    \u001b[49m\u001b[43mf\u001b[49m\u001b[43m,\u001b[49m\n\u001b[0;32m   1219\u001b[0m \u001b[43m    \u001b[49m\u001b[43mmode\u001b[49m\u001b[43m,\u001b[49m\n\u001b[0;32m   1220\u001b[0m \u001b[43m    \u001b[49m\u001b[43mencoding\u001b[49m\u001b[38;5;241;43m=\u001b[39;49m\u001b[38;5;28;43mself\u001b[39;49m\u001b[38;5;241;43m.\u001b[39;49m\u001b[43moptions\u001b[49m\u001b[38;5;241;43m.\u001b[39;49m\u001b[43mget\u001b[49m\u001b[43m(\u001b[49m\u001b[38;5;124;43m\"\u001b[39;49m\u001b[38;5;124;43mencoding\u001b[39;49m\u001b[38;5;124;43m\"\u001b[39;49m\u001b[43m,\u001b[49m\u001b[43m \u001b[49m\u001b[38;5;28;43;01mNone\u001b[39;49;00m\u001b[43m)\u001b[49m\u001b[43m,\u001b[49m\n\u001b[0;32m   1221\u001b[0m \u001b[43m    \u001b[49m\u001b[43mcompression\u001b[49m\u001b[38;5;241;43m=\u001b[39;49m\u001b[38;5;28;43mself\u001b[39;49m\u001b[38;5;241;43m.\u001b[39;49m\u001b[43moptions\u001b[49m\u001b[38;5;241;43m.\u001b[39;49m\u001b[43mget\u001b[49m\u001b[43m(\u001b[49m\u001b[38;5;124;43m\"\u001b[39;49m\u001b[38;5;124;43mcompression\u001b[39;49m\u001b[38;5;124;43m\"\u001b[39;49m\u001b[43m,\u001b[49m\u001b[43m \u001b[49m\u001b[38;5;28;43;01mNone\u001b[39;49;00m\u001b[43m)\u001b[49m\u001b[43m,\u001b[49m\n\u001b[0;32m   1222\u001b[0m \u001b[43m    \u001b[49m\u001b[43mmemory_map\u001b[49m\u001b[38;5;241;43m=\u001b[39;49m\u001b[38;5;28;43mself\u001b[39;49m\u001b[38;5;241;43m.\u001b[39;49m\u001b[43moptions\u001b[49m\u001b[38;5;241;43m.\u001b[39;49m\u001b[43mget\u001b[49m\u001b[43m(\u001b[49m\u001b[38;5;124;43m\"\u001b[39;49m\u001b[38;5;124;43mmemory_map\u001b[39;49m\u001b[38;5;124;43m\"\u001b[39;49m\u001b[43m,\u001b[49m\u001b[43m \u001b[49m\u001b[38;5;28;43;01mFalse\u001b[39;49;00m\u001b[43m)\u001b[49m\u001b[43m,\u001b[49m\n\u001b[0;32m   1223\u001b[0m \u001b[43m    \u001b[49m\u001b[43mis_text\u001b[49m\u001b[38;5;241;43m=\u001b[39;49m\u001b[43mis_text\u001b[49m\u001b[43m,\u001b[49m\n\u001b[0;32m   1224\u001b[0m \u001b[43m    \u001b[49m\u001b[43merrors\u001b[49m\u001b[38;5;241;43m=\u001b[39;49m\u001b[38;5;28;43mself\u001b[39;49m\u001b[38;5;241;43m.\u001b[39;49m\u001b[43moptions\u001b[49m\u001b[38;5;241;43m.\u001b[39;49m\u001b[43mget\u001b[49m\u001b[43m(\u001b[49m\u001b[38;5;124;43m\"\u001b[39;49m\u001b[38;5;124;43mencoding_errors\u001b[39;49m\u001b[38;5;124;43m\"\u001b[39;49m\u001b[43m,\u001b[49m\u001b[43m \u001b[49m\u001b[38;5;124;43m\"\u001b[39;49m\u001b[38;5;124;43mstrict\u001b[39;49m\u001b[38;5;124;43m\"\u001b[39;49m\u001b[43m)\u001b[49m\u001b[43m,\u001b[49m\n\u001b[0;32m   1225\u001b[0m \u001b[43m    \u001b[49m\u001b[43mstorage_options\u001b[49m\u001b[38;5;241;43m=\u001b[39;49m\u001b[38;5;28;43mself\u001b[39;49m\u001b[38;5;241;43m.\u001b[39;49m\u001b[43moptions\u001b[49m\u001b[38;5;241;43m.\u001b[39;49m\u001b[43mget\u001b[49m\u001b[43m(\u001b[49m\u001b[38;5;124;43m\"\u001b[39;49m\u001b[38;5;124;43mstorage_options\u001b[39;49m\u001b[38;5;124;43m\"\u001b[39;49m\u001b[43m,\u001b[49m\u001b[43m \u001b[49m\u001b[38;5;28;43;01mNone\u001b[39;49;00m\u001b[43m)\u001b[49m\u001b[43m,\u001b[49m\n\u001b[0;32m   1226\u001b[0m \u001b[43m\u001b[49m\u001b[43m)\u001b[49m\n\u001b[0;32m   1227\u001b[0m \u001b[38;5;28;01massert\u001b[39;00m \u001b[38;5;28mself\u001b[39m\u001b[38;5;241m.\u001b[39mhandles \u001b[38;5;129;01mis\u001b[39;00m \u001b[38;5;129;01mnot\u001b[39;00m \u001b[38;5;28;01mNone\u001b[39;00m\n\u001b[0;32m   1228\u001b[0m f \u001b[38;5;241m=\u001b[39m \u001b[38;5;28mself\u001b[39m\u001b[38;5;241m.\u001b[39mhandles\u001b[38;5;241m.\u001b[39mhandle\n",
      "File \u001b[1;32mC:\\Anaconda3\\envs\\py39tf2\\lib\\site-packages\\pandas\\io\\common.py:789\u001b[0m, in \u001b[0;36mget_handle\u001b[1;34m(path_or_buf, mode, encoding, compression, memory_map, is_text, errors, storage_options)\u001b[0m\n\u001b[0;32m    784\u001b[0m \u001b[38;5;28;01melif\u001b[39;00m \u001b[38;5;28misinstance\u001b[39m(handle, \u001b[38;5;28mstr\u001b[39m):\n\u001b[0;32m    785\u001b[0m     \u001b[38;5;66;03m# Check whether the filename is to be opened in binary mode.\u001b[39;00m\n\u001b[0;32m    786\u001b[0m     \u001b[38;5;66;03m# Binary mode does not support 'encoding' and 'newline'.\u001b[39;00m\n\u001b[0;32m    787\u001b[0m     \u001b[38;5;28;01mif\u001b[39;00m ioargs\u001b[38;5;241m.\u001b[39mencoding \u001b[38;5;129;01mand\u001b[39;00m \u001b[38;5;124m\"\u001b[39m\u001b[38;5;124mb\u001b[39m\u001b[38;5;124m\"\u001b[39m \u001b[38;5;129;01mnot\u001b[39;00m \u001b[38;5;129;01min\u001b[39;00m ioargs\u001b[38;5;241m.\u001b[39mmode:\n\u001b[0;32m    788\u001b[0m         \u001b[38;5;66;03m# Encoding\u001b[39;00m\n\u001b[1;32m--> 789\u001b[0m         handle \u001b[38;5;241m=\u001b[39m \u001b[38;5;28;43mopen\u001b[39;49m\u001b[43m(\u001b[49m\n\u001b[0;32m    790\u001b[0m \u001b[43m            \u001b[49m\u001b[43mhandle\u001b[49m\u001b[43m,\u001b[49m\n\u001b[0;32m    791\u001b[0m \u001b[43m            \u001b[49m\u001b[43mioargs\u001b[49m\u001b[38;5;241;43m.\u001b[39;49m\u001b[43mmode\u001b[49m\u001b[43m,\u001b[49m\n\u001b[0;32m    792\u001b[0m \u001b[43m            \u001b[49m\u001b[43mencoding\u001b[49m\u001b[38;5;241;43m=\u001b[39;49m\u001b[43mioargs\u001b[49m\u001b[38;5;241;43m.\u001b[39;49m\u001b[43mencoding\u001b[49m\u001b[43m,\u001b[49m\n\u001b[0;32m    793\u001b[0m \u001b[43m            \u001b[49m\u001b[43merrors\u001b[49m\u001b[38;5;241;43m=\u001b[39;49m\u001b[43merrors\u001b[49m\u001b[43m,\u001b[49m\n\u001b[0;32m    794\u001b[0m \u001b[43m            \u001b[49m\u001b[43mnewline\u001b[49m\u001b[38;5;241;43m=\u001b[39;49m\u001b[38;5;124;43m\"\u001b[39;49m\u001b[38;5;124;43m\"\u001b[39;49m\u001b[43m,\u001b[49m\n\u001b[0;32m    795\u001b[0m \u001b[43m        \u001b[49m\u001b[43m)\u001b[49m\n\u001b[0;32m    796\u001b[0m     \u001b[38;5;28;01melse\u001b[39;00m:\n\u001b[0;32m    797\u001b[0m         \u001b[38;5;66;03m# Binary mode\u001b[39;00m\n\u001b[0;32m    798\u001b[0m         handle \u001b[38;5;241m=\u001b[39m \u001b[38;5;28mopen\u001b[39m(handle, ioargs\u001b[38;5;241m.\u001b[39mmode)\n",
      "\u001b[1;31mFileNotFoundError\u001b[0m: [Errno 2] No such file or directory: './data/[Model6]감성지수_added_df_result.csv'"
     ]
    }
   ],
   "source": [
    "df_result = pd.read_csv('./data/[Model6]감성지수_added_df_result.csv', index_col = 0)\n",
    "df_result"
   ]
  },
  {
   "cell_type": "code",
   "execution_count": 20,
   "metadata": {
    "colab": {
     "base_uri": "https://localhost:8080/"
    },
    "id": "6xNz4pHFsPym",
    "outputId": "727ce6de-4d59-454b-d050-95cd17d359c3"
   },
   "outputs": [
    {
     "data": {
      "text/plain": [
       "403719"
      ]
     },
     "execution_count": 20,
     "metadata": {},
     "output_type": "execute_result"
    }
   ],
   "source": [
    "len(df_result)"
   ]
  },
  {
   "cell_type": "code",
   "execution_count": 21,
   "metadata": {
    "colab": {
     "base_uri": "https://localhost:8080/"
    },
    "id": "8FbeCAz0rKe6",
    "outputId": "b01e3529-ab8e-4298-9aac-c9581e6b7665"
   },
   "outputs": [
    {
     "data": {
      "text/plain": [
       "402606"
      ]
     },
     "execution_count": 21,
     "metadata": {},
     "output_type": "execute_result"
    }
   ],
   "source": [
    "df_result = df_result.drop(df_result[df_result['감성지수'] == 999].index)\n",
    "len(df_result)"
   ]
  },
  {
   "cell_type": "code",
   "execution_count": 22,
   "metadata": {
    "id": "GRJdwAQgsgGl"
   },
   "outputs": [],
   "source": [
    "df_result.to_csv('./data/[Model6]감성지수_added_df_result.csv', encoding = 'utf-8-sig')"
   ]
  },
  {
   "cell_type": "markdown",
   "metadata": {
    "id": "k0HwiCo-RM6c"
   },
   "source": [
    "# 예측 모델 적용"
   ]
  },
  {
   "cell_type": "code",
   "execution_count": 23,
   "metadata": {
    "id": "A9ZdZ7Af9_wS"
   },
   "outputs": [],
   "source": [
    "df_result['tokenized'] = 0\n",
    "df_result.dropna(how='any',inplace= True)\n",
    "df_result['tokenized'] = df_result['Title'].apply(okt.morphs)   # 또는 자유롭게 라이브러리 사용"
   ]
  },
  {
   "cell_type": "code",
   "execution_count": 24,
   "metadata": {
    "id": "t4DsBmwjHy1I"
   },
   "outputs": [],
   "source": [
    "# tokenized 열이 추가된 df_result를 csv로.\n",
    "df_result.to_csv('./data/[Model6]tokenized_added_df_result.csv', encoding = 'utf-8-sig')"
   ]
  },
  {
   "cell_type": "markdown",
   "metadata": {
    "id": "M1Sh1W4RShxz"
   },
   "source": [
    "## 모델 테스트 용 : 여기서부터 시작~"
   ]
  },
  {
   "cell_type": "code",
   "execution_count": 2,
   "metadata": {
    "colab": {
     "base_uri": "https://localhost:8080/",
     "height": 659
    },
    "id": "Uky0zZofFt5Z",
    "outputId": "06ca1b70-c347-442c-b6f6-c4b8b388e6b9"
   },
   "outputs": [
    {
     "data": {
      "text/html": [
       "<div>\n",
       "<style scoped>\n",
       "    .dataframe tbody tr th:only-of-type {\n",
       "        vertical-align: middle;\n",
       "    }\n",
       "\n",
       "    .dataframe tbody tr th {\n",
       "        vertical-align: top;\n",
       "    }\n",
       "\n",
       "    .dataframe thead th {\n",
       "        text-align: right;\n",
       "    }\n",
       "</style>\n",
       "<table border=\"1\" class=\"dataframe\">\n",
       "  <thead>\n",
       "    <tr style=\"text-align: right;\">\n",
       "      <th></th>\n",
       "      <th>Date</th>\n",
       "      <th>Title</th>\n",
       "      <th>주가의 날짜</th>\n",
       "      <th>등락률(y)</th>\n",
       "      <th>updown</th>\n",
       "      <th>Pos</th>\n",
       "      <th>Neg</th>\n",
       "      <th>Mid</th>\n",
       "      <th>감성지수</th>\n",
       "      <th>tokenized</th>\n",
       "    </tr>\n",
       "  </thead>\n",
       "  <tbody>\n",
       "    <tr>\n",
       "      <th>0</th>\n",
       "      <td>2021-01-04</td>\n",
       "      <td>한국단자  52주 신고가 경신  단기 중기 이평선 정배열로 상승세</td>\n",
       "      <td>2021-01-05</td>\n",
       "      <td>2.24</td>\n",
       "      <td>1</td>\n",
       "      <td>1</td>\n",
       "      <td>0</td>\n",
       "      <td>0</td>\n",
       "      <td>1</td>\n",
       "      <td>['한국', '단자', '52', '주', '신고', '가', '경신', '단기',...</td>\n",
       "    </tr>\n",
       "    <tr>\n",
       "      <th>1</th>\n",
       "      <td>2021-01-04</td>\n",
       "      <td>현대오토에버  52주 신고가 경신  전일 외국인 대량 순매수</td>\n",
       "      <td>2021-01-05</td>\n",
       "      <td>2.24</td>\n",
       "      <td>1</td>\n",
       "      <td>1</td>\n",
       "      <td>0</td>\n",
       "      <td>0</td>\n",
       "      <td>1</td>\n",
       "      <td>['현대', '오토', '에버', '52', '주', '신고', '가', '경신',...</td>\n",
       "    </tr>\n",
       "    <tr>\n",
       "      <th>2</th>\n",
       "      <td>2021-01-04</td>\n",
       "      <td>리서치알음  푸드나무  140만명 플랫폼증가익일배송 다이어트푸드 최대 수혜주</td>\n",
       "      <td>2021-01-05</td>\n",
       "      <td>2.24</td>\n",
       "      <td>1</td>\n",
       "      <td>1</td>\n",
       "      <td>0</td>\n",
       "      <td>0</td>\n",
       "      <td>1</td>\n",
       "      <td>['리서치', '알음', '푸드', '나무', '140만', '명', '플랫폼', ...</td>\n",
       "    </tr>\n",
       "    <tr>\n",
       "      <th>3</th>\n",
       "      <td>2021-01-04</td>\n",
       "      <td>특징주 전기차 시장 확대  2차전지주 강세</td>\n",
       "      <td>2021-01-05</td>\n",
       "      <td>2.24</td>\n",
       "      <td>1</td>\n",
       "      <td>1</td>\n",
       "      <td>0</td>\n",
       "      <td>0</td>\n",
       "      <td>1</td>\n",
       "      <td>['특징', '주', '전기차', '시장', '확대', '2', '차전지주', '강세']</td>\n",
       "    </tr>\n",
       "    <tr>\n",
       "      <th>4</th>\n",
       "      <td>2021-01-04</td>\n",
       "      <td>동화기업  52주 신고가 경신  기관 4일 연속 순매수 5 1만주</td>\n",
       "      <td>2021-01-05</td>\n",
       "      <td>2.24</td>\n",
       "      <td>1</td>\n",
       "      <td>1</td>\n",
       "      <td>0</td>\n",
       "      <td>0</td>\n",
       "      <td>1</td>\n",
       "      <td>['동화', '기업', '52', '주', '신고', '가', '경신', '기관',...</td>\n",
       "    </tr>\n",
       "    <tr>\n",
       "      <th>...</th>\n",
       "      <td>...</td>\n",
       "      <td>...</td>\n",
       "      <td>...</td>\n",
       "      <td>...</td>\n",
       "      <td>...</td>\n",
       "      <td>...</td>\n",
       "      <td>...</td>\n",
       "      <td>...</td>\n",
       "      <td>...</td>\n",
       "      <td>...</td>\n",
       "    </tr>\n",
       "    <tr>\n",
       "      <th>403714</th>\n",
       "      <td>2022-06-29</td>\n",
       "      <td>IBK투자증권  중소기업과 손잡고 사회취약계층 지원 나서</td>\n",
       "      <td>2022-06-30</td>\n",
       "      <td>-6.67</td>\n",
       "      <td>-1</td>\n",
       "      <td>1</td>\n",
       "      <td>0</td>\n",
       "      <td>0</td>\n",
       "      <td>1</td>\n",
       "      <td>['IBK', '투자', '증권', '중소기업', '과', '손잡고', '사회', ...</td>\n",
       "    </tr>\n",
       "    <tr>\n",
       "      <th>403715</th>\n",
       "      <td>2022-06-29</td>\n",
       "      <td>유안타증권  주가연계증권  MY ELS 5000호  공모</td>\n",
       "      <td>2022-06-30</td>\n",
       "      <td>-6.67</td>\n",
       "      <td>-1</td>\n",
       "      <td>0</td>\n",
       "      <td>0</td>\n",
       "      <td>0</td>\n",
       "      <td>0</td>\n",
       "      <td>['유안', '타', '증권', '주', '가연', '계', '증권', 'MY', ...</td>\n",
       "    </tr>\n",
       "    <tr>\n",
       "      <th>403716</th>\n",
       "      <td>2022-06-29</td>\n",
       "      <td>디지털플랫폼정부위원회 출범 위세아이텍  성장 속도 빨라질 것</td>\n",
       "      <td>2022-06-30</td>\n",
       "      <td>-6.67</td>\n",
       "      <td>-1</td>\n",
       "      <td>1</td>\n",
       "      <td>0</td>\n",
       "      <td>0</td>\n",
       "      <td>1</td>\n",
       "      <td>['디지털', '플랫폼', '정부', '위원회', '출범', '위세', '아이', ...</td>\n",
       "    </tr>\n",
       "    <tr>\n",
       "      <th>403717</th>\n",
       "      <td>2022-06-29</td>\n",
       "      <td>코오롱글로벌  경북 영덕 호지마을 풍력발전단지 건설</td>\n",
       "      <td>2022-06-30</td>\n",
       "      <td>-6.67</td>\n",
       "      <td>-1</td>\n",
       "      <td>0</td>\n",
       "      <td>0</td>\n",
       "      <td>0</td>\n",
       "      <td>0</td>\n",
       "      <td>['코오롱', '글로벌', '경북', '영덕', '호', '지', '마을', '풍력...</td>\n",
       "    </tr>\n",
       "    <tr>\n",
       "      <th>403718</th>\n",
       "      <td>2022-06-29</td>\n",
       "      <td>한국예탁결제원  2022년 상반기 부산 사이버보안협의회  개최</td>\n",
       "      <td>2022-06-30</td>\n",
       "      <td>-6.67</td>\n",
       "      <td>-1</td>\n",
       "      <td>0</td>\n",
       "      <td>0</td>\n",
       "      <td>0</td>\n",
       "      <td>0</td>\n",
       "      <td>['한국', '예', '탁', '결제', '원', '2022년', '상반기', '부...</td>\n",
       "    </tr>\n",
       "  </tbody>\n",
       "</table>\n",
       "<p>402606 rows × 10 columns</p>\n",
       "</div>"
      ],
      "text/plain": [
       "              Date                                        Title      주가의 날짜  \\\n",
       "0       2021-01-04         한국단자  52주 신고가 경신  단기 중기 이평선 정배열로 상승세  2021-01-05   \n",
       "1       2021-01-04            현대오토에버  52주 신고가 경신  전일 외국인 대량 순매수  2021-01-05   \n",
       "2       2021-01-04  리서치알음  푸드나무  140만명 플랫폼증가익일배송 다이어트푸드 최대 수혜주   2021-01-05   \n",
       "3       2021-01-04                      특징주 전기차 시장 확대  2차전지주 강세  2021-01-05   \n",
       "4       2021-01-04        동화기업  52주 신고가 경신  기관 4일 연속 순매수 5 1만주   2021-01-05   \n",
       "...            ...                                          ...         ...   \n",
       "403714  2022-06-29              IBK투자증권  중소기업과 손잡고 사회취약계층 지원 나서  2022-06-30   \n",
       "403715  2022-06-29              유안타증권  주가연계증권  MY ELS 5000호  공모  2022-06-30   \n",
       "403716  2022-06-29            디지털플랫폼정부위원회 출범 위세아이텍  성장 속도 빨라질 것  2022-06-30   \n",
       "403717  2022-06-29                 코오롱글로벌  경북 영덕 호지마을 풍력발전단지 건설  2022-06-30   \n",
       "403718  2022-06-29           한국예탁결제원  2022년 상반기 부산 사이버보안협의회  개최  2022-06-30   \n",
       "\n",
       "        등락률(y)  updown  Pos  Neg  Mid  감성지수  \\\n",
       "0         2.24       1    1    0    0     1   \n",
       "1         2.24       1    1    0    0     1   \n",
       "2         2.24       1    1    0    0     1   \n",
       "3         2.24       1    1    0    0     1   \n",
       "4         2.24       1    1    0    0     1   \n",
       "...        ...     ...  ...  ...  ...   ...   \n",
       "403714   -6.67      -1    1    0    0     1   \n",
       "403715   -6.67      -1    0    0    0     0   \n",
       "403716   -6.67      -1    1    0    0     1   \n",
       "403717   -6.67      -1    0    0    0     0   \n",
       "403718   -6.67      -1    0    0    0     0   \n",
       "\n",
       "                                                tokenized  \n",
       "0       ['한국', '단자', '52', '주', '신고', '가', '경신', '단기',...  \n",
       "1       ['현대', '오토', '에버', '52', '주', '신고', '가', '경신',...  \n",
       "2       ['리서치', '알음', '푸드', '나무', '140만', '명', '플랫폼', ...  \n",
       "3       ['특징', '주', '전기차', '시장', '확대', '2', '차전지주', '강세']  \n",
       "4       ['동화', '기업', '52', '주', '신고', '가', '경신', '기관',...  \n",
       "...                                                   ...  \n",
       "403714  ['IBK', '투자', '증권', '중소기업', '과', '손잡고', '사회', ...  \n",
       "403715  ['유안', '타', '증권', '주', '가연', '계', '증권', 'MY', ...  \n",
       "403716  ['디지털', '플랫폼', '정부', '위원회', '출범', '위세', '아이', ...  \n",
       "403717  ['코오롱', '글로벌', '경북', '영덕', '호', '지', '마을', '풍력...  \n",
       "403718  ['한국', '예', '탁', '결제', '원', '2022년', '상반기', '부...  \n",
       "\n",
       "[402606 rows x 10 columns]"
      ]
     },
     "execution_count": 2,
     "metadata": {},
     "output_type": "execute_result"
    }
   ],
   "source": [
    "df_result = pd.read_csv('./data/[Model6]tokenized_added_df_result.csv', index_col = 0)\n",
    "df_result"
   ]
  },
  {
   "cell_type": "code",
   "execution_count": 3,
   "metadata": {
    "colab": {
     "base_uri": "https://localhost:8080/"
    },
    "id": "LjtL7aPXPt1v",
    "outputId": "382b6dd4-2132-4912-f299-970bee5fbc6b"
   },
   "outputs": [
    {
     "data": {
      "text/plain": [
       "array([\"['한국', '단자', '52', '주', '신고', '가', '경신', '단기', '중기', '이평', '선', '정', '배열', '로', '상승세']\",\n",
       "       \"['현대', '오토', '에버', '52', '주', '신고', '가', '경신', '전일', '외국인', '대량', '순', '매수']\",\n",
       "       \"['리서치', '알음', '푸드', '나무', '140만', '명', '플랫폼', '증가', '익일', '배송', '다이어트', '푸드', '최대', '수', '혜주']\",\n",
       "       ...,\n",
       "       \"['디지털', '플랫폼', '정부', '위원회', '출범', '위세', '아이', '텍', '성장', '속도', '빨라질', '것']\",\n",
       "       \"['코오롱', '글로벌', '경북', '영덕', '호', '지', '마을', '풍력발전', '단지', '건설']\",\n",
       "       \"['한국', '예', '탁', '결제', '원', '2022년', '상반기', '부산', '사이버', '보안', '협의', '회', '개최']\"],\n",
       "      dtype=object)"
      ]
     },
     "execution_count": 3,
     "metadata": {},
     "output_type": "execute_result"
    }
   ],
   "source": [
    "X_train = df_result['tokenized'].values\n",
    "y_train = df_result['감성지수'].values\n",
    "X_train"
   ]
  },
  {
   "cell_type": "code",
   "execution_count": 4,
   "metadata": {
    "id": "aMpJOD6kbTEg"
   },
   "outputs": [],
   "source": [
    "tokenizer = Tokenizer(len(df_result['tokenized']), oov_token = 'OOV')\n",
    "tokenizer.fit_on_texts(X_train)\n",
    "X_train = tokenizer.texts_to_sequences(X_train)"
   ]
  },
  {
   "cell_type": "code",
   "execution_count": 5,
   "metadata": {
    "colab": {
     "base_uri": "https://localhost:8080/"
    },
    "id": "cAS-63YHb03_",
    "outputId": "e000e45d-3361-42c9-baff-aeced483d968"
   },
   "outputs": [
    {
     "name": "stdout",
     "output_type": "stream",
     "text": [
      "리뷰 최대 길이 : 42\n"
     ]
    }
   ],
   "source": [
    "max_len = max(len(i) for i in X_train)\n",
    "print('리뷰 최대 길이 :', max_len)"
   ]
  },
  {
   "cell_type": "code",
   "execution_count": 6,
   "metadata": {
    "id": "CErW2IiUgyGU"
   },
   "outputs": [],
   "source": [
    "from tensorflow.keras.preprocessing.sequence import pad_sequences\n",
    "\n",
    "# 패딩\n",
    "X_train = pad_sequences(X_train, maxlen = max_len)"
   ]
  },
  {
   "cell_type": "code",
   "execution_count": 7,
   "metadata": {
    "id": "3vs7HFY9SAzY"
   },
   "outputs": [],
   "source": [
    "# y label shape 맞춰주기\n",
    "from tensorflow.keras.utils import to_categorical\n",
    "\n",
    "y_train = to_categorical(y_train, 3)"
   ]
  },
  {
   "cell_type": "markdown",
   "metadata": {
    "id": "WjgJIwFOOF63"
   },
   "source": [
    "# LSTM 모델링"
   ]
  },
  {
   "cell_type": "code",
   "execution_count": 8,
   "metadata": {
    "id": "uo8xVm0RwW2Q"
   },
   "outputs": [],
   "source": [
    "from tensorflow.keras.layers import Embedding, Dense, LSTM, Bidirectional\n",
    "from tensorflow.keras.models import Sequential, load_model\n",
    "from tensorflow.keras.callbacks import EarlyStopping, ModelCheckpoint"
   ]
  },
  {
   "cell_type": "code",
   "execution_count": 9,
   "metadata": {
    "colab": {
     "base_uri": "https://localhost:8080/"
    },
    "id": "Vt3AzFeJOBxu",
    "outputId": "dc481c3a-fade-413d-cb96-5524b6fcd814"
   },
   "outputs": [
    {
     "name": "stdout",
     "output_type": "stream",
     "text": [
      "Epoch 1/15\n",
      "1258/1259 [============================>.] - ETA: 0s - loss: 0.0337 - acc: 0.8583\n",
      "Epoch 1: acc improved from -inf to 0.85834, saving model to real_model6_lstm.h5\n",
      "1259/1259 [==============================] - 233s 184ms/step - loss: 0.0337 - acc: 0.8583 - val_loss: 0.0290 - val_acc: 0.8889\n",
      "Epoch 2/15\n",
      "1258/1259 [============================>.] - ETA: 0s - loss: 0.0174 - acc: 0.9321\n",
      "Epoch 2: acc improved from 0.85834 to 0.93215, saving model to real_model6_lstm.h5\n",
      "1259/1259 [==============================] - 239s 190ms/step - loss: 0.0174 - acc: 0.9321 - val_loss: 0.0242 - val_acc: 0.9022\n",
      "Epoch 3/15\n",
      "1258/1259 [============================>.] - ETA: 0s - loss: 0.0142 - acc: 0.9429\n",
      "Epoch 3: acc improved from 0.93215 to 0.94287, saving model to real_model6_lstm.h5\n",
      "1259/1259 [==============================] - 240s 191ms/step - loss: 0.0142 - acc: 0.9429 - val_loss: 0.0219 - val_acc: 0.9089\n",
      "Epoch 4/15\n",
      "1258/1259 [============================>.] - ETA: 0s - loss: 0.0127 - acc: 0.9485\n",
      "Epoch 4: acc improved from 0.94287 to 0.94849, saving model to real_model6_lstm.h5\n",
      "1259/1259 [==============================] - 242s 192ms/step - loss: 0.0127 - acc: 0.9485 - val_loss: 0.0220 - val_acc: 0.9092\n",
      "Epoch 5/15\n",
      "1258/1259 [============================>.] - ETA: 0s - loss: 0.0119 - acc: 0.9518\n",
      "Epoch 5: acc improved from 0.94849 to 0.95184, saving model to real_model6_lstm.h5\n",
      "1259/1259 [==============================] - 264s 210ms/step - loss: 0.0119 - acc: 0.9518 - val_loss: 0.0212 - val_acc: 0.9118\n",
      "Epoch 6/15\n",
      "1258/1259 [============================>.] - ETA: 0s - loss: 0.0112 - acc: 0.9543\n",
      "Epoch 6: acc improved from 0.95184 to 0.95433, saving model to real_model6_lstm.h5\n",
      "1259/1259 [==============================] - 261s 207ms/step - loss: 0.0112 - acc: 0.9543 - val_loss: 0.0211 - val_acc: 0.9125\n",
      "Epoch 7/15\n",
      "1258/1259 [============================>.] - ETA: 0s - loss: 0.0107 - acc: 0.9564\n",
      "Epoch 7: acc improved from 0.95433 to 0.95638, saving model to real_model6_lstm.h5\n",
      "1259/1259 [==============================] - 257s 204ms/step - loss: 0.0107 - acc: 0.9564 - val_loss: 0.0209 - val_acc: 0.9117\n",
      "Epoch 8/15\n",
      "1258/1259 [============================>.] - ETA: 0s - loss: 0.0103 - acc: 0.9582\n",
      "Epoch 8: acc improved from 0.95638 to 0.95818, saving model to real_model6_lstm.h5\n",
      "1259/1259 [==============================] - 283s 225ms/step - loss: 0.0103 - acc: 0.9582 - val_loss: 0.0215 - val_acc: 0.9101\n",
      "Epoch 9/15\n",
      "1258/1259 [============================>.] - ETA: 0s - loss: 0.0098 - acc: 0.9599\n",
      "Epoch 9: acc improved from 0.95818 to 0.95988, saving model to real_model6_lstm.h5\n",
      "1259/1259 [==============================] - 285s 227ms/step - loss: 0.0098 - acc: 0.9599 - val_loss: 0.0213 - val_acc: 0.9111\n",
      "Epoch 10/15\n",
      "1258/1259 [============================>.] - ETA: 0s - loss: 0.0094 - acc: 0.9616\n",
      "Epoch 10: acc improved from 0.95988 to 0.96161, saving model to real_model6_lstm.h5\n",
      "1259/1259 [==============================] - 285s 226ms/step - loss: 0.0094 - acc: 0.9616 - val_loss: 0.0213 - val_acc: 0.9097\n",
      "Epoch 11/15\n",
      "1258/1259 [============================>.] - ETA: 0s - loss: 0.0090 - acc: 0.9631\n",
      "Epoch 11: acc improved from 0.96161 to 0.96307, saving model to real_model6_lstm.h5\n",
      "1259/1259 [==============================] - 301s 239ms/step - loss: 0.0090 - acc: 0.9631 - val_loss: 0.0223 - val_acc: 0.9053\n",
      "Epoch 12/15\n",
      "1258/1259 [============================>.] - ETA: 0s - loss: 0.0086 - acc: 0.9649\n",
      "Epoch 12: acc improved from 0.96307 to 0.96486, saving model to real_model6_lstm.h5\n",
      "1259/1259 [==============================] - 301s 239ms/step - loss: 0.0086 - acc: 0.9649 - val_loss: 0.0219 - val_acc: 0.9108\n",
      "Epoch 13/15\n",
      "1258/1259 [============================>.] - ETA: 0s - loss: 0.0083 - acc: 0.9662\n",
      "Epoch 13: acc improved from 0.96486 to 0.96616, saving model to real_model6_lstm.h5\n",
      "1259/1259 [==============================] - 317s 252ms/step - loss: 0.0083 - acc: 0.9662 - val_loss: 0.0220 - val_acc: 0.9083\n",
      "Epoch 14/15\n",
      "1258/1259 [============================>.] - ETA: 0s - loss: 0.0080 - acc: 0.9675\n",
      "Epoch 14: acc improved from 0.96616 to 0.96748, saving model to real_model6_lstm.h5\n",
      "1259/1259 [==============================] - 332s 264ms/step - loss: 0.0080 - acc: 0.9675 - val_loss: 0.0229 - val_acc: 0.9055\n",
      "Epoch 15/15\n",
      "1258/1259 [============================>.] - ETA: 0s - loss: 0.0077 - acc: 0.9690\n",
      "Epoch 15: acc improved from 0.96748 to 0.96899, saving model to real_model6_lstm.h5\n",
      "1259/1259 [==============================] - 342s 272ms/step - loss: 0.0077 - acc: 0.9690 - val_loss: 0.0225 - val_acc: 0.9102\n",
      "Model: \"sequential\"\n",
      "_________________________________________________________________\n",
      " Layer (type)                Output Shape              Param #   \n",
      "=================================================================\n",
      " embedding (Embedding)       (None, None, 100)         40260600  \n",
      "                                                                 \n",
      " bidirectional (Bidirectiona  (None, 200)              160800    \n",
      " l)                                                              \n",
      "                                                                 \n",
      " dense (Dense)               (None, 3)                 603       \n",
      "                                                                 \n",
      "=================================================================\n",
      "Total params: 40,422,003\n",
      "Trainable params: 40,422,003\n",
      "Non-trainable params: 0\n",
      "_________________________________________________________________\n"
     ]
    }
   ],
   "source": [
    "model = Sequential()\n",
    "model.add(Embedding(len(X_train), 100))\n",
    "model.add(Bidirectional(LSTM(100)))\n",
    "model.add(Dense(3, activation = 'softmax'))\n",
    "\n",
    "# val_loss를 관찰값으로 설정, 그 값이 감소하는 걸 멈출 때 학습 종료\n",
    "es = EarlyStopping(monitor = 'val_loss', mode = 'min', verbose=1, patience=10)\n",
    "\n",
    "# mc = ModelCheckpoint('real_model6_lstm.h5', monitor = 'val_acc', mode = 'max', verbose = 1, save_best_only=True)\n",
    "mc = ModelCheckpoint('real_model6_lstm.h5', monitor = 'acc', mode = 'max', verbose = 1, save_best_only=True)\n",
    "\n",
    "\n",
    "# optimizer 및 loss function 테스트 : 전부 inference 결과가 좋지 않음\n",
    "# model.compile(optimizer='rmsprop', loss='mse', metrics=['acc'])\n",
    "# model.compile(optimizer='rmsprop', loss='mae', metrics = ['acc'])\n",
    "# model.compile(optimizer='rmsprop', loss='categorical_crossentropy', metrics = ['acc'])\n",
    "# model.compile(optimizer='rmsprop', loss='categorical_hinge', metrics = ['acc'])\n",
    "# model.compile(optimizer='sgd', loss='categorical_hinge', metrics = ['acc'])\n",
    "# model.compile(optimizer='rmsprop', loss='hinge', metrics = ['acc'])\n",
    "# model.compile(optimizer='rmsprop', loss='KLDivergence', metrics = ['acc'])\n",
    "# model.compile(optimizer='rmsprop', loss='LogCosh', metrics = ['acc'])\n",
    "# model.compile(optimizer='rmsprop', loss='CosineSimilarity', metrics = ['acc'])\n",
    "# model.compile(optimizer='rmsprop', loss='SquaredHinge', metrics = ['acc'])\n",
    "# model.compile(optimizer='rmsprop', loss='MeanSquaredLogarithmicError', metrics = ['acc'])\n",
    "# model.compile(optimizer='rmsprop', loss='huber', metrics = ['acc'])\n",
    "# model.compile(optimizer='adam', loss='LogCosh', metrics = ['acc'])\n",
    "# model.compile(optimizer='nadam', loss='LogCosh', metrics = ['acc'])\n",
    "model.compile(optimizer='adamax', loss='LogCosh', metrics = ['acc'])\n",
    "\n",
    "history = model.fit(X_train, y_train, epochs=15, callbacks=[es, mc], batch_size=256, validation_split=0.2)\n",
    "\n",
    "model.summary()"
   ]
  },
  {
   "cell_type": "code",
   "execution_count": 10,
   "metadata": {
    "id": "bwUKIhkG-MZi"
   },
   "outputs": [],
   "source": [
    "# 저장된 모델 불러오기, 평가\n",
    "# loaded_model = load_model('real_model6_lstm.h5')\n",
    "# loaded_model.evaluate(X_train, y_train)"
   ]
  },
  {
   "cell_type": "code",
   "execution_count": 11,
   "metadata": {
    "colab": {
     "base_uri": "https://localhost:8080/"
    },
    "id": "nSEsXqkacfEh",
    "outputId": "0b061c8e-6030-44e5-bbf0-e5f354d227b4"
   },
   "outputs": [
    {
     "name": "stdout",
     "output_type": "stream",
     "text": [
      "12582/12582 [==============================] - 73s 6ms/step - loss: 0.1898 - acc: 0.3267\n"
     ]
    },
    {
     "data": {
      "text/plain": [
       "[0.18984787166118622, 0.32671892642974854]"
      ]
     },
     "execution_count": 11,
     "metadata": {},
     "output_type": "execute_result"
    }
   ],
   "source": [
    "y_result = df_result['updown'].values\n",
    "y_result = to_categorical(y_result, 3)\n",
    "\n",
    "# 저장된 모델 불러오기, 평가\n",
    "loaded_model = load_model('real_model6_lstm.h5')\n",
    "loaded_model.evaluate(X_train, y_result)"
   ]
  },
  {
   "cell_type": "markdown",
   "metadata": {
    "id": "s1VbFsXdOLpN"
   },
   "source": [
    "## 시각화"
   ]
  },
  {
   "cell_type": "code",
   "execution_count": 12,
   "metadata": {
    "colab": {
     "base_uri": "https://localhost:8080/",
     "height": 248
    },
    "id": "rVDEPxo1N_C5",
    "outputId": "90a98345-0a8b-4add-8789-ed26b628ca20"
   },
   "outputs": [
    {
     "data": {
      "image/png": "[encoded data removed]",
      "text/plain": [
       "<Figure size 432x288 with 1 Axes>"
      ]
     },
     "metadata": {
      "needs_background": "light"
     },
     "output_type": "display_data"
    },
    {
     "data": {
      "image/png": "[encoded data removed]",
      "text/plain": [
       "<Figure size 432x288 with 1 Axes>"
      ]
     },
     "metadata": {
      "needs_background": "light"
     },
     "output_type": "display_data"
    }
   ],
   "source": [
    "# 시각화\n",
    "hist_dict = history.history\n",
    "loss = hist_dict['loss']\n",
    "val_loss = hist_dict['val_loss']\n",
    "acc = hist_dict['acc']\n",
    "val_acc = hist_dict['val_acc']\n",
    "\n",
    "plt.plot(loss, 'b--', label = 'training loss')\n",
    "plt.plot(val_loss, 'r--', label = 'validation loss')\n",
    "plt.legend()\n",
    "plt.grid()\n",
    "\n",
    "plt.figure()\n",
    "plt.plot(acc, 'b--', label = 'training accuracy')\n",
    "plt.plot(val_acc, 'r--', label = 'validation accuracy')\n",
    "plt.legend()\n",
    "plt.grid()\n",
    "\n",
    "plt.show()"
   ]
  },
  {
   "cell_type": "code",
   "execution_count": 13,
   "metadata": {
    "id": "KboUPnfLN-4o"
   },
   "outputs": [],
   "source": [
    "import numpy as np\n",
    "\n",
    "# 임의 불용어\n",
    "stopwords1 = ['의','가','이','은','들','는','좀','잘','걍','과','도','를','으로','자','에','와','한','하다']\n",
    "stopwords2 = ['도', '는', '다', '의', '가', '이', '은', '한', '에', '하', '고', '을', '를', '인', '듯', '과', '와', '네', '들', '듯', '지', '임', '게']\n",
    "stopwords = list(set(stopwords1 + stopwords2))\n",
    "\n",
    "def sentiment_predict(new_sentence):\n",
    "    new_token = [word for word in okt.morphs(new_sentence) if not word in stopwords]\n",
    "    new_sequences = tokenizer.texts_to_sequences([new_token])\n",
    "    new_pad = pad_sequences(new_sequences, maxlen = max_len)\n",
    "    # score = float(loaded_model.predict(new_pad))\n",
    "    score = loaded_model.predict(new_pad)\n",
    "    # print(score)\n",
    "\n",
    "    # print(np.argmax(score))\n",
    "\n",
    "    if np.argmax(score) == 0 :\n",
    "        print(\"{} -> 상승 ({:.2f}%)\\n\".format(new_sentence, score.max() * 100))\n",
    "    elif np.argmax(score) == 1 :\n",
    "        print(\"{} -> 유지 ({:.2f}%)\\n\".format(new_sentence, score.max() * 100))\n",
    "    elif np.argmax(score) == 2 :\n",
    "        print(\"{} -> 하락 ({:.2f}%)\\n\".format(new_sentence, score.max() * 100))"
   ]
  },
  {
   "cell_type": "code",
   "execution_count": 14,
   "metadata": {
    "colab": {
     "base_uri": "https://localhost:8080/"
    },
    "id": "KT9dKSWdKp6Q",
    "outputId": "bd51afea-9514-421d-ce83-e164594de3c8"
   },
   "outputs": [
    {
     "ename": "NameError",
     "evalue": "name 'okt' is not defined",
     "output_type": "error",
     "traceback": [
      "\u001b[1;31m---------------------------------------------------------------------------\u001b[0m",
      "\u001b[1;31mNameError\u001b[0m                                 Traceback (most recent call last)",
      "Input \u001b[1;32mIn [14]\u001b[0m, in \u001b[0;36m<cell line: 1>\u001b[1;34m()\u001b[0m\n\u001b[1;32m----> 1\u001b[0m \u001b[43msentiment_predict\u001b[49m\u001b[43m(\u001b[49m\u001b[38;5;124;43m\"\u001b[39;49m\u001b[38;5;124;43m[유럽개장] 장초반 상승세…英 1.03\u001b[39;49m\u001b[38;5;124;43m%\u001b[39;49m\u001b[38;5;124;43m↑\u001b[39;49m\u001b[38;5;124;43m\"\u001b[39;49m\u001b[43m)\u001b[49m\n\u001b[0;32m      2\u001b[0m sentiment_predict(\u001b[38;5;124m\"\u001b[39m\u001b[38;5;124m[시황종합] 코스피, \u001b[39m\u001b[38;5;124m'\u001b[39m\u001b[38;5;124m침체우려\u001b[39m\u001b[38;5;124m'\u001b[39m\u001b[38;5;124m에 장중 연저점 경신…2300선 턱걸이 마감\u001b[39m\u001b[38;5;124m\"\u001b[39m)\n\u001b[0;32m      3\u001b[0m sentiment_predict(\u001b[38;5;124m\"\u001b[39m\u001b[38;5;124m[이번주 증시] 경기침체 우려 지속…반등시 포트폴리오 재정비\u001b[39m\u001b[38;5;124m\"\u001b[39m)\n",
      "Input \u001b[1;32mIn [13]\u001b[0m, in \u001b[0;36msentiment_predict\u001b[1;34m(new_sentence)\u001b[0m\n\u001b[0;32m      8\u001b[0m \u001b[38;5;28;01mdef\u001b[39;00m \u001b[38;5;21msentiment_predict\u001b[39m(new_sentence):\n\u001b[1;32m----> 9\u001b[0m     new_token \u001b[38;5;241m=\u001b[39m [word \u001b[38;5;28;01mfor\u001b[39;00m word \u001b[38;5;129;01min\u001b[39;00m \u001b[43mokt\u001b[49m\u001b[38;5;241m.\u001b[39mmorphs(new_sentence) \u001b[38;5;28;01mif\u001b[39;00m \u001b[38;5;129;01mnot\u001b[39;00m word \u001b[38;5;129;01min\u001b[39;00m stopwords]\n\u001b[0;32m     10\u001b[0m     new_sequences \u001b[38;5;241m=\u001b[39m tokenizer\u001b[38;5;241m.\u001b[39mtexts_to_sequences([new_token])\n\u001b[0;32m     11\u001b[0m     new_pad \u001b[38;5;241m=\u001b[39m pad_sequences(new_sequences, maxlen \u001b[38;5;241m=\u001b[39m max_len)\n",
      "\u001b[1;31mNameError\u001b[0m: name 'okt' is not defined"
     ]
    }
   ],
   "source": [
    "sentiment_predict(\"[유럽개장] 장초반 상승세…英 1.03%↑\")\n",
    "sentiment_predict(\"[시황종합] 코스피, '침체우려'에 장중 연저점 경신…2300선 턱걸이 마감\")\n",
    "sentiment_predict(\"[이번주 증시] 경기침체 우려 지속…반등시 포트폴리오 재정비\")\n",
    "sentiment_predict(\"'2차전지 너마저'…인플레·경기침체에 장사 없나 [한경우의 케이스스터디]\")\n",
    "sentiment_predict(\"기관 매도... 연일 증시 폭락\")\n",
    "sentiment_predict(\"코로나 확진자 3만명에 '비상'…여행-항공주 저가\")\n",
    "sentiment_predict(\"[특징주]지노믹트리, 핵산 증폭방법 특허 취득·미국 시장 진출 등 소식에 '강세'\")\n",
    "sentiment_predict(\"러시아 임플란트 수출 반토막에 주가급락한 덴티움…“피크아웃 판단은 시기상조”\")"
   ]
  },
  {
   "cell_type": "code",
   "execution_count": null,
   "metadata": {
    "id": "pY8jcuqiK08g"
   },
   "outputs": [],
   "source": []
  }
 ],
 "metadata": {
  "colab": {
   "collapsed_sections": [],
   "name": "220714 [Model6] (Word based LSTM) sentiment analysis.ipynb",
   "provenance": []
  },
  "gpuClass": "standard",
  "kernelspec": {
   "display_name": "Python 3 (ipykernel)",
   "language": "python",
   "name": "python3"
  },
  "language_info": {
   "codemirror_mode": {
    "name": "ipython",
    "version": 3
   },
   "file_extension": ".py",
   "mimetype": "text/x-python",
   "name": "python",
   "nbconvert_exporter": "python",
   "pygments_lexer": "ipython3",
   "version": "3.9.12"
  },
  "toc": {
   "base_numbering": 1,
   "nav_menu": {},
   "number_sections": true,
   "sideBar": true,
   "skip_h1_title": false,
   "title_cell": "Table of Contents",
   "title_sidebar": "Contents",
   "toc_cell": false,
   "toc_position": {},
   "toc_section_display": true,
   "toc_window_display": false
  },
  "varInspector": {
   "cols": {
    "lenName": 16,
    "lenType": 16,
    "lenVar": 40
   },
   "kernels_config": {
    "python": {
     "delete_cmd_postfix": "",
     "delete_cmd_prefix": "del ",
     "library": "var_list.py",
     "varRefreshCmd": "print(var_dic_list())"
    },
    "r": {
     "delete_cmd_postfix": ") ",
     "delete_cmd_prefix": "rm(",
     "library": "var_list.r",
     "varRefreshCmd": "cat(var_dic_list()) "
    }
   },
   "types_to_exclude": [
    "module",
    "function",
    "builtin_function_or_method",
    "instance",
    "_Feature"
   ],
   "window_display": false
  }
 },
 "nbformat": 4,
 "nbformat_minor": 1
}
