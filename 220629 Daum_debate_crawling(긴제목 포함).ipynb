{
 "cells": [
  {
   "cell_type": "code",
   "execution_count": 93,
   "id": "34e3b604",
   "metadata": {
    "ExecuteTime": {
     "end_time": "2022-06-29T05:47:29.510402Z",
     "start_time": "2022-06-29T05:47:29.483643Z"
    }
   },
   "outputs": [],
   "source": [
    "# 모듈 import\n",
    "import time\n",
    "import sys \n",
    "import os \n",
    "import re\n",
    "\n",
    "import pandas as pd\n",
    "import numpy as np\n",
    "\n",
    "from selenium import webdriver \n",
    "from selenium.webdriver.common.keys import Keys\n",
    "\n",
    "from datetime import datetime, timedelta\n",
    "\n",
    "import warnings\n",
    "warnings.filterwarnings('ignore')"
   ]
  },
  {
   "cell_type": "code",
   "execution_count": 94,
   "id": "b9b580fb",
   "metadata": {
    "ExecuteTime": {
     "end_time": "2022-06-29T05:47:29.881661Z",
     "start_time": "2022-06-29T05:47:29.864896Z"
    }
   },
   "outputs": [],
   "source": [
    "# 주피터\n",
    "driver_path = \"C:/chromedriver.exe\"\n",
    "csv_path = \"C:/users/jinyo/\"\n",
    "\n",
    "os.chdir(csv_path)"
   ]
  },
  {
   "cell_type": "code",
   "execution_count": 95,
   "id": "26fa3a42",
   "metadata": {
    "ExecuteTime": {
     "end_time": "2022-06-29T05:47:30.506107Z",
     "start_time": "2022-06-29T05:47:30.490993Z"
    }
   },
   "outputs": [],
   "source": [
    "# 코드 가져오기"
   ]
  },
  {
   "cell_type": "code",
   "execution_count": 98,
   "id": "d596af9e",
   "metadata": {
    "ExecuteTime": {
     "end_time": "2022-06-29T05:47:48.326986Z",
     "start_time": "2022-06-29T05:47:48.316359Z"
    }
   },
   "outputs": [],
   "source": [
    "import pandas as pd\n",
    "import pandas_datareader as pdr\n",
    "\n",
    "# 회사명으로 주식 종목 코드를 획득할 수 있도록 하는 함수\n",
    "def get_code(name):  \n",
    "    code_df = pd.read_html('http://kind.krx.co.kr/corpgeneral/corpList.do?method=download', header=0)[0]\n",
    "    code_df = code_df[['회사명', '종목코드']]\n",
    "    # data frame title 변경 '회사명' = name, 종목코드 = 'code'\n",
    "    code_df = code_df.rename(columns={'회사명': 'name', '종목코드': 'code'})\n",
    "\n",
    "    # 종목코드는 6자리로 구분되기때문에 0을 채워 6자리로 변경\n",
    "    code_df.code = code_df.code.map('{:06d}'.format)\n",
    "    target_code = code_df.query(f\"name=='{name}'\")\n",
    "    code = target_code['code'].to_string(index=False)\n",
    "    \n",
    "    # 위와같이 code명을 가져오면 앞에 공백이 붙어있는 상황이 발생하여 앞뒤로 sript() 하여 공백 제거 \n",
    "    code = code.strip()  \n",
    "    fin_code = 'A'+code   # 다음주식 검색을 위한 코드\n",
    "    return fin_code"
   ]
  },
  {
   "cell_type": "code",
   "execution_count": 99,
   "id": "5876735a",
   "metadata": {
    "ExecuteTime": {
     "end_time": "2022-06-29T05:47:50.503181Z",
     "start_time": "2022-06-29T05:47:49.166302Z"
    }
   },
   "outputs": [
    {
     "data": {
      "text/plain": [
       "['A005930']"
      ]
     },
     "execution_count": 99,
     "metadata": {},
     "output_type": "execute_result"
    }
   ],
   "source": [
    "codes = []\n",
    "codes.append(get_code('삼성전자'))\n",
    "codes"
   ]
  },
  {
   "cell_type": "code",
   "execution_count": 102,
   "id": "de2ab102",
   "metadata": {
    "ExecuteTime": {
     "end_time": "2022-06-29T05:50:32.779647Z",
     "start_time": "2022-06-29T05:49:24.993259Z"
    }
   },
   "outputs": [
    {
     "name": "stdout",
     "output_type": "stream",
     "text": [
      "공지 종목 게시판 운영 안내 (규제 강화)\n",
      "--------------------------------------------------\n",
      "■ 삼성전자(우): 강력 매수 신호 발생: 대박 3대 Item 장착 -->매수 [2]\n",
      "--------------------------------------------------\n",
      "◆ 삼성전자(우): 모건스텐리 추천 \"메타버스\" 최대 수혜주 [1]\n",
      "--------------------------------------------------\n",
      "희소식) 삼성전자(우): 대박호재 5가지 발생: 급등 상황 [1]\n",
      "--------------------------------------------------\n",
      "대박호재) 삼성전자(우): 세계 최초 3나노 공정 양산 성공 [1]\n",
      "--------------------------------------------------\n",
      "■ 삼성전자(우): 장기투자시 엄청난 수익률+엄청난 배당금 [1]\n",
      "--------------------------------------------------\n",
      "- LG전자 공시\n",
      "--------------------------------------------------\n",
      "- LG전자 공시\n",
      "--------------------------------------------------\n",
      "- LG전자 공시\n",
      "--------------------------------------------------\n",
      "- @코스피 하락 2023년 3월 마감\n",
      "--------------------------------------------------\n",
      "- 5만전자 배당락+나스닥 폭락..대폭락\n",
      "--------------------------------------------------\n",
      "- @삼전 바닥 57000원 찍었소이다\n",
      "--------------------------------------------------\n",
      "- @본인은 삼전투자로 손해본적 없소\n",
      "--------------------------------------------------\n",
      "- @코스피 바닥은 1600\n",
      "--------------------------------------------------\n",
      "- @삼전 말고 다른 주식들 쓰레기\n",
      "--------------------------------------------------\n",
      "희소식) 삼성전자(우): 대박호재 5가지 발생: 급등 상황 [1]\n",
      "--------------------------------------------------\n",
      "삼성전자 상승 출발\n",
      "--------------------------------------------------\n",
      "조선주 시세\n",
      "--------------------------------------------------\n",
      "@kiki 닉네임 도용으로 패기처분\n",
      "--------------------------------------------------\n",
      "@거래소 바닥 1680 인내하시라\n",
      "--------------------------------------------------\n",
      "- @한심한 애널리스트들 꺼져라\n",
      "--------------------------------------------------\n",
      "- @외국인들 거래소 반토막 작전진행중\n",
      "--------------------------------------------------\n",
      "- 개꼴이다..\n",
      "--------------------------------------------------\n",
      "- @코스피 바닥권 1680 이니라~\n",
      "--------------------------------------------------\n",
      "오호 통제라 -37% ... [1]\n",
      "--------------------------------------------------\n",
      "- @동학개미들 피 눈물 쏟아내\n",
      "--------------------------------------------------\n",
      "'5만전자' 갇힌 삼성전자…'팔자'로 돌아섰다 [2]\n",
      "--------------------------------------------------\n",
      "58에 강력 저지선\n",
      "--------------------------------------------------\n",
      "상승?\n",
      "--------------------------------------------------\n",
      "\"10만전자 간다더니 속았다\"..눈칫밥'먹는 애널리스트들 [1]\n",
      "--------------------------------------------------\n",
      "숏텀 , 롱텀 디플레이션 전쟁. .\n",
      "--------------------------------------------------\n"
     ]
    }
   ],
   "source": [
    "driver = webdriver.Chrome(driver_path)\n",
    "for code in codes:\n",
    "    try:\n",
    "        driver.get(f'https://finance.daum.net/quotes/{code}#talks')\n",
    "        time.sleep(0.5)\n",
    "        for i in range(31):\n",
    "            title = driver.find_elements_by_css_selector('#boxContents tbody td:nth-child(1) > a')[i]\n",
    "            if '...' in title.text:\n",
    "                driver.find_element_by_link_text(title.text).click()\n",
    "                time.sleep(1)\n",
    "                element = driver.find_element_by_id(\"bbsFrame\") #iframe 태그 엘리먼트 찾기\n",
    "                driver.switch_to.frame(element) #프레임 이동\n",
    "                time.sleep(0.5)\n",
    "                title_in = driver.find_elements_by_css_selector('#bbsTitle')[0]\n",
    "                print(title_in.text)\n",
    "                driver.back()\n",
    "                time.sleep(5)\n",
    "            else:\n",
    "                print(title.text)\n",
    "            print(\"-\"*50)\n",
    "    except:\n",
    "        pass"
   ]
  },
  {
   "cell_type": "code",
   "execution_count": null,
   "id": "085899a3",
   "metadata": {},
   "outputs": [],
   "source": []
  }
 ],
 "metadata": {
  "kernelspec": {
   "display_name": "Python 3 (ipykernel)",
   "language": "python",
   "name": "python3"
  },
  "language_info": {
   "codemirror_mode": {
    "name": "ipython",
    "version": 3
   },
   "file_extension": ".py",
   "mimetype": "text/x-python",
   "name": "python",
   "nbconvert_exporter": "python",
   "pygments_lexer": "ipython3",
   "version": "3.9.12"
  },
  "toc": {
   "base_numbering": 1,
   "nav_menu": {},
   "number_sections": true,
   "sideBar": true,
   "skip_h1_title": false,
   "title_cell": "Table of Contents",
   "title_sidebar": "Contents",
   "toc_cell": false,
   "toc_position": {},
   "toc_section_display": true,
   "toc_window_display": false
  },
  "varInspector": {
   "cols": {
    "lenName": 16,
    "lenType": 16,
    "lenVar": 40
   },
   "kernels_config": {
    "python": {
     "delete_cmd_postfix": "",
     "delete_cmd_prefix": "del ",
     "library": "var_list.py",
     "varRefreshCmd": "print(var_dic_list())"
    },
    "r": {
     "delete_cmd_postfix": ") ",
     "delete_cmd_prefix": "rm(",
     "library": "var_list.r",
     "varRefreshCmd": "cat(var_dic_list()) "
    }
   },
   "types_to_exclude": [
    "module",
    "function",
    "builtin_function_or_method",
    "instance",
    "_Feature"
   ],
   "window_display": false
  }
 },
 "nbformat": 4,
 "nbformat_minor": 5
}
