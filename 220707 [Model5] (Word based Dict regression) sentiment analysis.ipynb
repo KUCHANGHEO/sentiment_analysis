{
 "cells": [
  {
   "cell_type": "markdown",
   "id": "8ced423c-df70-48d4-8c5e-6af898aaee97",
   "metadata": {},
   "source": [
    "# 라이브러리"
   ]
  },
  {
   "cell_type": "code",
   "execution_count": 99,
   "id": "ada11b93",
   "metadata": {},
   "outputs": [],
   "source": [
    "import pickle\n",
    "import pandas as pd\n",
    "import matplotlib.pyplot as plt\n",
    "\n",
    "from math import sqrt\n",
    "from tqdm import tqdm\n",
    "from konlpy.tag import *\n",
    "from datetime import timedelta\n",
    "\n",
    "from sklearn.pipeline import Pipeline \n",
    "from sklearn.metrics import accuracy_score, f1_score, mean_squared_error, r2_score\n",
    "from sklearn.linear_model import LogisticRegression\n",
    "from sklearn.model_selection import train_test_split, cross_val_score\n",
    "from sklearn.feature_extraction.text import CountVectorizer, TfidfVectorizer, TfidfTransformer"
   ]
  },
  {
   "cell_type": "code",
   "execution_count": 25,
   "id": "96e8e068",
   "metadata": {},
   "outputs": [],
   "source": [
    "import warnings\n",
    "warnings.filterwarnings('ignore')\n",
    "\n",
    "import matplotlib.font_manager as fm\n",
    "plt.rc('font', family='NanumGothic')\n",
    "\n",
    "import matplotlib as mpl\n",
    "mpl.rcParams['axes.unicode_minus'] = False"
   ]
  },
  {
   "cell_type": "code",
   "execution_count": null,
   "id": "3196f506-0444-4b8c-aff5-7a34b1250cff",
   "metadata": {},
   "outputs": [],
   "source": []
  },
  {
   "cell_type": "code",
   "execution_count": null,
   "id": "30d858d2-e181-4877-ab10-679e0dc57a63",
   "metadata": {},
   "outputs": [],
   "source": []
  },
  {
   "cell_type": "markdown",
   "id": "29075937-ad9d-4d92-a48b-200413e34726",
   "metadata": {},
   "source": [
    "# 종목명 선택 및 뉴스,토론방, 유튜브 데이터 통합"
   ]
  },
  {
   "cell_type": "code",
   "execution_count": 3,
   "id": "c631f315",
   "metadata": {},
   "outputs": [],
   "source": [
    "# LG화학, 삼성SDI, SK이노베이션, 고려아연, 포스코케미칼\n",
    "stock_name = '삼성SDI'"
   ]
  },
  {
   "cell_type": "code",
   "execution_count": 4,
   "id": "6ce7b6d9",
   "metadata": {},
   "outputs": [],
   "source": [
    "naver_news = pd.read_csv('./data/refined_naver_news.csv', index_col = 0)\n",
    "daum_news = pd.read_csv('./data/refined_daum_news.csv', index_col = 0)\n",
    "naver_talks = pd.read_csv(f'./data/refined_naver_talks_{stock_name}.csv', index_col = 0)\n",
    "daum_talks = pd.read_csv(f'./data/refined_daum_talks_{stock_name}.csv', index_col = 0)\n",
    "youtube = pd.read_csv(f'./data/refined_youtube_{stock_name}.csv', index_col = 0)"
   ]
  },
  {
   "cell_type": "code",
   "execution_count": 5,
   "id": "94f7497a",
   "metadata": {},
   "outputs": [],
   "source": [
    "# 데이터 통합\n",
    "news_df = pd.concat([naver_news, daum_news, naver_talks, daum_talks ,youtube])\n",
    "\n",
    "# 'Date' 타입이 int 이므로 datetime으로 변환\n",
    "news_df['Date'] = pd.to_datetime(news_df['Date'].astype(str))\n",
    "\n",
    "# 합쳐진 데이터들의 인덱스 재설정\n",
    "news_df.sort_values('Date', ignore_index=True, inplace=True)"
   ]
  },
  {
   "cell_type": "code",
   "execution_count": 6,
   "id": "4dd504c3",
   "metadata": {},
   "outputs": [
    {
     "data": {
      "text/html": [
       "<div>\n",
       "<style scoped>\n",
       "    .dataframe tbody tr th:only-of-type {\n",
       "        vertical-align: middle;\n",
       "    }\n",
       "\n",
       "    .dataframe tbody tr th {\n",
       "        vertical-align: top;\n",
       "    }\n",
       "\n",
       "    .dataframe thead th {\n",
       "        text-align: right;\n",
       "    }\n",
       "</style>\n",
       "<table border=\"1\" class=\"dataframe\">\n",
       "  <thead>\n",
       "    <tr style=\"text-align: right;\">\n",
       "      <th></th>\n",
       "      <th>Date</th>\n",
       "      <th>Title</th>\n",
       "    </tr>\n",
       "  </thead>\n",
       "  <tbody>\n",
       "    <tr>\n",
       "      <th>639</th>\n",
       "      <td>2021-01-04</td>\n",
       "      <td>속보  새해 첫 거래일  코스피  0 04  오른 2874 50 출발</td>\n",
       "    </tr>\n",
       "    <tr>\n",
       "      <th>640</th>\n",
       "      <td>2021-01-04</td>\n",
       "      <td>대웅제약  코로나 치료제 임상3상 시험 시작  주가 상승</td>\n",
       "    </tr>\n",
       "  </tbody>\n",
       "</table>\n",
       "</div>"
      ],
      "text/plain": [
       "          Date                                    Title\n",
       "639 2021-01-04   속보  새해 첫 거래일  코스피  0 04  오른 2874 50 출발\n",
       "640 2021-01-04          대웅제약  코로나 치료제 임상3상 시험 시작  주가 상승"
      ]
     },
     "execution_count": 6,
     "metadata": {},
     "output_type": "execute_result"
    }
   ],
   "source": [
    "# 2021년 주식 데이터가 1월 4일부터 있어서 슬라이싱\n",
    "news_df = news_df[news_df[news_df['Date']== '2021-01-04'].index[0] : ]\n",
    "news_df.head(2)"
   ]
  },
  {
   "cell_type": "code",
   "execution_count": null,
   "id": "d71d8147",
   "metadata": {},
   "outputs": [],
   "source": []
  },
  {
   "cell_type": "markdown",
   "id": "77019b3d-5b79-4115-a2ca-0f4b55b48b77",
   "metadata": {},
   "source": [
    "# 주가 데이터"
   ]
  },
  {
   "cell_type": "code",
   "execution_count": 8,
   "id": "963cb2bd",
   "metadata": {},
   "outputs": [
    {
     "data": {
      "text/html": [
       "<div>\n",
       "<style scoped>\n",
       "    .dataframe tbody tr th:only-of-type {\n",
       "        vertical-align: middle;\n",
       "    }\n",
       "\n",
       "    .dataframe tbody tr th {\n",
       "        vertical-align: top;\n",
       "    }\n",
       "\n",
       "    .dataframe thead th {\n",
       "        text-align: right;\n",
       "    }\n",
       "</style>\n",
       "<table border=\"1\" class=\"dataframe\">\n",
       "  <thead>\n",
       "    <tr style=\"text-align: right;\">\n",
       "      <th></th>\n",
       "      <th>일자</th>\n",
       "      <th>등락률</th>\n",
       "    </tr>\n",
       "  </thead>\n",
       "  <tbody>\n",
       "    <tr>\n",
       "      <th>0</th>\n",
       "      <td>2021-01-04</td>\n",
       "      <td>6.85</td>\n",
       "    </tr>\n",
       "    <tr>\n",
       "      <th>1</th>\n",
       "      <td>2021-01-05</td>\n",
       "      <td>2.24</td>\n",
       "    </tr>\n",
       "  </tbody>\n",
       "</table>\n",
       "</div>"
      ],
      "text/plain": [
       "          일자   등락률\n",
       "0 2021-01-04  6.85\n",
       "1 2021-01-05  2.24"
      ]
     },
     "execution_count": 8,
     "metadata": {},
     "output_type": "execute_result"
    }
   ],
   "source": [
    "stock_df = pd.read_csv(f'./data/{stock_name}_주가_데이터.csv', usecols = ['일자','등락률'])\n",
    "stock_df['일자'] = pd.to_datetime(stock_df['일자'])\n",
    "stock_df.head(2)"
   ]
  },
  {
   "cell_type": "code",
   "execution_count": 9,
   "id": "9db5b903-ee8a-4dbd-9428-857b8758c86a",
   "metadata": {},
   "outputs": [
    {
     "name": "stdout",
     "output_type": "stream",
     "text": [
      "2021-01-04 00:00:00\n",
      "2022-06-30 00:00:00\n"
     ]
    }
   ],
   "source": [
    "start = str(stock_df.iloc[0, 0])\n",
    "end = str(stock_df.iloc[-1, 0])\n",
    "print(start)\n",
    "print(end)"
   ]
  },
  {
   "cell_type": "code",
   "execution_count": 10,
   "id": "a90d9b8e-63cb-44a6-aca6-12caf8366bc1",
   "metadata": {},
   "outputs": [
    {
     "data": {
      "text/html": [
       "<div>\n",
       "<style scoped>\n",
       "    .dataframe tbody tr th:only-of-type {\n",
       "        vertical-align: middle;\n",
       "    }\n",
       "\n",
       "    .dataframe tbody tr th {\n",
       "        vertical-align: top;\n",
       "    }\n",
       "\n",
       "    .dataframe thead th {\n",
       "        text-align: right;\n",
       "    }\n",
       "</style>\n",
       "<table border=\"1\" class=\"dataframe\">\n",
       "  <thead>\n",
       "    <tr style=\"text-align: right;\">\n",
       "      <th></th>\n",
       "      <th>일자</th>\n",
       "      <th>등락률</th>\n",
       "      <th>updown</th>\n",
       "    </tr>\n",
       "  </thead>\n",
       "  <tbody>\n",
       "    <tr>\n",
       "      <th>0</th>\n",
       "      <td>2021-01-04</td>\n",
       "      <td>6.85</td>\n",
       "      <td>1</td>\n",
       "    </tr>\n",
       "    <tr>\n",
       "      <th>1</th>\n",
       "      <td>2021-01-05</td>\n",
       "      <td>2.24</td>\n",
       "      <td>1</td>\n",
       "    </tr>\n",
       "  </tbody>\n",
       "</table>\n",
       "</div>"
      ],
      "text/plain": [
       "          일자   등락률  updown\n",
       "0 2021-01-04  6.85       1\n",
       "1 2021-01-05  2.24       1"
      ]
     },
     "execution_count": 10,
     "metadata": {},
     "output_type": "execute_result"
    }
   ],
   "source": [
    "# multi 분류\n",
    "stock_df['updown'] = 0\n",
    "\n",
    "stock_df.loc[stock_df.query('등락률 > 1').index, 'updown'] = 1\n",
    "\n",
    "stock_df.loc[stock_df.query('등락률 < -1').index, 'updown'] = -1\n",
    "stock_df.head(2)"
   ]
  },
  {
   "cell_type": "code",
   "execution_count": null,
   "id": "bd941094-816c-461e-8669-59d908c41970",
   "metadata": {},
   "outputs": [],
   "source": []
  },
  {
   "cell_type": "markdown",
   "id": "df69aa70-2261-4f3d-b796-a35ba82279f9",
   "metadata": {},
   "source": [
    "# 데이터 프레임 합치기"
   ]
  },
  {
   "cell_type": "code",
   "execution_count": 11,
   "id": "8c3caf4a-d309-4847-8d88-f37bf5452559",
   "metadata": {},
   "outputs": [],
   "source": [
    "## 뉴스일자 조정(예측대상(주가)의 일자와 맞추기 위해)\n",
    "news_df['일자'] = news_df['Date'] + timedelta(days=1)"
   ]
  },
  {
   "cell_type": "code",
   "execution_count": 12,
   "id": "053a09b7-b1ec-4cfc-9768-e16200a91bca",
   "metadata": {},
   "outputs": [
    {
     "name": "stdout",
     "output_type": "stream",
     "text": [
      "431484\n"
     ]
    },
    {
     "data": {
      "text/html": [
       "<div>\n",
       "<style scoped>\n",
       "    .dataframe tbody tr th:only-of-type {\n",
       "        vertical-align: middle;\n",
       "    }\n",
       "\n",
       "    .dataframe tbody tr th {\n",
       "        vertical-align: top;\n",
       "    }\n",
       "\n",
       "    .dataframe thead th {\n",
       "        text-align: right;\n",
       "    }\n",
       "</style>\n",
       "<table border=\"1\" class=\"dataframe\">\n",
       "  <thead>\n",
       "    <tr style=\"text-align: right;\">\n",
       "      <th></th>\n",
       "      <th>Date</th>\n",
       "      <th>Title</th>\n",
       "      <th>주가의 날짜</th>\n",
       "      <th>등락률(y)</th>\n",
       "      <th>updown</th>\n",
       "    </tr>\n",
       "  </thead>\n",
       "  <tbody>\n",
       "    <tr>\n",
       "      <th>0</th>\n",
       "      <td>2021-01-04</td>\n",
       "      <td>속보  새해 첫 거래일  코스피  0 04  오른 2874 50 출발</td>\n",
       "      <td>2021-01-05</td>\n",
       "      <td>2.24</td>\n",
       "      <td>1</td>\n",
       "    </tr>\n",
       "    <tr>\n",
       "      <th>1</th>\n",
       "      <td>2021-01-04</td>\n",
       "      <td>대웅제약  코로나 치료제 임상3상 시험 시작  주가 상승</td>\n",
       "      <td>2021-01-05</td>\n",
       "      <td>2.24</td>\n",
       "      <td>1</td>\n",
       "    </tr>\n",
       "    <tr>\n",
       "      <th>2</th>\n",
       "      <td>2021-01-04</td>\n",
       "      <td>환율 하락 전환  1086 2 감소0 1원</td>\n",
       "      <td>2021-01-05</td>\n",
       "      <td>2.24</td>\n",
       "      <td>1</td>\n",
       "    </tr>\n",
       "    <tr>\n",
       "      <th>3</th>\n",
       "      <td>2021-01-04</td>\n",
       "      <td>비올  일본 최대 병원체인과 실펌엑스 총판계약 체결</td>\n",
       "      <td>2021-01-05</td>\n",
       "      <td>2.24</td>\n",
       "      <td>1</td>\n",
       "    </tr>\n",
       "    <tr>\n",
       "      <th>4</th>\n",
       "      <td>2021-01-04</td>\n",
       "      <td>코스닥 하락 전환  968 31 감소0 01</td>\n",
       "      <td>2021-01-05</td>\n",
       "      <td>2.24</td>\n",
       "      <td>1</td>\n",
       "    </tr>\n",
       "  </tbody>\n",
       "</table>\n",
       "</div>"
      ],
      "text/plain": [
       "        Date                                    Title     주가의 날짜  등락률(y)  \\\n",
       "0 2021-01-04   속보  새해 첫 거래일  코스피  0 04  오른 2874 50 출발 2021-01-05    2.24   \n",
       "1 2021-01-04          대웅제약  코로나 치료제 임상3상 시험 시작  주가 상승 2021-01-05    2.24   \n",
       "2 2021-01-04                 환율 하락 전환  1086 2 감소0 1원  2021-01-05    2.24   \n",
       "3 2021-01-04             비올  일본 최대 병원체인과 실펌엑스 총판계약 체결 2021-01-05    2.24   \n",
       "4 2021-01-04               코스닥 하락 전환  968 31 감소0 01   2021-01-05    2.24   \n",
       "\n",
       "   updown  \n",
       "0       1  \n",
       "1       1  \n",
       "2       1  \n",
       "3       1  \n",
       "4       1  "
      ]
     },
     "execution_count": 12,
     "metadata": {},
     "output_type": "execute_result"
    }
   ],
   "source": [
    "df = news_df.merge(stock_df)\n",
    "df.columns = [df.columns[0], df.columns[1], '주가의 날짜', '등락률(y)', 'updown']\n",
    "df.drop_duplicates('Title', inplace = True, ignore_index = True)  # 기사제목 중복 제거\n",
    "print(len(df))\n",
    "df.head()"
   ]
  },
  {
   "cell_type": "code",
   "execution_count": null,
   "id": "3b249b6f-2d46-4612-914a-e9e3b803a75d",
   "metadata": {},
   "outputs": [],
   "source": []
  },
  {
   "cell_type": "markdown",
   "id": "7af88f06-fa6e-43f8-ad86-2ba3ee7b1334",
   "metadata": {},
   "source": [
    "# 감성사전 load"
   ]
  },
  {
   "cell_type": "code",
   "execution_count": 13,
   "id": "a15eddb8-8cee-45c0-8d8b-55a19c15ce04",
   "metadata": {},
   "outputs": [
    {
     "data": {
      "text/html": [
       "<div>\n",
       "<style scoped>\n",
       "    .dataframe tbody tr th:only-of-type {\n",
       "        vertical-align: middle;\n",
       "    }\n",
       "\n",
       "    .dataframe tbody tr th {\n",
       "        vertical-align: top;\n",
       "    }\n",
       "\n",
       "    .dataframe thead th {\n",
       "        text-align: right;\n",
       "    }\n",
       "</style>\n",
       "<table border=\"1\" class=\"dataframe\">\n",
       "  <thead>\n",
       "    <tr style=\"text-align: right;\">\n",
       "      <th></th>\n",
       "      <th>pos</th>\n",
       "      <th>mid</th>\n",
       "      <th>neg</th>\n",
       "    </tr>\n",
       "  </thead>\n",
       "  <tbody>\n",
       "    <tr>\n",
       "      <th>0</th>\n",
       "      <td>방긋</td>\n",
       "      <td>아직</td>\n",
       "      <td>회의</td>\n",
       "    </tr>\n",
       "    <tr>\n",
       "      <th>1</th>\n",
       "      <td>상회</td>\n",
       "      <td>보통</td>\n",
       "      <td>바닥</td>\n",
       "    </tr>\n",
       "    <tr>\n",
       "      <th>2</th>\n",
       "      <td>신선</td>\n",
       "      <td>vs</td>\n",
       "      <td>이탈</td>\n",
       "    </tr>\n",
       "    <tr>\n",
       "      <th>3</th>\n",
       "      <td>신박</td>\n",
       "      <td>중립</td>\n",
       "      <td>떨어지</td>\n",
       "    </tr>\n",
       "    <tr>\n",
       "      <th>4</th>\n",
       "      <td>투혼</td>\n",
       "      <td>관망</td>\n",
       "      <td>안좋게</td>\n",
       "    </tr>\n",
       "  </tbody>\n",
       "</table>\n",
       "</div>"
      ],
      "text/plain": [
       "  pos mid  neg\n",
       "0  방긋  아직   회의\n",
       "1  상회  보통   바닥\n",
       "2  신선  vs   이탈\n",
       "3  신박  중립  떨어지\n",
       "4  투혼  관망  안좋게"
      ]
     },
     "execution_count": 13,
     "metadata": {},
     "output_type": "execute_result"
    }
   ],
   "source": [
    "sentiment_csv = pd.read_csv('./sentiment dictionary.csv', index_col = 0)\n",
    "sentiment_csv.head()"
   ]
  },
  {
   "cell_type": "code",
   "execution_count": 14,
   "id": "0e3e47b4-44ff-43cc-9ae9-5dcc7d685d1c",
   "metadata": {},
   "outputs": [],
   "source": [
    "pos_li = sentiment_csv['pos'].dropna().values\n",
    "mid_li = sentiment_csv['mid'].dropna().values\n",
    "neg_li = sentiment_csv['neg'].dropna().values"
   ]
  },
  {
   "cell_type": "code",
   "execution_count": null,
   "id": "7931ba81-8992-4a59-a615-111ba86a6dde",
   "metadata": {},
   "outputs": [],
   "source": []
  },
  {
   "cell_type": "markdown",
   "id": "3b1efe5f-9994-464b-af75-34f3dbf1684a",
   "metadata": {},
   "source": [
    "# 감성 지수 계산하는 sentimental_score() "
   ]
  },
  {
   "cell_type": "code",
   "execution_count": 15,
   "id": "2b7e5f9b-7c35-4928-9e38-51305f540e4b",
   "metadata": {},
   "outputs": [],
   "source": [
    "def sentimental_score(df):\n",
    "    # 입력받은 데이터프레임 복사 및 컬럼 추가\n",
    "    df_result = df.copy()\n",
    "    df_result['Pos'] = 0\n",
    "    df_result['Neg'] = 0\n",
    "    df_result['Mid'] = 0\n",
    "    \n",
    "    # 감성 지수는 긍정 : 1, 중립 : 0, 부정 : -1, 해당 데이터 제외 : 999\n",
    "    df_result['감성지수'] = 999    \n",
    "    \n",
    "    # 감성 사전에 따른 텍스트 검출\n",
    "    print('긍정 단어 검색중')\n",
    "    for pos in tqdm(pos_li) :\n",
    "        str_expr = f\"Title.str.contains('{pos}')\"\n",
    "        df_result.loc[df_result.query(str_expr).index, 'Pos'] = 1\n",
    "    \n",
    "    print('부정 단어 검색중')\n",
    "    for neg in tqdm(neg_li) :\n",
    "        str_expr = f\"Title.str.contains('{neg}')\"\n",
    "        df_result.loc[df_result.query(str_expr).index, 'Neg'] = 1\n",
    "    \n",
    "    print('중립 단어 검색중')\n",
    "    for mid in tqdm(mid_li) :\n",
    "        str_expr = f\"Title.str.contains('{mid}')\"\n",
    "        df_result.loc[df_result.query(str_expr).index, 'Mid'] = 1\n",
    "    \n",
    "    # 모든 종류의 단어가 검출 되면 제외\n",
    "    df_result.loc[df_result.query('Pos == 1 and Neg == 1 and Mid == 1').index, '감성지수'] = 999\n",
    "    \n",
    "    # 중립 단어가 검출되면 중립\n",
    "    df_result.loc[df_result.query('Mid == 1').index, '감성지수'] = 0\n",
    "    \n",
    "    # 긍정 단어만이 검출되면 긍정\n",
    "    df_result.loc[df_result.query('Pos == 1 and Neg == 0 and Mid == 0').index, '감성지수'] = 1\n",
    "    \n",
    "    # 부정 단어만이 검출되면 부정\n",
    "    df_result.loc[df_result.query('Pos == 0 and Neg == 1 and Mid == 0').index, '감성지수'] = -1\n",
    "    \n",
    "    \n",
    "    # 긍정, 부정 단어가 둘 다 있으면 전 날 또는 당일 주가의 등락률을 보고 결정\n",
    "    print('긍정 부정 둘 다 있는 경우 처리중')\n",
    "    for i in tqdm(df_result.loc[df_result.query('Pos == 1 and Neg == 1 and Mid == 0').index].index) : \n",
    "        \n",
    "        updown = 999 # 등락률을 뜻하는 updown\n",
    "        \n",
    "        # 해당 Title의 어제 주가가 있으면 선택\n",
    "        if sum(df_result.loc[i,'Date'] - timedelta(days = 1) == stock_df['일자']) == 1 :  \n",
    "            updown = stock_df[stock_df['일자'] == df_result.loc[i,'Date'] - timedelta(days = 1)]['등락률'].values[0]\n",
    "        \n",
    "        # 어제 주가는 없지만 당일이 있으면 당일을 선택\n",
    "        elif sum(df_result.loc[i,'Date'] == stock_df['일자']) == 1 :  \n",
    "            updown = stock_df[stock_df['일자'] == df_result.loc[i,'Date']]['등락률'].values[0]\n",
    "\n",
    "        # 어제와 오늘의 주가도 없다면 이전의 주가를 찾아 탐색\n",
    "        else :\n",
    "            j = 2 \n",
    "            while True :\n",
    "                if sum(df_result.loc[i,'Date'] - timedelta(days = j) == stock_df['일자']) == 1 :\n",
    "                    updown = stock_df[stock_df['일자'] == df_result.loc[i,'Date'] - timedelta(days = j)]['등락률'].values[0]\n",
    "                    break\n",
    "                j += 1\n",
    "        \n",
    "        # 절댓값이 0보다 낮은 등락률은 변화가 없다고 판단\n",
    "        if updown > 1 :\n",
    "            df_result.loc[i,'감성지수'] = 1\n",
    "        elif updown < 1 :\n",
    "            df_result.loc[i,'감성지수'] = -1\n",
    "        else :\n",
    "            df_result.loc[i,'감성지수'] = 0\n",
    "\n",
    "    return df_result"
   ]
  },
  {
   "cell_type": "code",
   "execution_count": 16,
   "id": "e108077d-79ab-4106-b9ea-7efb064c0bb8",
   "metadata": {},
   "outputs": [
    {
     "name": "stdout",
     "output_type": "stream",
     "text": [
      "긍정 단어 검색중\n"
     ]
    },
    {
     "name": "stderr",
     "output_type": "stream",
     "text": [
      "100%|██████████| 328/328 [00:38<00:00,  8.44it/s]\n"
     ]
    },
    {
     "name": "stdout",
     "output_type": "stream",
     "text": [
      "부정 단어 검색중\n"
     ]
    },
    {
     "name": "stderr",
     "output_type": "stream",
     "text": [
      "100%|██████████| 295/295 [00:34<00:00,  8.60it/s]\n"
     ]
    },
    {
     "name": "stdout",
     "output_type": "stream",
     "text": [
      "중립 단어 검색중\n"
     ]
    },
    {
     "name": "stderr",
     "output_type": "stream",
     "text": [
      "100%|██████████| 11/11 [00:01<00:00,  8.57it/s]\n"
     ]
    },
    {
     "name": "stdout",
     "output_type": "stream",
     "text": [
      "긍정 부정 둘 다 있는 경우 처리중\n"
     ]
    },
    {
     "name": "stderr",
     "output_type": "stream",
     "text": [
      "100%|██████████| 72535/72535 [00:28<00:00, 2543.47it/s]\n"
     ]
    }
   ],
   "source": [
    "df_result = sentimental_score(df)"
   ]
  },
  {
   "cell_type": "code",
   "execution_count": null,
   "id": "b22b888f-d333-4e96-97ca-2ac6c03a79e8",
   "metadata": {},
   "outputs": [],
   "source": []
  },
  {
   "cell_type": "code",
   "execution_count": null,
   "id": "f52a3f2a-bbc1-4d9a-82d0-ef737d33c3e1",
   "metadata": {},
   "outputs": [],
   "source": []
  },
  {
   "cell_type": "markdown",
   "id": "6982deaa-3c8f-4129-ad72-49efd8a78371",
   "metadata": {},
   "source": [
    "# 예측 모델 적용"
   ]
  },
  {
   "cell_type": "code",
   "execution_count": 26,
   "id": "ede61583-d132-4b44-adfd-43c456a11ff1",
   "metadata": {},
   "outputs": [],
   "source": [
    "# 형태소 분석을 위한 함수\n",
    "def tokenizer(text):\n",
    "    okt = Okt()\n",
    "    return okt.morphs(text)"
   ]
  },
  {
   "cell_type": "code",
   "execution_count": 33,
   "id": "2b7fd49f-126c-4d48-9f3c-cbfcb60a0b5d",
   "metadata": {},
   "outputs": [],
   "source": [
    "# X : title, y : price\n",
    "def data_split(X, y):\n",
    "    # 수집한 데이터 읽어오기\n",
    "    \n",
    "    # 학습셋, 테스트셋 분리\n",
    "    X_list = X.tolist()\n",
    "    y_list = y.tolist()\n",
    "    \n",
    "    X_train, X_test, y_train, y_test = train_test_split(X_list, y_list, shuffle = False, test_size = 0.2)\n",
    "    \n",
    "    return X_train, X_test, y_train, y_test"
   ]
  },
  {
   "cell_type": "code",
   "execution_count": 34,
   "id": "9a1adb0d-8f65-4c7a-bc86-e5a22c309132",
   "metadata": {},
   "outputs": [],
   "source": [
    "X_train, X_test, y_train, y_test = data_split(df_result['Title'], df_result['감성지수'])"
   ]
  },
  {
   "cell_type": "code",
   "execution_count": 36,
   "id": "51c19186-78a8-4de8-8249-c44727929dbc",
   "metadata": {},
   "outputs": [],
   "source": [
    "vect = CountVectorizer()\n",
    "\n",
    "tfidf = TfidfTransformer()"
   ]
  },
  {
   "cell_type": "code",
   "execution_count": 37,
   "id": "7d297fae-774e-4c9b-8f34-5fc6740023f2",
   "metadata": {},
   "outputs": [],
   "source": [
    "#  멀티 로지스틱\n",
    "logistic = LogisticRegression(multi_class = 'multinomial',  random_state=0)\n",
    "# lbfgs의 경우 제약조건 L2만 지원.... 뭔소리지?\n",
    "\n",
    "# logistic = LogisticRegression(multi_class = 'multinomial', solver='saga' random_state=0)\n",
    "# saga는 L1, L2 지원, 확률적경사하강법 기반   multi_class = 'ovr'... 모지?\n",
    "\n",
    "# logistic = LogisticRegression(C=2, penalty='l2', random_state=0)\n",
    "\n",
    "# C의 숫자가 너무 크면 과적합 (기본 1), penalty로 과적합 방지"
   ]
  },
  {
   "cell_type": "code",
   "execution_count": null,
   "id": "e2dad526-4b08-47ae-ae73-b2cf25a3622e",
   "metadata": {},
   "outputs": [],
   "source": []
  },
  {
   "cell_type": "markdown",
   "id": "2a35622a-df83-4c9b-840c-9fa2ce4bbbbf",
   "metadata": {},
   "source": [
    "### 파이프라인"
   ]
  },
  {
   "cell_type": "code",
   "execution_count": 38,
   "id": "fe72792d-3d52-4980-aa9e-68d010703b4f",
   "metadata": {},
   "outputs": [],
   "source": [
    "pipeline = Pipeline([('vect',vect), ('tfidf',tfidf), ('clf',logistic)], verbose=True)"
   ]
  },
  {
   "cell_type": "code",
   "execution_count": 40,
   "id": "8a574ca1-4a9c-49ee-b9c2-753fec1d92c2",
   "metadata": {},
   "outputs": [
    {
     "name": "stdout",
     "output_type": "stream",
     "text": [
      "[Pipeline] .............. (step 1 of 3) Processing vect, total=   2.2s\n",
      "[Pipeline] ............. (step 2 of 3) Processing tfidf, total=   0.1s\n",
      "[Pipeline] ............... (step 3 of 3) Processing clf, total=  21.8s\n"
     ]
    },
    {
     "data": {
      "text/plain": [
       "Pipeline(steps=[('vect', CountVectorizer()), ('tfidf', TfidfTransformer()),\n",
       "                ('clf',\n",
       "                 LogisticRegression(multi_class='multinomial',\n",
       "                                    random_state=0))],\n",
       "         verbose=True)"
      ]
     },
     "execution_count": 40,
     "metadata": {},
     "output_type": "execute_result"
    }
   ],
   "source": [
    "pipeline.fit(X_train, y_train)"
   ]
  },
  {
   "cell_type": "code",
   "execution_count": 42,
   "id": "814ad420-dbc0-4e22-8fb6-12cfd9b1f7aa",
   "metadata": {},
   "outputs": [],
   "source": [
    "y_pred = pipeline.predict(X_test)"
   ]
  },
  {
   "cell_type": "code",
   "execution_count": 43,
   "id": "57646cc4-5137-496e-80fb-28418fb0ee28",
   "metadata": {},
   "outputs": [],
   "source": [
    "y_df = df['updown'][len(X_train) : ]"
   ]
  },
  {
   "cell_type": "code",
   "execution_count": null,
   "id": "afef972b-d025-41c2-964e-96d5702e4732",
   "metadata": {},
   "outputs": [],
   "source": []
  },
  {
   "cell_type": "markdown",
   "id": "84eff276-19c4-4ab0-8a2d-ccd7759ec04a",
   "metadata": {},
   "source": [
    "# 모델 평가"
   ]
  },
  {
   "cell_type": "code",
   "execution_count": 93,
   "id": "9669a378-dc2f-40ee-b233-900732614f8b",
   "metadata": {},
   "outputs": [
    {
     "name": "stdout",
     "output_type": "stream",
     "text": [
      "accuracy :\t 0.8299013870702342\n",
      "f1_score :\t 0.8299013870702342\n",
      "f1_score :\t 0.8351385856313709\n",
      "f1_score :\t 0.8293308756003326\n",
      "R2 \t:\t 0.5156571477198297\n",
      "mse \t:\t 76692.11309779019\n"
     ]
    }
   ],
   "source": [
    "print(f'accuracy :\\t {accuracy_score(y_test, y_pred)}')\n",
    "\n",
    "#'micro', 'macro', 'weighted'\n",
    "print(f'f1_score :\\t {f1_score(y_test, y_pred, average = \"micro\")}')\n",
    "print(f'f1_score :\\t {f1_score(y_test, y_pred, average = \"macro\")}')\n",
    "print(f'f1_score :\\t {f1_score(y_test, y_pred, average = \"weighted\")}')\n",
    "\n",
    "print(f'R2 \\t:\\t {r2_score(y_test, y_pred)}')\n",
    "\n",
    "print(f'mse \\t:\\t {mean_squared_error(y_test, y_pred)}')"
   ]
  },
  {
   "cell_type": "code",
   "execution_count": 95,
   "id": "2591adce-7a69-4a60-8cb8-41468e444624",
   "metadata": {},
   "outputs": [
    {
     "name": "stdout",
     "output_type": "stream",
     "text": [
      "[Pipeline] .............. (step 1 of 3) Processing vect, total=   1.4s\n",
      "[Pipeline] ............. (step 2 of 3) Processing tfidf, total=   0.1s\n",
      "[Pipeline] ............... (step 3 of 3) Processing clf, total=  15.0s\n",
      "[Pipeline] .............. (step 1 of 3) Processing vect, total=   1.5s\n",
      "[Pipeline] ............. (step 2 of 3) Processing tfidf, total=   0.1s\n",
      "[Pipeline] ............... (step 3 of 3) Processing clf, total=  15.4s\n",
      "[Pipeline] .............. (step 1 of 3) Processing vect, total=   1.4s\n",
      "[Pipeline] ............. (step 2 of 3) Processing tfidf, total=   0.1s\n",
      "[Pipeline] ............... (step 3 of 3) Processing clf, total=  16.5s\n",
      "평균 모델 score: 0.842769293903713\n"
     ]
    }
   ],
   "source": [
    "scores = cross_val_score(pipeline, X_train, y_train, cv=3, scoring='f1_micro')\n",
    "print('평균 모델 score:', scores.mean())"
   ]
  },
  {
   "cell_type": "code",
   "execution_count": null,
   "id": "433cac4a-fc60-4baa-bd5b-154616747c5c",
   "metadata": {},
   "outputs": [],
   "source": []
  },
  {
   "cell_type": "markdown",
   "id": "aec87cd2-9e30-4079-b3aa-ebe965a74daf",
   "metadata": {},
   "source": [
    "# 모델 저장 및 사용"
   ]
  },
  {
   "cell_type": "code",
   "execution_count": 100,
   "id": "c362c21a-16dd-491f-b182-454504e53444",
   "metadata": {},
   "outputs": [],
   "source": [
    "def save_model(model):\n",
    "    with open('[Model5]pipe.dat', 'wb') as fp:     # 쓰기, 바탕화면에 저장됨\n",
    "        pickle.dump(model, fp)\n",
    "    print('저장완료')     # 학습된 모델 저장 완료"
   ]
  },
  {
   "cell_type": "code",
   "execution_count": 101,
   "id": "2dce2805-fb55-4319-a84b-ff32c08ff8bd",
   "metadata": {},
   "outputs": [
    {
     "name": "stdout",
     "output_type": "stream",
     "text": [
      "저장완료\n"
     ]
    }
   ],
   "source": [
    "save_model(pipeline)"
   ]
  },
  {
   "cell_type": "code",
   "execution_count": null,
   "id": "5b5d87bc-df36-4d61-9e45-c59e4a65c635",
   "metadata": {},
   "outputs": [],
   "source": []
  },
  {
   "cell_type": "code",
   "execution_count": 105,
   "id": "80d5b9c2-4dc8-4531-bfac-53f9f054596b",
   "metadata": {},
   "outputs": [],
   "source": [
    "# 모델 사용 함수\n",
    "def model_prediction():  \n",
    "    # 객체를 복원, 저장된 모델 불러오기\n",
    "    with open('[Model5]pipe.dat','rb') as fp:     # 읽기\n",
    "        pipe = pickle.load(fp)\n",
    "    while True :\n",
    "        text = input('뉴스 타이틀을 입력해주세요(종료를 원하시면 \"q\"를 입력해주세요) : ')\n",
    "        example = [text]\n",
    "        # 예측 정확도\n",
    "        r1 = np.max(pipe.predict_proba(example)*100)     # 확률값을 구해서 *100\n",
    "        # 예측 결과\n",
    "        r2 = pipe.predict(example)[0]     # 긍정('1'), 부정('0'), 중립('-1)\n",
    "        if text == 'q':\n",
    "            print(\"예측을 종료합니다.\")\n",
    "            break\n",
    "        if r2 == '1':\n",
    "            print(f'{stock_name} 주가가 상승할 것으로 예상됩니다.')\n",
    "        elif r2 == '-1':\n",
    "            print(f'{stock_name} 주가가 하락할 것으로 예상됩니다.')\n",
    "        else: \n",
    "            print(f'모르겠어요.....')\n",
    "        print('확률 : %.3f' % r1)\n",
    "        print('------------------------------------------------')"
   ]
  },
  {
   "cell_type": "code",
   "execution_count": 108,
   "id": "e9b195af-5583-4410-a882-2bc50c0fceca",
   "metadata": {},
   "outputs": [
    {
     "name": "stdin",
     "output_type": "stream",
     "text": [
      "뉴스 타이틀을 입력해주세요(종료를 원하시면 \"q\"를 입력해주세요) :  [줌인 이종목] 현대중공업, 실적 증가 기대에 껑충\n"
     ]
    },
    {
     "name": "stdout",
     "output_type": "stream",
     "text": [
      "모르겠어요.....\n",
      "확률 : 99.410\n",
      "------------------------------------------------\n"
     ]
    },
    {
     "name": "stdin",
     "output_type": "stream",
     "text": [
      "뉴스 타이틀을 입력해주세요(종료를 원하시면 \"q\"를 입력해주세요) :  닷새만에 반등했지만…불안한 개미들, 7100억 차익실현\n"
     ]
    },
    {
     "name": "stdout",
     "output_type": "stream",
     "text": [
      "모르겠어요.....\n",
      "확률 : 78.626\n",
      "------------------------------------------------\n"
     ]
    },
    {
     "name": "stdin",
     "output_type": "stream",
     "text": [
      "뉴스 타이틀을 입력해주세요(종료를 원하시면 \"q\"를 입력해주세요) :  주식거래 뚝…\"증권사, 2분기 실적 쇼크\"\n"
     ]
    },
    {
     "name": "stdout",
     "output_type": "stream",
     "text": [
      "모르겠어요.....\n",
      "확률 : 93.423\n",
      "------------------------------------------------\n"
     ]
    },
    {
     "name": "stdin",
     "output_type": "stream",
     "text": [
      "뉴스 타이틀을 입력해주세요(종료를 원하시면 \"q\"를 입력해주세요) :  q\n"
     ]
    },
    {
     "name": "stdout",
     "output_type": "stream",
     "text": [
      "예측을 종료합니다.\n"
     ]
    }
   ],
   "source": [
    "model_prediction()"
   ]
  },
  {
   "cell_type": "code",
   "execution_count": null,
   "id": "1c8b5337-f62e-4eb4-814c-dd238e2b92aa",
   "metadata": {},
   "outputs": [],
   "source": []
  },
  {
   "cell_type": "code",
   "execution_count": null,
   "id": "560172a7-ddc8-4e03-ac43-edc8e205d496",
   "metadata": {},
   "outputs": [],
   "source": []
  }
 ],
 "metadata": {
  "kernelspec": {
   "display_name": "Python 3 (ipykernel)",
   "language": "python",
   "name": "python3"
  },
  "language_info": {
   "codemirror_mode": {
    "name": "ipython",
    "version": 3
   },
   "file_extension": ".py",
   "mimetype": "text/x-python",
   "name": "python",
   "nbconvert_exporter": "python",
   "pygments_lexer": "ipython3",
   "version": "3.9.12"
  }
 },
 "nbformat": 4,
 "nbformat_minor": 5
}
