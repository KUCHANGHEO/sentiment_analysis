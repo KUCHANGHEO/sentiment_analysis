{
 "cells": [
  {
   "cell_type": "code",
   "execution_count": 1,
   "id": "48745fd1",
   "metadata": {
    "ExecuteTime": {
     "end_time": "2022-07-01T08:07:19.109260Z",
     "start_time": "2022-07-01T08:07:17.008831Z"
    }
   },
   "outputs": [],
   "source": [
    "from selenium import webdriver\n",
    "from selenium.webdriver.common.by import By\n",
    "from selenium.webdriver.common.keys import Keys\n",
    "from selenium.webdriver.chrome.service import Service\n",
    "from bs4 import BeautifulSoup\n",
    "from datetime import datetime, timedelta\n",
    "\n",
    "import pandas as pd\n",
    "import time"
   ]
  },
  {
   "cell_type": "code",
   "execution_count": 2,
   "id": "b10ef6dd",
   "metadata": {
    "ExecuteTime": {
     "end_time": "2022-07-01T08:07:19.125277Z",
     "start_time": "2022-07-01T08:07:19.112263Z"
    }
   },
   "outputs": [],
   "source": [
    "import warnings\n",
    "warnings.filterwarnings('ignore')"
   ]
  },
  {
   "cell_type": "code",
   "execution_count": 3,
   "id": "958504fb",
   "metadata": {
    "ExecuteTime": {
     "end_time": "2022-07-01T08:07:19.141249Z",
     "start_time": "2022-07-01T08:07:19.130255Z"
    }
   },
   "outputs": [],
   "source": [
    "def date_range(start, end):\n",
    "    start = datetime.strptime(start, \"%Y%m%d\")\n",
    "    end = datetime.strptime(end, \"%Y%m%d\")\n",
    "    dates = [(start + timedelta(days=i)).strftime(\"%Y%m%d\") for i in range((end-start).days+1)]\n",
    "    return dates"
   ]
  },
  {
   "cell_type": "code",
   "execution_count": 4,
   "id": "dfe30921",
   "metadata": {
    "ExecuteTime": {
     "end_time": "2022-07-01T08:07:19.173228Z",
     "start_time": "2022-07-01T08:07:19.158237Z"
    }
   },
   "outputs": [],
   "source": [
    "driver_path = \"./chromedriver.exe\"\n",
    "s = Service(driver_path)\n",
    "cols = ['Date', 'Title']\n",
    "NEWS_MAX_CNT = 15"
   ]
  },
  {
   "cell_type": "code",
   "execution_count": 5,
   "id": "0585fbb5",
   "metadata": {
    "ExecuteTime": {
     "end_time": "2022-06-29T13:11:24.492365Z",
     "start_time": "2022-06-29T13:11:24.479374Z"
    }
   },
   "outputs": [],
   "source": [
    "#result_df = pd.DataFrame(columns = cols)"
   ]
  },
  {
   "cell_type": "code",
   "execution_count": 5,
   "id": "8335deff",
   "metadata": {
    "ExecuteTime": {
     "end_time": "2022-07-01T08:07:39.749056Z",
     "start_time": "2022-07-01T08:07:39.385204Z"
    }
   },
   "outputs": [],
   "source": [
    "#result_df = pd.read_csv('./Daum_220101_220628.csv')"
   ]
  },
  {
   "cell_type": "code",
   "execution_count": 6,
   "id": "e2cfc08f",
   "metadata": {
    "ExecuteTime": {
     "end_time": "2022-07-01T08:07:54.693720Z",
     "start_time": "2022-07-01T08:07:54.673731Z"
    }
   },
   "outputs": [],
   "source": [
    "date_list = date_range(\"20220629\", \"20220630\")"
   ]
  },
  {
   "cell_type": "code",
   "execution_count": 7,
   "id": "075535d6",
   "metadata": {
    "ExecuteTime": {
     "end_time": "2022-07-01T08:11:18.884738Z",
     "start_time": "2022-07-01T08:07:56.784816Z"
    }
   },
   "outputs": [],
   "source": [
    "for date in date_list:\n",
    "    driver = webdriver.Chrome(driver_path)\n",
    "    #driver = webdriver.Chrome(service = s)\n",
    "    \n",
    "    page_cnt = 1\n",
    "    past_li = []\n",
    "    \n",
    "    while True :\n",
    "        li = []\n",
    "        driver.get(f\"https://news.daum.net/breakingnews/economic/stock?page={page_cnt}&regDate={date}\")\n",
    "        time.sleep(1)\n",
    "        articles = driver.find_elements(By.CSS_SELECTOR,'div.box_etc div > strong > a.link_txt')\n",
    "            \n",
    "        for i in articles :\n",
    "            li.append([date, i.text])\n",
    "                \n",
    "        temp_df = pd.DataFrame(li, columns = cols) \n",
    "            \n",
    "        if past_li == li :\n",
    "            break\n",
    "        else :\n",
    "            result_df = pd.concat([result_df, temp_df], ignore_index=True ) \n",
    "    \n",
    "            past_li = li\n",
    "            page_cnt += 1\n",
    "            \n",
    "        if len(articles) < NEWS_MAX_CNT :\n",
    "            break\n",
    "                \n",
    "    driver.quit() "
   ]
  },
  {
   "cell_type": "code",
   "execution_count": null,
   "id": "49d89e02",
   "metadata": {},
   "outputs": [],
   "source": []
  },
  {
   "cell_type": "code",
   "execution_count": 8,
   "id": "fb82fccf",
   "metadata": {
    "ExecuteTime": {
     "end_time": "2022-07-01T08:12:17.496551Z",
     "start_time": "2022-07-01T08:12:17.437041Z"
    }
   },
   "outputs": [
    {
     "data": {
      "text/html": [
       "<div>\n",
       "<style scoped>\n",
       "    .dataframe tbody tr th:only-of-type {\n",
       "        vertical-align: middle;\n",
       "    }\n",
       "\n",
       "    .dataframe tbody tr th {\n",
       "        vertical-align: top;\n",
       "    }\n",
       "\n",
       "    .dataframe thead th {\n",
       "        text-align: right;\n",
       "    }\n",
       "</style>\n",
       "<table border=\"1\" class=\"dataframe\">\n",
       "  <thead>\n",
       "    <tr style=\"text-align: right;\">\n",
       "      <th></th>\n",
       "      <th>Date</th>\n",
       "      <th>Title</th>\n",
       "    </tr>\n",
       "  </thead>\n",
       "  <tbody>\n",
       "    <tr>\n",
       "      <th>0</th>\n",
       "      <td>20220101</td>\n",
       "      <td>[속보] 로또 996회 1등 당첨번호 6·11·15·24·32·39.. 보너스 28</td>\n",
       "    </tr>\n",
       "    <tr>\n",
       "      <th>1</th>\n",
       "      <td>20220101</td>\n",
       "      <td>인도네시아, 1월 석탄 수출 금지..\"내수 우선\"</td>\n",
       "    </tr>\n",
       "    <tr>\n",
       "      <th>2</th>\n",
       "      <td>20220101</td>\n",
       "      <td>1월 전략, 리오프닝주와 중소형 성장주에 주목</td>\n",
       "    </tr>\n",
       "    <tr>\n",
       "      <th>3</th>\n",
       "      <td>20220101</td>\n",
       "      <td>중학생 자녀에 주식 증여..세폭탄 맞을 수 있다?[도와줘요, 상속증여]</td>\n",
       "    </tr>\n",
       "    <tr>\n",
       "      <th>4</th>\n",
       "      <td>20220101</td>\n",
       "      <td>조정 받는 항공株, 펀더멘털 개선은 시기상조</td>\n",
       "    </tr>\n",
       "    <tr>\n",
       "      <th>...</th>\n",
       "      <td>...</td>\n",
       "      <td>...</td>\n",
       "    </tr>\n",
       "    <tr>\n",
       "      <th>92779</th>\n",
       "      <td>20220630</td>\n",
       "      <td>[주식 매매 상위 종목 및 환율] 2022년 6월 29일자</td>\n",
       "    </tr>\n",
       "    <tr>\n",
       "      <th>92780</th>\n",
       "      <td>20220630</td>\n",
       "      <td>[유럽증시] 경기침체 공포 커지면서 하락</td>\n",
       "    </tr>\n",
       "    <tr>\n",
       "      <th>92781</th>\n",
       "      <td>20220630</td>\n",
       "      <td>하반기 애플 신제품 대거 출시..애플 부품주 '반등' 시도</td>\n",
       "    </tr>\n",
       "    <tr>\n",
       "      <th>92782</th>\n",
       "      <td>20220630</td>\n",
       "      <td>저축은행중앙회 \"이체 시 저축은행 이름 표시 추진\"</td>\n",
       "    </tr>\n",
       "    <tr>\n",
       "      <th>92783</th>\n",
       "      <td>20220630</td>\n",
       "      <td>상반기 펀드 성적 '씁쓸'..대체·원자재만 웃었다</td>\n",
       "    </tr>\n",
       "  </tbody>\n",
       "</table>\n",
       "<p>92784 rows × 2 columns</p>\n",
       "</div>"
      ],
      "text/plain": [
       "           Date                                           Title\n",
       "0      20220101  [속보] 로또 996회 1등 당첨번호 6·11·15·24·32·39.. 보너스 28\n",
       "1      20220101                     인도네시아, 1월 석탄 수출 금지..\"내수 우선\"\n",
       "2      20220101                       1월 전략, 리오프닝주와 중소형 성장주에 주목\n",
       "3      20220101         중학생 자녀에 주식 증여..세폭탄 맞을 수 있다?[도와줘요, 상속증여]\n",
       "4      20220101                        조정 받는 항공株, 펀더멘털 개선은 시기상조\n",
       "...         ...                                             ...\n",
       "92779  20220630                [주식 매매 상위 종목 및 환율] 2022년 6월 29일자\n",
       "92780  20220630                          [유럽증시] 경기침체 공포 커지면서 하락\n",
       "92781  20220630                하반기 애플 신제품 대거 출시..애플 부품주 '반등' 시도\n",
       "92782  20220630                    저축은행중앙회 \"이체 시 저축은행 이름 표시 추진\"\n",
       "92783  20220630                     상반기 펀드 성적 '씁쓸'..대체·원자재만 웃었다\n",
       "\n",
       "[92784 rows x 2 columns]"
      ]
     },
     "execution_count": 8,
     "metadata": {},
     "output_type": "execute_result"
    }
   ],
   "source": [
    "result_df"
   ]
  },
  {
   "cell_type": "code",
   "execution_count": 10,
   "id": "c76b9e06",
   "metadata": {
    "ExecuteTime": {
     "end_time": "2022-06-29T13:37:11.042652Z",
     "start_time": "2022-06-29T13:37:11.033656Z"
    }
   },
   "outputs": [],
   "source": [
    "#result_df = result_df.iloc[:5287]"
   ]
  },
  {
   "cell_type": "code",
   "execution_count": 9,
   "id": "0be72693",
   "metadata": {
    "ExecuteTime": {
     "end_time": "2022-06-29T13:37:02.739679Z",
     "start_time": "2022-06-29T13:37:02.718690Z"
    }
   },
   "outputs": [
    {
     "data": {
      "text/html": [
       "<div>\n",
       "<style scoped>\n",
       "    .dataframe tbody tr th:only-of-type {\n",
       "        vertical-align: middle;\n",
       "    }\n",
       "\n",
       "    .dataframe tbody tr th {\n",
       "        vertical-align: top;\n",
       "    }\n",
       "\n",
       "    .dataframe thead th {\n",
       "        text-align: right;\n",
       "    }\n",
       "</style>\n",
       "<table border=\"1\" class=\"dataframe\">\n",
       "  <thead>\n",
       "    <tr style=\"text-align: right;\">\n",
       "      <th></th>\n",
       "      <th>Date</th>\n",
       "      <th>Title</th>\n",
       "    </tr>\n",
       "  </thead>\n",
       "  <tbody>\n",
       "    <tr>\n",
       "      <th>5287</th>\n",
       "      <td>20220112</td>\n",
       "      <td>소비자물가 급등에도 시장은 견고..\"1분기 안에 인플레 정점 찍을 것\"</td>\n",
       "    </tr>\n",
       "    <tr>\n",
       "      <th>5288</th>\n",
       "      <td>20220112</td>\n",
       "      <td>중소·중견 기업 ESG 경영 고민 끝..상장사協 ESG 실무 지침서 발간</td>\n",
       "    </tr>\n",
       "    <tr>\n",
       "      <th>5289</th>\n",
       "      <td>20220112</td>\n",
       "      <td>LG엔솔, 기관 1경 원 몰려..IPO 역대급 흥행 전망</td>\n",
       "    </tr>\n",
       "    <tr>\n",
       "      <th>5290</th>\n",
       "      <td>20220112</td>\n",
       "      <td>美 2021년 물가 7% 급등..금융시장은 동요 없어</td>\n",
       "    </tr>\n",
       "    <tr>\n",
       "      <th>5291</th>\n",
       "      <td>20220112</td>\n",
       "      <td>제프리스, 페이팔 투자의견 매수→보유..목표가 200달러</td>\n",
       "    </tr>\n",
       "    <tr>\n",
       "      <th>...</th>\n",
       "      <td>...</td>\n",
       "      <td>...</td>\n",
       "    </tr>\n",
       "    <tr>\n",
       "      <th>5732</th>\n",
       "      <td>20220112</td>\n",
       "      <td>넥스트아이, 크루즈 NFT 기업 아트로그와 블록체인 협력</td>\n",
       "    </tr>\n",
       "    <tr>\n",
       "      <th>5733</th>\n",
       "      <td>20220112</td>\n",
       "      <td>국내 증시, 美증시 훈풍에 동반 상승..\"실적 개선 종목에 주목해야\"</td>\n",
       "    </tr>\n",
       "    <tr>\n",
       "      <th>5734</th>\n",
       "      <td>20220112</td>\n",
       "      <td>미래에셋자산운용, 글로벌 메타버스 ETF 순자산 2000억 돌파</td>\n",
       "    </tr>\n",
       "    <tr>\n",
       "      <th>5735</th>\n",
       "      <td>20220112</td>\n",
       "      <td>[특징주] 현우산업, 애플카 국내업체 지분투자·부품공급업체 선정제안 소식에 강세</td>\n",
       "    </tr>\n",
       "    <tr>\n",
       "      <th>5736</th>\n",
       "      <td>20220112</td>\n",
       "      <td>신한자산운용, '중국 과창판 투자' 액티브 ETF 출시</td>\n",
       "    </tr>\n",
       "  </tbody>\n",
       "</table>\n",
       "<p>450 rows × 2 columns</p>\n",
       "</div>"
      ],
      "text/plain": [
       "          Date                                         Title\n",
       "5287  20220112       소비자물가 급등에도 시장은 견고..\"1분기 안에 인플레 정점 찍을 것\"\n",
       "5288  20220112      중소·중견 기업 ESG 경영 고민 끝..상장사協 ESG 실무 지침서 발간\n",
       "5289  20220112               LG엔솔, 기관 1경 원 몰려..IPO 역대급 흥행 전망\n",
       "5290  20220112                 美 2021년 물가 7% 급등..금융시장은 동요 없어\n",
       "5291  20220112               제프리스, 페이팔 투자의견 매수→보유..목표가 200달러\n",
       "...        ...                                           ...\n",
       "5732  20220112               넥스트아이, 크루즈 NFT 기업 아트로그와 블록체인 협력\n",
       "5733  20220112        국내 증시, 美증시 훈풍에 동반 상승..\"실적 개선 종목에 주목해야\"\n",
       "5734  20220112           미래에셋자산운용, 글로벌 메타버스 ETF 순자산 2000억 돌파\n",
       "5735  20220112  [특징주] 현우산업, 애플카 국내업체 지분투자·부품공급업체 선정제안 소식에 강세\n",
       "5736  20220112                신한자산운용, '중국 과창판 투자' 액티브 ETF 출시\n",
       "\n",
       "[450 rows x 2 columns]"
      ]
     },
     "execution_count": 9,
     "metadata": {},
     "output_type": "execute_result"
    }
   ],
   "source": [
    "result_df[result_df['Date'] == '20220112']"
   ]
  },
  {
   "cell_type": "code",
   "execution_count": null,
   "id": "720a77e2",
   "metadata": {},
   "outputs": [],
   "source": []
  },
  {
   "cell_type": "code",
   "execution_count": 9,
   "id": "dbd87bfb",
   "metadata": {
    "ExecuteTime": {
     "end_time": "2022-07-01T08:12:39.098587Z",
     "start_time": "2022-07-01T08:12:38.970010Z"
    }
   },
   "outputs": [],
   "source": [
    "result_df.drop_duplicates(['Title'], keep='first', inplace=True)"
   ]
  },
  {
   "cell_type": "code",
   "execution_count": 10,
   "id": "a1410fb0",
   "metadata": {
    "ExecuteTime": {
     "end_time": "2022-07-01T08:12:40.487183Z",
     "start_time": "2022-07-01T08:12:40.459198Z"
    }
   },
   "outputs": [
    {
     "data": {
      "text/html": [
       "<div>\n",
       "<style scoped>\n",
       "    .dataframe tbody tr th:only-of-type {\n",
       "        vertical-align: middle;\n",
       "    }\n",
       "\n",
       "    .dataframe tbody tr th {\n",
       "        vertical-align: top;\n",
       "    }\n",
       "\n",
       "    .dataframe thead th {\n",
       "        text-align: right;\n",
       "    }\n",
       "</style>\n",
       "<table border=\"1\" class=\"dataframe\">\n",
       "  <thead>\n",
       "    <tr style=\"text-align: right;\">\n",
       "      <th></th>\n",
       "      <th>Date</th>\n",
       "      <th>Title</th>\n",
       "    </tr>\n",
       "  </thead>\n",
       "  <tbody>\n",
       "    <tr>\n",
       "      <th>0</th>\n",
       "      <td>20220101</td>\n",
       "      <td>[속보] 로또 996회 1등 당첨번호 6·11·15·24·32·39.. 보너스 28</td>\n",
       "    </tr>\n",
       "    <tr>\n",
       "      <th>1</th>\n",
       "      <td>20220101</td>\n",
       "      <td>인도네시아, 1월 석탄 수출 금지..\"내수 우선\"</td>\n",
       "    </tr>\n",
       "    <tr>\n",
       "      <th>2</th>\n",
       "      <td>20220101</td>\n",
       "      <td>1월 전략, 리오프닝주와 중소형 성장주에 주목</td>\n",
       "    </tr>\n",
       "    <tr>\n",
       "      <th>3</th>\n",
       "      <td>20220101</td>\n",
       "      <td>중학생 자녀에 주식 증여..세폭탄 맞을 수 있다?[도와줘요, 상속증여]</td>\n",
       "    </tr>\n",
       "    <tr>\n",
       "      <th>4</th>\n",
       "      <td>20220101</td>\n",
       "      <td>조정 받는 항공株, 펀더멘털 개선은 시기상조</td>\n",
       "    </tr>\n",
       "    <tr>\n",
       "      <th>...</th>\n",
       "      <td>...</td>\n",
       "      <td>...</td>\n",
       "    </tr>\n",
       "    <tr>\n",
       "      <th>92779</th>\n",
       "      <td>20220630</td>\n",
       "      <td>[주식 매매 상위 종목 및 환율] 2022년 6월 29일자</td>\n",
       "    </tr>\n",
       "    <tr>\n",
       "      <th>92780</th>\n",
       "      <td>20220630</td>\n",
       "      <td>[유럽증시] 경기침체 공포 커지면서 하락</td>\n",
       "    </tr>\n",
       "    <tr>\n",
       "      <th>92781</th>\n",
       "      <td>20220630</td>\n",
       "      <td>하반기 애플 신제품 대거 출시..애플 부품주 '반등' 시도</td>\n",
       "    </tr>\n",
       "    <tr>\n",
       "      <th>92782</th>\n",
       "      <td>20220630</td>\n",
       "      <td>저축은행중앙회 \"이체 시 저축은행 이름 표시 추진\"</td>\n",
       "    </tr>\n",
       "    <tr>\n",
       "      <th>92783</th>\n",
       "      <td>20220630</td>\n",
       "      <td>상반기 펀드 성적 '씁쓸'..대체·원자재만 웃었다</td>\n",
       "    </tr>\n",
       "  </tbody>\n",
       "</table>\n",
       "<p>92721 rows × 2 columns</p>\n",
       "</div>"
      ],
      "text/plain": [
       "           Date                                           Title\n",
       "0      20220101  [속보] 로또 996회 1등 당첨번호 6·11·15·24·32·39.. 보너스 28\n",
       "1      20220101                     인도네시아, 1월 석탄 수출 금지..\"내수 우선\"\n",
       "2      20220101                       1월 전략, 리오프닝주와 중소형 성장주에 주목\n",
       "3      20220101         중학생 자녀에 주식 증여..세폭탄 맞을 수 있다?[도와줘요, 상속증여]\n",
       "4      20220101                        조정 받는 항공株, 펀더멘털 개선은 시기상조\n",
       "...         ...                                             ...\n",
       "92779  20220630                [주식 매매 상위 종목 및 환율] 2022년 6월 29일자\n",
       "92780  20220630                          [유럽증시] 경기침체 공포 커지면서 하락\n",
       "92781  20220630                하반기 애플 신제품 대거 출시..애플 부품주 '반등' 시도\n",
       "92782  20220630                    저축은행중앙회 \"이체 시 저축은행 이름 표시 추진\"\n",
       "92783  20220630                     상반기 펀드 성적 '씁쓸'..대체·원자재만 웃었다\n",
       "\n",
       "[92721 rows x 2 columns]"
      ]
     },
     "execution_count": 10,
     "metadata": {},
     "output_type": "execute_result"
    }
   ],
   "source": [
    "result_df"
   ]
  },
  {
   "cell_type": "code",
   "execution_count": 11,
   "id": "b6e224ff",
   "metadata": {
    "ExecuteTime": {
     "end_time": "2022-07-01T08:12:53.873911Z",
     "start_time": "2022-07-01T08:12:53.497995Z"
    }
   },
   "outputs": [],
   "source": [
    "#result_df.to_csv('./Daum_20210101_20211231.csv', encoding='utf-8-sig', index = False)\n",
    "result_df.to_csv('./Daum_220101_220630.csv', encoding='utf-8-sig', index = False)"
   ]
  },
  {
   "cell_type": "code",
   "execution_count": null,
   "id": "488d2323",
   "metadata": {},
   "outputs": [],
   "source": []
  },
  {
   "cell_type": "code",
   "execution_count": 12,
   "id": "052dd1e4",
   "metadata": {
    "ExecuteTime": {
     "end_time": "2022-07-01T08:13:01.254948Z",
     "start_time": "2022-07-01T08:13:00.995004Z"
    }
   },
   "outputs": [],
   "source": [
    "df  = pd.read_csv('./Daum_220101_220630.csv')"
   ]
  },
  {
   "cell_type": "code",
   "execution_count": 13,
   "id": "45bf1f36",
   "metadata": {
    "ExecuteTime": {
     "end_time": "2022-07-01T08:13:01.723927Z",
     "start_time": "2022-07-01T08:13:01.696942Z"
    }
   },
   "outputs": [
    {
     "data": {
      "text/html": [
       "<div>\n",
       "<style scoped>\n",
       "    .dataframe tbody tr th:only-of-type {\n",
       "        vertical-align: middle;\n",
       "    }\n",
       "\n",
       "    .dataframe tbody tr th {\n",
       "        vertical-align: top;\n",
       "    }\n",
       "\n",
       "    .dataframe thead th {\n",
       "        text-align: right;\n",
       "    }\n",
       "</style>\n",
       "<table border=\"1\" class=\"dataframe\">\n",
       "  <thead>\n",
       "    <tr style=\"text-align: right;\">\n",
       "      <th></th>\n",
       "      <th>Date</th>\n",
       "      <th>Title</th>\n",
       "    </tr>\n",
       "  </thead>\n",
       "  <tbody>\n",
       "    <tr>\n",
       "      <th>0</th>\n",
       "      <td>20220101</td>\n",
       "      <td>[속보] 로또 996회 1등 당첨번호 6·11·15·24·32·39.. 보너스 28</td>\n",
       "    </tr>\n",
       "    <tr>\n",
       "      <th>1</th>\n",
       "      <td>20220101</td>\n",
       "      <td>인도네시아, 1월 석탄 수출 금지..\"내수 우선\"</td>\n",
       "    </tr>\n",
       "    <tr>\n",
       "      <th>2</th>\n",
       "      <td>20220101</td>\n",
       "      <td>1월 전략, 리오프닝주와 중소형 성장주에 주목</td>\n",
       "    </tr>\n",
       "    <tr>\n",
       "      <th>3</th>\n",
       "      <td>20220101</td>\n",
       "      <td>중학생 자녀에 주식 증여..세폭탄 맞을 수 있다?[도와줘요, 상속증여]</td>\n",
       "    </tr>\n",
       "    <tr>\n",
       "      <th>4</th>\n",
       "      <td>20220101</td>\n",
       "      <td>조정 받는 항공株, 펀더멘털 개선은 시기상조</td>\n",
       "    </tr>\n",
       "    <tr>\n",
       "      <th>...</th>\n",
       "      <td>...</td>\n",
       "      <td>...</td>\n",
       "    </tr>\n",
       "    <tr>\n",
       "      <th>92716</th>\n",
       "      <td>20220630</td>\n",
       "      <td>[주식 매매 상위 종목 및 환율] 2022년 6월 29일자</td>\n",
       "    </tr>\n",
       "    <tr>\n",
       "      <th>92717</th>\n",
       "      <td>20220630</td>\n",
       "      <td>[유럽증시] 경기침체 공포 커지면서 하락</td>\n",
       "    </tr>\n",
       "    <tr>\n",
       "      <th>92718</th>\n",
       "      <td>20220630</td>\n",
       "      <td>하반기 애플 신제품 대거 출시..애플 부품주 '반등' 시도</td>\n",
       "    </tr>\n",
       "    <tr>\n",
       "      <th>92719</th>\n",
       "      <td>20220630</td>\n",
       "      <td>저축은행중앙회 \"이체 시 저축은행 이름 표시 추진\"</td>\n",
       "    </tr>\n",
       "    <tr>\n",
       "      <th>92720</th>\n",
       "      <td>20220630</td>\n",
       "      <td>상반기 펀드 성적 '씁쓸'..대체·원자재만 웃었다</td>\n",
       "    </tr>\n",
       "  </tbody>\n",
       "</table>\n",
       "<p>92721 rows × 2 columns</p>\n",
       "</div>"
      ],
      "text/plain": [
       "           Date                                           Title\n",
       "0      20220101  [속보] 로또 996회 1등 당첨번호 6·11·15·24·32·39.. 보너스 28\n",
       "1      20220101                     인도네시아, 1월 석탄 수출 금지..\"내수 우선\"\n",
       "2      20220101                       1월 전략, 리오프닝주와 중소형 성장주에 주목\n",
       "3      20220101         중학생 자녀에 주식 증여..세폭탄 맞을 수 있다?[도와줘요, 상속증여]\n",
       "4      20220101                        조정 받는 항공株, 펀더멘털 개선은 시기상조\n",
       "...         ...                                             ...\n",
       "92716  20220630                [주식 매매 상위 종목 및 환율] 2022년 6월 29일자\n",
       "92717  20220630                          [유럽증시] 경기침체 공포 커지면서 하락\n",
       "92718  20220630                하반기 애플 신제품 대거 출시..애플 부품주 '반등' 시도\n",
       "92719  20220630                    저축은행중앙회 \"이체 시 저축은행 이름 표시 추진\"\n",
       "92720  20220630                     상반기 펀드 성적 '씁쓸'..대체·원자재만 웃었다\n",
       "\n",
       "[92721 rows x 2 columns]"
      ]
     },
     "execution_count": 13,
     "metadata": {},
     "output_type": "execute_result"
    }
   ],
   "source": [
    "df"
   ]
  },
  {
   "cell_type": "code",
   "execution_count": null,
   "id": "176329a8",
   "metadata": {},
   "outputs": [],
   "source": []
  },
  {
   "cell_type": "code",
   "execution_count": null,
   "id": "7bf93557",
   "metadata": {},
   "outputs": [],
   "source": []
  },
  {
   "cell_type": "code",
   "execution_count": null,
   "id": "054ec2ea",
   "metadata": {},
   "outputs": [],
   "source": []
  },
  {
   "cell_type": "markdown",
   "id": "b7883548",
   "metadata": {},
   "source": [
    "# 제외 사항 여부 결정\n",
    "\n",
    "```\n",
    "오늘의 증시 메모[2월 4일], 오늘의 레이더M 뉴스 (2월 4일) 등등 \n",
    "[표] 외국환율고시표 (n월 n일) 이 하루에 하나씩 나옴 \n",
    "[표]아시아 주요 증시 동향(6월 1일) \n",
    "[주요경제지표] 2022년 5월 31일자 \n",
    "[주식 매매 상위 종목 및 환율] 2022년 5월 31일자 \n",
    "[유럽증시] 인플레 가속화 속 혼조 \n",
    "[뉴욕증시]롤러코스터 5월 마지막날도 하락..인플레 우려 지속\n",
    "[뉴욕증시]바이든-파월 만났지만..5월 마지막날 또 하락\n",
    "[베트남증시 1일 마감시황] VN지수 6.84p(0.53%) 상승 1,299.52p '1300선 회복 목전..강보합 마감' [KVINA]\n",
    "유로존 5월 물가상승률 8.1%..또 역대 최고치 경신\n",
    "\n",
    "[코스피]\n",
    "```"
   ]
  },
  {
   "cell_type": "code",
   "execution_count": 67,
   "id": "1b27bc2c",
   "metadata": {},
   "outputs": [
    {
     "data": {
      "text/plain": [
       "5887"
      ]
     },
     "execution_count": 67,
     "metadata": {},
     "output_type": "execute_result"
    }
   ],
   "source": [
    "len(df)"
   ]
  },
  {
   "cell_type": "code",
   "execution_count": 83,
   "id": "bc5641ee",
   "metadata": {},
   "outputs": [],
   "source": [
    "temp_df = pd.DataFrame(columns=['0'])"
   ]
  },
  {
   "cell_type": "code",
   "execution_count": 84,
   "id": "01f99025",
   "metadata": {},
   "outputs": [
    {
     "data": {
      "text/html": [
       "<div>\n",
       "<style scoped>\n",
       "    .dataframe tbody tr th:only-of-type {\n",
       "        vertical-align: middle;\n",
       "    }\n",
       "\n",
       "    .dataframe tbody tr th {\n",
       "        vertical-align: top;\n",
       "    }\n",
       "\n",
       "    .dataframe thead th {\n",
       "        text-align: right;\n",
       "    }\n",
       "</style>\n",
       "<table border=\"1\" class=\"dataframe\">\n",
       "  <thead>\n",
       "    <tr style=\"text-align: right;\">\n",
       "      <th></th>\n",
       "      <th>0</th>\n",
       "    </tr>\n",
       "  </thead>\n",
       "  <tbody>\n",
       "  </tbody>\n",
       "</table>\n",
       "</div>"
      ],
      "text/plain": [
       "Empty DataFrame\n",
       "Columns: [0]\n",
       "Index: []"
      ]
     },
     "execution_count": 84,
     "metadata": {},
     "output_type": "execute_result"
    }
   ],
   "source": [
    "temp_df"
   ]
  },
  {
   "cell_type": "code",
   "execution_count": 93,
   "id": "1a023c46",
   "metadata": {},
   "outputs": [],
   "source": [
    "cnt = 0\n",
    "for i in df['Title'] :\n",
    "    if '[' in i :\n",
    "        temp_df.loc[cnt] = [i[i.find('[') : i.find(']') + 1 ]]\n",
    "        cnt += 1\n"
   ]
  },
  {
   "cell_type": "code",
   "execution_count": 99,
   "id": "91554576",
   "metadata": {},
   "outputs": [
    {
     "data": {
      "text/html": [
       "<div>\n",
       "<style scoped>\n",
       "    .dataframe tbody tr th:only-of-type {\n",
       "        vertical-align: middle;\n",
       "    }\n",
       "\n",
       "    .dataframe tbody tr th {\n",
       "        vertical-align: top;\n",
       "    }\n",
       "\n",
       "    .dataframe thead th {\n",
       "        text-align: right;\n",
       "    }\n",
       "</style>\n",
       "<table border=\"1\" class=\"dataframe\">\n",
       "  <thead>\n",
       "    <tr style=\"text-align: right;\">\n",
       "      <th></th>\n",
       "      <th>0</th>\n",
       "    </tr>\n",
       "  </thead>\n",
       "  <tbody>\n",
       "    <tr>\n",
       "      <th>1</th>\n",
       "      <td>[연합뉴스 이 시각 헤드라인]</td>\n",
       "    </tr>\n",
       "    <tr>\n",
       "      <th>2</th>\n",
       "      <td>[속보]</td>\n",
       "    </tr>\n",
       "    <tr>\n",
       "      <th>3</th>\n",
       "      <td>[주코노미TV]</td>\n",
       "    </tr>\n",
       "    <tr>\n",
       "      <th>4</th>\n",
       "      <td>[표]</td>\n",
       "    </tr>\n",
       "    <tr>\n",
       "      <th>5</th>\n",
       "      <td>[르포]</td>\n",
       "    </tr>\n",
       "    <tr>\n",
       "      <th>...</th>\n",
       "      <td>...</td>\n",
       "    </tr>\n",
       "    <tr>\n",
       "      <th>1672</th>\n",
       "      <td>[공시]</td>\n",
       "    </tr>\n",
       "    <tr>\n",
       "      <th>1673</th>\n",
       "      <td>[M&amp;A 핫이슈]</td>\n",
       "    </tr>\n",
       "    <tr>\n",
       "      <th>1674</th>\n",
       "      <td>[클릭 e종목]</td>\n",
       "    </tr>\n",
       "    <tr>\n",
       "      <th>1675</th>\n",
       "      <td>[해외주식 길라잡이]</td>\n",
       "    </tr>\n",
       "    <tr>\n",
       "      <th>1676</th>\n",
       "      <td>[뉴스새벽배송]</td>\n",
       "    </tr>\n",
       "  </tbody>\n",
       "</table>\n",
       "<p>1676 rows × 1 columns</p>\n",
       "</div>"
      ],
      "text/plain": [
       "                     0\n",
       "1     [연합뉴스 이 시각 헤드라인]\n",
       "2                 [속보]\n",
       "3             [주코노미TV]\n",
       "4                  [표]\n",
       "5                 [르포]\n",
       "...                ...\n",
       "1672              [공시]\n",
       "1673         [M&A 핫이슈]\n",
       "1674          [클릭 e종목]\n",
       "1675       [해외주식 길라잡이]\n",
       "1676          [뉴스새벽배송]\n",
       "\n",
       "[1676 rows x 1 columns]"
      ]
     },
     "execution_count": 99,
     "metadata": {},
     "output_type": "execute_result"
    }
   ],
   "source": [
    "temp_df.drop(0, axis = 0)"
   ]
  },
  {
   "cell_type": "code",
   "execution_count": 100,
   "id": "0e1b2eb8",
   "metadata": {},
   "outputs": [
    {
     "data": {
      "text/html": [
       "<div>\n",
       "<style scoped>\n",
       "    .dataframe tbody tr th:only-of-type {\n",
       "        vertical-align: middle;\n",
       "    }\n",
       "\n",
       "    .dataframe tbody tr th {\n",
       "        vertical-align: top;\n",
       "    }\n",
       "\n",
       "    .dataframe thead th {\n",
       "        text-align: right;\n",
       "    }\n",
       "</style>\n",
       "<table border=\"1\" class=\"dataframe\">\n",
       "  <thead>\n",
       "    <tr style=\"text-align: right;\">\n",
       "      <th></th>\n",
       "      <th>0</th>\n",
       "    </tr>\n",
       "  </thead>\n",
       "  <tbody>\n",
       "    <tr>\n",
       "      <th>0</th>\n",
       "      <td>[속보]</td>\n",
       "    </tr>\n",
       "    <tr>\n",
       "      <th>1</th>\n",
       "      <td>[연합뉴스 이 시각 헤드라인]</td>\n",
       "    </tr>\n",
       "    <tr>\n",
       "      <th>2</th>\n",
       "      <td>[속보]</td>\n",
       "    </tr>\n",
       "    <tr>\n",
       "      <th>3</th>\n",
       "      <td>[주코노미TV]</td>\n",
       "    </tr>\n",
       "    <tr>\n",
       "      <th>4</th>\n",
       "      <td>[표]</td>\n",
       "    </tr>\n",
       "    <tr>\n",
       "      <th>...</th>\n",
       "      <td>...</td>\n",
       "    </tr>\n",
       "    <tr>\n",
       "      <th>1672</th>\n",
       "      <td>[공시]</td>\n",
       "    </tr>\n",
       "    <tr>\n",
       "      <th>1673</th>\n",
       "      <td>[M&amp;A 핫이슈]</td>\n",
       "    </tr>\n",
       "    <tr>\n",
       "      <th>1674</th>\n",
       "      <td>[클릭 e종목]</td>\n",
       "    </tr>\n",
       "    <tr>\n",
       "      <th>1675</th>\n",
       "      <td>[해외주식 길라잡이]</td>\n",
       "    </tr>\n",
       "    <tr>\n",
       "      <th>1676</th>\n",
       "      <td>[뉴스새벽배송]</td>\n",
       "    </tr>\n",
       "  </tbody>\n",
       "</table>\n",
       "<p>1677 rows × 1 columns</p>\n",
       "</div>"
      ],
      "text/plain": [
       "                     0\n",
       "0                 [속보]\n",
       "1     [연합뉴스 이 시각 헤드라인]\n",
       "2                 [속보]\n",
       "3             [주코노미TV]\n",
       "4                  [표]\n",
       "...                ...\n",
       "1672              [공시]\n",
       "1673         [M&A 핫이슈]\n",
       "1674          [클릭 e종목]\n",
       "1675       [해외주식 길라잡이]\n",
       "1676          [뉴스새벽배송]\n",
       "\n",
       "[1677 rows x 1 columns]"
      ]
     },
     "execution_count": 100,
     "metadata": {},
     "output_type": "execute_result"
    }
   ],
   "source": [
    "temp_df"
   ]
  },
  {
   "cell_type": "code",
   "execution_count": 96,
   "id": "6c244699",
   "metadata": {},
   "outputs": [
    {
     "data": {
      "text/plain": [
       "0              \n",
       "[특징주]              335\n",
       "[표]                214\n",
       "[공시]               107\n",
       "[마감]                76\n",
       "[속보]                55\n",
       "                  ... \n",
       "[목멱칼럼]               1\n",
       "[미국증시 특징주]           1\n",
       "[베트남증시 1일 마감시황]      1\n",
       "[베트남증시 2일 마감시황]      1\n",
       "[사진]                 1\n",
       "Length: 249, dtype: int64"
      ]
     },
     "execution_count": 96,
     "metadata": {},
     "output_type": "execute_result"
    }
   ],
   "source": [
    "temp_df.value_counts().to_csv('./제외여부필요.csv', encoding='utf-8-sig', )"
   ]
  },
  {
   "cell_type": "code",
   "execution_count": null,
   "id": "77b7f3a6",
   "metadata": {},
   "outputs": [],
   "source": []
  },
  {
   "cell_type": "code",
   "execution_count": null,
   "id": "b237ae2d",
   "metadata": {},
   "outputs": [],
   "source": []
  },
  {
   "cell_type": "code",
   "execution_count": null,
   "id": "ca259190",
   "metadata": {},
   "outputs": [],
   "source": []
  },
  {
   "cell_type": "code",
   "execution_count": 66,
   "id": "08d3dc27",
   "metadata": {},
   "outputs": [
    {
     "data": {
      "text/plain": [
       "1677"
      ]
     },
     "execution_count": 66,
     "metadata": {},
     "output_type": "execute_result"
    }
   ],
   "source": [
    "cnt"
   ]
  },
  {
   "cell_type": "code",
   "execution_count": 54,
   "id": "fde7efb0",
   "metadata": {},
   "outputs": [
    {
     "name": "stdout",
     "output_type": "stream",
     "text": [
      "[유럽증시]2020년 마지막 장서 하락 마감\n",
      "[유럽증시] 브렉시트·코로나19 우려 속 하락 마감\n",
      "베어링운용 \"올해 위험자산 선호현상 지속..신흥국·유럽증시 매력적\"\n",
      "[유럽증시]백신 접종 기대감에 상승 출발\n",
      "[유럽증시] 백신발 희망속 2021년 상승 출발\n"
     ]
    }
   ],
   "source": [
    "for i in df['Title'] :\n",
    "    if '유럽증시' in i :\n",
    "        print(i)"
   ]
  },
  {
   "cell_type": "code",
   "execution_count": 53,
   "id": "c533f4e5",
   "metadata": {},
   "outputs": [
    {
     "name": "stdout",
     "output_type": "stream",
     "text": [
      "2020년 마지막 거래일, 뉴욕증시도 사상 최고치 마감\n",
      "2020 뉴욕증시, 최고치 마감.. 천장 뚫었다\n",
      "2020년 뉴욕증시, 신고가로 마감..\"내년엔 모든 것이 좋을 것\"\n",
      "뉴욕증시, 올해 마지막 거래일에 신고점..다우·S&P500 장중 최고치\n",
      "[그래픽] 뉴욕증시, 사상 최고치로 2020년 마감\n",
      "[뉴욕증시] 2020년 사상 최고치 마감.. 다우·S&P 천장 뚫었다\n",
      "2020 뉴욕증시, 최고치 마감..'다우·S&P' 천장 뚫었다\n",
      "2020년 막내린 美뉴욕증시, 역대 최고가 '축포'\n",
      "롤러코스터 탄 2020년 뉴욕증시..다우·S&P, 역대최고 마감(종합)\n",
      "뉴욕증시, 사상 최고치로 2020년 상승 피날레..다우 0.65% 상승\n",
      "'아듀 2020' 뉴욕증시, 사상최고 마감..나스닥 연간 43%↑\n",
      "뉴욕증시, 올해 마지막 거래일에 신고점..나스닥, 연간 44% 급등 마감\n",
      "뉴욕증시, 2020년 사상 최고치 마감.. 나스닥 43% 폭등\n",
      "뉴욕증시, 사상 최고치로 2020년 마감..나스닥은 연간 43.6%↑\n",
      "뉴욕증시, 2020년 갈무리..고용 호조 속 혼조 출발\n",
      "뉴욕증시, 새해 맞아 휴장\n",
      "트럼프 '몽니'에 中 3대 통신사 뉴욕증시 퇴출\n",
      "트럼프 행정명령에..중국 3대 통신사, 새해 뉴욕증시서 퇴출\n",
      "뉴욕증시, 美 상원 결선투표 결과·고용통계에 주목\n",
      "<뉴욕증시 주간전망> 2021년 출발..조지아 선거·고용지표 촉각\n",
      "美 뉴욕증시, S&P500지수 장중 '최고치' 기록하며 2021년 출발\n",
      "[와우넷 공개방송] 뉴욕증시 최고치 마감, 국내시장 영향과 관심 종목은?\n",
      "[이슈분석] 코로나19發 불확실성 여전한 신축년..뉴욕증시 전망은\n",
      "뉴욕증시 반등 성공..3대 지수 장초반 상승\n",
      "'뉴욕증시 퇴출방침 철회'에 중국 증시 상승 마감\n",
      "코스피, 장중 2950선 돌파..뉴욕증시 새해 첫날 '휘청'\n",
      "뉴욕증시, 새해 첫날부터 하락..다우 1.25↓\n",
      "[3분전략] 뉴욕증시, 주요지수 하락 마감..국내증시는?\n",
      "뉴욕증시 급락에 코스피도 하락 출발..0.03% 내린 2943.67\n",
      "[뉴욕증시]새해 첫날 1.5%대 큰폭 하락..코로나·상원 투표 영향\n",
      "뉴욕증시, 조지아주 상원 선거 불확실성에 하락..다우 1.25%↓\n",
      "[뉴욕증시]새해 첫날부터 흔들린 주가..다우 1.3% 하락\n",
      "[뉴욕증시] '코로나19 확산' 새해 첫 거래일부터 하락.. 다우 1.25%↓\n",
      "뉴욕증시, 새해 첫 거래에 하락..모더나 7% 상승 [간밤 해외시황]\n",
      "뉴욕증시 새해 출발부터 삐걱..다우 1.3%↓, 두달만에 최대낙폭\n",
      "뉴욕증시, 조지아 선거·봉쇄 부담에 '털썩'..다우, 1.25% 하락 마감\n",
      "[속보] '새해 첫 거래일' 뉴욕증시 하락 마감..다우 1.25%↓\n",
      "뉴욕증시, 코로나 백신 접종·조지아 선거 촉각 혼조 출발\n"
     ]
    }
   ],
   "source": [
    "for i in df['Title'] :\n",
    "    if '뉴욕증시' in i :\n",
    "        print(i)"
   ]
  },
  {
   "cell_type": "code",
   "execution_count": 52,
   "id": "d79134f4",
   "metadata": {},
   "outputs": [
    {
     "name": "stdout",
     "output_type": "stream",
     "text": [
      "[베트남증시 29일 마감시황] VN지수 1.5% 상승, 1,120.47 마감..'VN지수 급등, 사상 최대 유동성' [KVINA]\n"
     ]
    }
   ],
   "source": [
    "for i in df['Title'] :\n",
    "    if '[베트남증시' in i :\n",
    "        print(i)"
   ]
  },
  {
   "cell_type": "code",
   "execution_count": null,
   "id": "34d46150",
   "metadata": {},
   "outputs": [],
   "source": []
  },
  {
   "cell_type": "code",
   "execution_count": null,
   "id": "72589647",
   "metadata": {},
   "outputs": [],
   "source": []
  },
  {
   "cell_type": "code",
   "execution_count": 47,
   "id": "b569ac1b",
   "metadata": {
    "scrolled": true
   },
   "outputs": [
    {
     "name": "stdout",
     "output_type": "stream",
     "text": [
      "[표] 외국환율고시표 (12월 30일)\n",
      "[표] 주간 주요 증시 지표\n",
      "[표] 주요국 증시 주간 동향\n",
      "[표]주간 코스닥 기관·외국인·개인 순매수·도 상위종목(12월 28~30일)\n",
      "[표]주간 유가증권 기관·외국인·개인 순매수·도 상위종목(12월 28~30일)\n",
      "[표]주간 유가증권·코스닥 투자주체별 매매동향(12월 28~30일)\n",
      "[표]유가증권·코스닥 유무상증자 일정\n",
      "[표]해외 주요 증시 동향(12월 31일)\n",
      "[표]아시아 주요 증시 동향(1월 4일)\n",
      "[표]유가증권·코스닥 투자주체별 매매동향(1월 4일-최종치)\n",
      "[표]코스닥 기관·외국인·개인 순매수·도 상위종목(1월 4일-최종치)\n",
      "[표]유가증권 기관·외국인·개인 순매수·도 상위종목(1월 4일-최종치)\n",
      "[표]K-OTC 시장 거래 현황(1/4)\n",
      "[표] 외국환율고시표 (1월 4일)\n",
      "[표]코스피200지수 옵션 시세(1월 4일)\n",
      "[표] 주요 증시 지표 (1월 4일)\n",
      "[표]코스피200지수·국채·달러 선물 시세(1월 4일)\n",
      "[표]채권 수익률 현황(1월 4일)\n",
      "[표]유가증권·코스닥 투자주체별 매매동향(1월 4일)\n",
      "[표]코스닥 기관·외국인·개인 순매수·도 상위종목(1월 4일)\n",
      "[표]유가증권 기관·외국인·개인 순매수·도 상위종목(1월 4일)\n",
      "[표]IPO·장외 주요 종목 시세(1월 4일)\n",
      "[표]KRX 금 시세(1월 4일)\n",
      "[표] 투자자별 매매동향(4일)\n",
      "[표]주간 해외 주요 증시 동향(12월28~31일)\n",
      "[표]해외 DR 가격(12월 31일)\n",
      "[표]아시아 주요 증시 동향(1월 5일)\n",
      "[표]유가증권·코스닥 투자주체별 매매동향(1월 5일-최종치)\n",
      "[표]코스닥 기관·외국인·개인 순매수·도 상위종목(1월 5일-최종치)\n",
      "[표]유가증권 기관·외국인·개인 순매수·도 상위종목(1월 5일-최종치)\n",
      "[표] 외국환율고시표 (1월 5일)\n",
      "[표] 주요 증시 지표 (1월 5일)\n",
      "[표]장외주식 거래현황(1/5)\n",
      "[표]코스피200지수 옵션 시세(1월 5일)\n",
      "[표]코스피200지수·국채·달러 선물 시세(1월 5일)\n",
      "[표]05일 오전 채권시장 - 금리동향\n",
      "[표]증시주변 자금동향 (1/4)\n",
      "[표]05일 채권시장 종합 - 금리동향\n",
      "[표]K-OTC 시장 거래 현황(1/5)\n",
      "[표]코스피 기관/외국인 매매동향(1/5 3시30분)\n",
      "[표]코스닥 기관/외국인 매매동향(1/5 3시30분)\n",
      "[표]주가지수선물 투자자별 매매동향(1/5)\n",
      "[표]거래소 주가지수선물·옵션시세표(1/5)\n",
      "[표]채권 수익률 현황(1월 5일)\n",
      "[표]IPO·장외 주요 종목 시세(1월 5일)\n",
      "[표]KRX 금 시세(1월 5일)\n",
      "[표]유가증권·코스닥 투자주체별 매매동향(1월 5일)\n",
      "[표]코스닥 기관·외국인·개인 순매수·도 상위종목(1월 5일)\n",
      "[표]유가증권 기관·외국인·개인 순매수·도 상위종목(1월 5일)\n",
      "[표] 투자자별 매매동향(5일)\n",
      "[표]유럽 주요기업 주가(1/4)\n",
      "[표]해외 한국 DR 주간등락률\n",
      "[표]일본 주요기업 주가(1/4)\n",
      "[표]삼진엘앤디 등 코스닥 자사주 신청내역(5일)\n",
      "[표]신원 등 코스피 자사주 신청내역(5일)\n",
      "[표]코스피 외국인 연속 순매수 종목(4일)\n",
      "[표]코스피 외국인 연속 순매도 종목(4일)\n",
      "[표]코스닥 외국인 연속 순매수 종목(4일)\n",
      "[표]코스닥 외국인 연속 순매도 종목(4일)\n",
      "[표]해외 DR 가격(1월 4일)\n",
      "[표]해외 주요 증시 동향(1월 4일)\n",
      "[표]미국 주요기업 주가(1/4)\n",
      "[표]해외 한국 DR(1/4)\n"
     ]
    }
   ],
   "source": [
    "for i in df['Title'] :\n",
    "    if '[표]' in i :\n",
    "        print(i)"
   ]
  },
  {
   "cell_type": "code",
   "execution_count": null,
   "id": "5e3fb85c",
   "metadata": {},
   "outputs": [],
   "source": []
  },
  {
   "cell_type": "code",
   "execution_count": null,
   "id": "725952ac",
   "metadata": {},
   "outputs": [],
   "source": []
  },
  {
   "cell_type": "code",
   "execution_count": null,
   "id": "f63bf42d",
   "metadata": {},
   "outputs": [],
   "source": []
  }
 ],
 "metadata": {
  "kernelspec": {
   "display_name": "Python 3 (ipykernel)",
   "language": "python",
   "name": "python3"
  },
  "language_info": {
   "codemirror_mode": {
    "name": "ipython",
    "version": 3
   },
   "file_extension": ".py",
   "mimetype": "text/x-python",
   "name": "python",
   "nbconvert_exporter": "python",
   "pygments_lexer": "ipython3",
   "version": "3.9.12"
  },
  "toc": {
   "base_numbering": 1,
   "nav_menu": {},
   "number_sections": true,
   "sideBar": true,
   "skip_h1_title": false,
   "title_cell": "Table of Contents",
   "title_sidebar": "Contents",
   "toc_cell": false,
   "toc_position": {},
   "toc_section_display": true,
   "toc_window_display": false
  },
  "varInspector": {
   "cols": {
    "lenName": 16,
    "lenType": 16,
    "lenVar": 40
   },
   "kernels_config": {
    "python": {
     "delete_cmd_postfix": "",
     "delete_cmd_prefix": "del ",
     "library": "var_list.py",
     "varRefreshCmd": "print(var_dic_list())"
    },
    "r": {
     "delete_cmd_postfix": ") ",
     "delete_cmd_prefix": "rm(",
     "library": "var_list.r",
     "varRefreshCmd": "cat(var_dic_list()) "
    }
   },
   "types_to_exclude": [
    "module",
    "function",
    "builtin_function_or_method",
    "instance",
    "_Feature"
   ],
   "window_display": false
  }
 },
 "nbformat": 4,
 "nbformat_minor": 5
}
